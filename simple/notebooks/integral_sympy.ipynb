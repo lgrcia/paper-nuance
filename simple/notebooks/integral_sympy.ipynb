{
 "cells": [
  {
   "cell_type": "markdown",
   "id": "a50c1e70-9c9e-4b02-b3cd-e839494052f9",
   "metadata": {},
   "source": [
    "$$p(y \\vert P, T_0 ,D, \\Delta)$$"
   ]
  },
  {
   "cell_type": "markdown",
   "id": "ffb5fe8c-ff52-4328-a937-778adace98b4",
   "metadata": {},
   "source": [
    "$$p(y \\vert P, T_0 ,D, \\Delta) =  \\prod_k p(y \\vert T_k ,D, \\Delta)$$\n",
    "\n",
    "$$ p(y \\vert T_k ,D, \\Delta) = \\int p(y \\vert T_k ,D, \\tilde\\Delta) \\cdot p(\\tilde\\Delta \\vert \\Delta) \\tilde\\Delta$$"
   ]
  },
  {
   "cell_type": "markdown",
   "id": "25851fc3-ab44-4d6f-afb2-bca7b2c798fc",
   "metadata": {},
   "source": [
    "$$p(\\tilde\\Delta \\vert \\Delta) = N(\\Delta, \\Sigma) \\quad \\text{with} \\quad  \n",
    "\\frac{1}{\\Sigma^2} = \\sum_{k}\\frac{1}{\\sigma_k^2} \\quad and \\quad\n",
    "\\Delta = \\Sigma^2 \\sum_{k}{\\frac{\\Delta_k}{\\sigma_k^2}}$$"
   ]
  },
  {
   "cell_type": "markdown",
   "id": "6afa5e2c-7c81-4c06-8c90-44ef6811c5d6",
   "metadata": {},
   "source": [
    "$$\\text{and} \\quad p(y \\vert T_k ,D, \\tilde{\\Delta}) = N(\\Delta_k, \\sigma_k) $$"
   ]
  },
  {
   "cell_type": "markdown",
   "id": "4da33731-76bd-44be-ba5b-b485618e7973",
   "metadata": {},
   "source": [
    "$$p(y \\vert P, T_0 ,D, \\Delta) =  \\prod_k \\int N(\\Delta_k, \\sigma_k) \\cdot N(\\Delta, \\Sigma) \\; d\\tilde{\\Delta}$$"
   ]
  },
  {
   "cell_type": "markdown",
   "id": "875bbb78-a894-4c0d-9f52-bbe60dad4932",
   "metadata": {},
   "source": [
    "$$\\int N(\\Delta_k, \\sigma_k) \\cdot N(\\Delta, \\Sigma) \\; d\\tilde{\\Delta} = - \\frac{\\left(\\Delta_{k} - \\bar\\Delta\\right)^{2}}{2 \\left(\\bar\\sigma^{2} + \\sigma_{k}^{2}\\right)} - \\frac{\\log{\\left(\\bar\\sigma^{2} + \\sigma_{k}^{2} \\right)}}{2} - \\frac{\\log{\\left(\\pi \\right)}}{2} - \\frac{\\log{\\left(2 \\right)}}{2}$$"
   ]
  },
  {
   "cell_type": "markdown",
   "id": "acc35d0c-29e8-49cd-9182-d0ece93b3e2e",
   "metadata": {},
   "source": [
    "$$\\ln(p(y \\vert P, T_0 ,D, \\Delta)) =  \\sum_k - \\frac{\\left(\\Delta_{k} - \\bar\\Delta\\right)^{2}}{2 \\left(\\bar\\sigma^{2} + \\sigma_{k}^{2}\\right)} - \\frac{\\log{\\left(\\bar\\sigma^{2} + \\sigma_{k}^{2} \\right)}}{2} - \\frac{\\log{\\left(\\pi \\right)}}{2} - \\frac{\\log{\\left(2 \\right)}}{2}$$"
   ]
  },
  {
   "cell_type": "markdown",
   "id": "f4df18aa-42f2-48e3-ba83-7f2859c52935",
   "metadata": {},
   "source": [
    "## The product of two gaussian from sympy"
   ]
  },
  {
   "cell_type": "code",
   "execution_count": 1,
   "id": "767e4cc4-6dea-4477-921a-d116e0c13e14",
   "metadata": {},
   "outputs": [],
   "source": [
    "import sympy\n",
    "from sympy.stats import Normal, density\n",
    "from sympy import oo\n",
    "\n",
    "x = sympy.symbols('x', real=True)\n",
    "a = sympy.symbols(r\"\\Delta_k\", real=True)\n",
    "b = sympy.symbols(r\"\\bar\\Delta\", real=True)\n",
    "sa = sympy.symbols(\"\\sigma_k\", real=True, positive=True)\n",
    "sb = sympy.symbols(r\"\\bar\\sigma\", real=True, positive=True)\n",
    "amp_a, amp_b = sympy.symbols('A, B', real=True)"
   ]
  },
  {
   "cell_type": "code",
   "execution_count": 2,
   "id": "24980a88-b7c9-43b3-b02c-7540d36df351",
   "metadata": {},
   "outputs": [],
   "source": [
    "A = amp_a * density(Normal(\"A\", a, sa))(x) \n",
    "B = amp_b * density(Normal(\"B\", b, sb))(x)\n",
    "AB = A*B\n",
    "\n",
    "f_A = sympy.lambdify((x, amp_a, a, sa), A)\n",
    "f_B = sympy.lambdify((x, amp_b, b, sb), B)\n",
    "f_sympy_AB_product = sympy.lambdify((x, amp_a, amp_b, a, b, sa, sb), AB)"
   ]
  },
  {
   "cell_type": "code",
   "execution_count": 3,
   "id": "dde84476-67e3-426a-8def-2cacdfe83058",
   "metadata": {},
   "outputs": [
    {
     "data": {
      "text/plain": [
       "[<matplotlib.lines.Line2D at 0x7fe3936b7e20>]"
      ]
     },
     "execution_count": 3,
     "metadata": {},
     "output_type": "execute_result"
    },
    {
     "data": {
      "image/png": "[encoded data removed]",
      "text/plain": [
       "<Figure size 432x288 with 1 Axes>"
      ]
     },
     "metadata": {
      "needs_background": "light"
     },
     "output_type": "display_data"
    }
   ],
   "source": [
    "import numpy as np\n",
    "import matplotlib.pyplot as plt\n",
    "\n",
    "_a, _b, _s, _amp_a, _amp_b = -0.25, 0.25, 0.15, 3., 2.\n",
    "_x = np.linspace(-2, 2, 5000)\n",
    "plt.plot(f_A(_x, _amp_a, _a, _s), c=\"k\", alpha=0.4)\n",
    "plt.plot(f_B(_x, _amp_b, _b, _s), c=\"k\", alpha=0.4)\n",
    "plt.plot(f_sympy_AB_product(_x, _amp_a, _amp_b, _a, _b, _s, _s), c=\"k\")"
   ]
  },
  {
   "cell_type": "markdown",
   "id": "3afffc2a-49f1-4aac-bd1d-d9fc7f6738ef",
   "metadata": {
    "tags": []
   },
   "source": [
    "## An analytical version to compare to the product"
   ]
  },
  {
   "cell_type": "code",
   "execution_count": 4,
   "id": "86205b7d-2684-4f5f-93b3-d1b40c0b06f5",
   "metadata": {},
   "outputs": [],
   "source": [
    "a_s = sympy.sqrt(1/(1/sa**2 + 1/sb**2))\n",
    "a_m = (a/sa**2 + b/sb**2)*a_s**2\n",
    "S = 1/sympy.sqrt(2*sympy.pi*sa**2 * sb**2/a_s**2)*sympy.exp(-(a-b)**2/(2*sa**2 * sb**2) * a_s**2)\n",
    "\n",
    "analytical_product = amp_a*amp_b*S*density(Normal(\"A\", a_m, a_s))(x)\n",
    "f_analytical_product = sympy.lambdify((x, amp_a, amp_b, a, sa, b, sb), analytical_product)"
   ]
  },
  {
   "cell_type": "code",
   "execution_count": 5,
   "id": "eafdb0ec-fc1d-4e41-b595-89de09f97534",
   "metadata": {},
   "outputs": [
    {
     "data": {
      "text/plain": [
       "[<matplotlib.lines.Line2D at 0x7fe3938e1790>]"
      ]
     },
     "execution_count": 5,
     "metadata": {},
     "output_type": "execute_result"
    },
    {
     "data": {
      "image/png": "[encoded data removed]",
      "text/plain": [
       "<Figure size 432x288 with 1 Axes>"
      ]
     },
     "metadata": {
      "needs_background": "light"
     },
     "output_type": "display_data"
    }
   ],
   "source": [
    "plt.plot(f_sympy_AB_product(_x, _amp_a, _amp_b, _a, _b, _s, _s), c=\"k\")\n",
    "plt.plot(f_analytical_product(_x, _amp_a, _amp_b, _a, _s, _b, _s))"
   ]
  },
  {
   "cell_type": "markdown",
   "id": "55458f3a-6cd0-4be9-8ece-8609f935c718",
   "metadata": {},
   "source": [
    "seems to match"
   ]
  },
  {
   "cell_type": "code",
   "execution_count": 6,
   "id": "47edd957-fefd-4a22-ba2e-bafb4c39b717",
   "metadata": {},
   "outputs": [],
   "source": [
    "sympy_integral_product = sympy.simplify(sympy.integrate(analytical_product, (x, -oo, oo)))\n",
    "f_sympy_integral_product = sympy.lambdify((amp_a, amp_b, a, b, sa, sb), sympy_integral_product)"
   ]
  },
  {
   "cell_type": "code",
   "execution_count": 7,
   "id": "071ecc37-5e63-4da8-954f-3469a6bc142b",
   "metadata": {},
   "outputs": [
    {
     "name": "stdout",
     "output_type": "stream",
     "text": [
      "True\n",
      "True\n",
      "True\n"
     ]
    }
   ],
   "source": [
    "from scipy.integrate import quad\n",
    "\n",
    "def gauss(x, a=0, va=1.):\n",
    "    return 1./np.sqrt(2*np.pi*va)*np.exp(-0.5*np.square(a-x)/va)\n",
    "\n",
    "def integral_product(A, B, a, b, va, vb):\n",
    "    return np.exp(-0.5 * np.square(a-b)/(va +vb) - 0.5*np.log(va+vb) - 0.5*np.log(np.pi) - np.log(2)/2 + np.log(A) + np.log(B))\n",
    "\n",
    "_A=0.3; mean_a = 4; va = 1\n",
    "_B=3.; mean_b = 1; vb = 0.5\n",
    "\n",
    "def f(x):\n",
    "    return _A*_B*gauss(x,mean_a, va)*gauss(x, mean_b, vb)\n",
    "\n",
    "analytic = integral_product(_A, _B, mean_a, mean_b, va, vb)\n",
    "analytic_sympy = f_sympy_integral_product(_A, _B, mean_a, mean_b, np.sqrt(va), np.sqrt(vb))\n",
    "numeric, error = quad(f, -np.inf, np.inf)\n",
    "print(np.abs(analytic - numeric) < error)\n",
    "print(np.abs(analytic_sympy - numeric) < error)\n",
    "print(np.abs(analytic_sympy - analytic) < error)"
   ]
  },
  {
   "cell_type": "code",
   "execution_count": 225,
   "id": "af6efb07-b7cc-41b5-8e08-e80fe87e0618",
   "metadata": {},
   "outputs": [
    {
     "data": {
      "text/latex": [
       "$\\displaystyle - \\frac{\\left(\\Delta_{k} - \\bar\\Delta\\right)^{2}}{2 \\left(\\bar\\sigma^{2} + \\sigma_{k}^{2}\\right)} + \\log{\\left(A B \\right)} - \\frac{\\log{\\left(\\bar\\sigma^{2} + \\sigma_{k}^{2} \\right)}}{2} - \\frac{\\log{\\left(\\pi \\right)}}{2} - \\frac{\\log{\\left(2 \\right)}}{2}$"
      ],
      "text/plain": [
       "-(\\Delta_k - \\bar\\Delta)**2/(2*(\\bar\\sigma**2 + \\sigma_k**2)) + log(A*B) - log(\\bar\\sigma**2 + \\sigma_k**2)/2 - log(pi)/2 - log(2)/2"
      ]
     },
     "execution_count": 225,
     "metadata": {},
     "output_type": "execute_result"
    }
   ],
   "source": [
    "result = sympy.expand_log(sympy.log(sympy_integral_product))\n",
    "result"
   ]
  },
  {
   "cell_type": "code",
   "execution_count": 9,
   "id": "b867895f-188f-4fd4-beb1-e290670c7d94",
   "metadata": {},
   "outputs": [
    {
     "data": {
      "text/latex": [
       "$\\displaystyle \\frac{\\sqrt{2} A B e^{- \\frac{\\left(\\Delta_{k} - \\bar\\Delta\\right)^{2}}{2 \\left(\\bar\\sigma^{2} + \\sigma_{k}^{2}\\right)}}}{2 \\sqrt{\\pi} \\sqrt{\\bar\\sigma^{2} + \\sigma_{k}^{2}}}$"
      ],
      "text/plain": [
       "sqrt(2)*A*B*exp(-(\\Delta_k - \\bar\\Delta)**2/(2*(\\bar\\sigma**2 + \\sigma_k**2)))/(2*sqrt(pi)*sqrt(\\bar\\sigma**2 + \\sigma_k**2))"
      ]
     },
     "execution_count": 9,
     "metadata": {},
     "output_type": "execute_result"
    }
   ],
   "source": [
    "sympy.simplify(sympy_integral_product)"
   ]
  },
  {
   "cell_type": "code",
   "execution_count": 11,
   "id": "58066592-e9fc-4848-a92f-7553236095c5",
   "metadata": {},
   "outputs": [
    {
     "name": "stdout",
     "output_type": "stream",
     "text": [
      "\\frac{\\sqrt{2} A B e^{- \\frac{\\left(\\Delta_{k} - \\bar\\Delta\\right)^{2}}{2 \\left(\\bar\\sigma^{2} + \\sigma_{k}^{2}\\right)}}}{2 \\sqrt{\\pi} \\sqrt{\\bar\\sigma^{2} + \\sigma_{k}^{2}}}\n"
     ]
    }
   ],
   "source": [
    "print(sympy.latex(sympy_integral_product))"
   ]
  },
  {
   "cell_type": "markdown",
   "id": "e9c47dd0-c29e-46c3-8356-497f4d7f1301",
   "metadata": {},
   "source": [
    "$$\\frac{1}{\\sqrt{2\\pi \\left(\\sigma^{2} + \\sigma_{k}^{2}\\right)}} e^{- \\frac{1}{2}\\frac{\\left(\\Delta -  \\Delta_{k}\\right)^{2}}{\\left(\\sigma^{2} + \\sigma_{k}^{2}\\right)}}$$"
   ]
  },
  {
   "cell_type": "markdown",
   "id": "9be4a25f-ab9b-460b-8db5-08e97ec4b450",
   "metadata": {},
   "source": [
    "$$e^{- \\frac{\\left(\\Delta_{k} - \\bar\\Delta\\right)^{2}}{2 \\left(\\bar\\sigma^{2} + \\sigma_{k}^{2}\\right)}}$$"
   ]
  },
  {
   "cell_type": "code",
   "execution_count": 164,
   "id": "79809934-bb44-4d03-b06e-18a082e81f0b",
   "metadata": {},
   "outputs": [
    {
     "name": "stdout",
     "output_type": "stream",
     "text": [
      "- \\frac{\\left(\\Delta_{k} - \\bar\\Delta\\right)^{2}}{2 \\left(\\bar\\sigma^{2} + \\sigma_{k}^{2}\\right)} - \\frac{\\log{\\left(\\bar\\sigma^{2} + \\sigma_{k}^{2} \\right)}}{2} - \\frac{\\log{\\left(\\pi \\right)}}{2} - \\frac{\\log{\\left(2 \\right)}}{2}\n"
     ]
    }
   ],
   "source": [
    "print(sympy.latex(result))"
   ]
  }
 ],
 "metadata": {
  "kernelspec": {
   "display_name": "Python 3 (ipykernel)",
   "language": "python",
   "name": "python3"
  },
  "language_info": {
   "codemirror_mode": {
    "name": "ipython",
    "version": 3
   },
   "file_extension": ".py",
   "mimetype": "text/x-python",
   "name": "python",
   "nbconvert_exporter": "python",
   "pygments_lexer": "ipython3",
   "version": "3.8.12"
  }
 },
 "nbformat": 4,
 "nbformat_minor": 5
}
