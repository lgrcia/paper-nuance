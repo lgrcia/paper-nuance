{
 "cells": [
  {
   "cell_type": "code",
   "execution_count": 1,
   "id": "0e41e93b-6199-4ab2-8d19-0be1080c113f",
   "metadata": {},
   "outputs": [],
   "source": [
    "import sympy as s\n",
    "\n",
    "P, t0, D, t, c = s.symbols(\"P, T_0, D, t, c\")\n",
    "theta = P/(s.pi*D)*s.sin(s.pi*(t-t0)/P)"
   ]
  },
  {
   "cell_type": "code",
   "execution_count": 2,
   "id": "39863bb1-754e-4ace-bfdc-9cca23558aee",
   "metadata": {},
   "outputs": [
    {
     "data": {
      "text/latex": [
       "$\\displaystyle \\frac{P \\sin{\\left(\\frac{\\pi \\left(- T_{0} + t\\right)}{P} \\right)}}{\\pi D}$"
      ],
      "text/plain": [
       "P*sin(pi*(-T_0 + t)/P)/(pi*D)"
      ]
     },
     "execution_count": 2,
     "metadata": {},
     "output_type": "execute_result"
    }
   ],
   "source": [
    "theta = P/(s.pi*D)*s.sin(s.pi*(t-t0)/P)\n",
    "theta"
   ]
  },
  {
   "cell_type": "code",
   "execution_count": 3,
   "id": "2a47911b-2972-426b-a7de-c4aec724b328",
   "metadata": {},
   "outputs": [
    {
     "data": {
      "text/latex": [
       "$\\displaystyle 0.5 \\tanh{\\left(c \\left(-0.5 + \\frac{P \\sin{\\left(\\frac{\\pi \\left(- T_{0} + t\\right)}{P} \\right)}}{\\pi D}\\right) \\right)} - 0.5 \\tanh{\\left(c \\left(0.5 + \\frac{P \\sin{\\left(\\frac{\\pi \\left(- T_{0} + t\\right)}{P} \\right)}}{\\pi D}\\right) \\right)}$"
      ],
      "text/plain": [
       "0.5*tanh(c*(-0.5 + P*sin(pi*(-T_0 + t)/P)/(pi*D))) - 0.5*tanh(c*(0.5 + P*sin(pi*(-T_0 + t)/P)/(pi*D)))"
      ]
     },
     "execution_count": 3,
     "metadata": {},
     "output_type": "execute_result"
    }
   ],
   "source": [
    "mu = -0.5 * s.tanh(c*(theta + 0.5)) + 0.5 * s.tanh(c*(theta - 0.5))\n",
    "mu"
   ]
  },
  {
   "cell_type": "code",
   "execution_count": 4,
   "id": "dd33b5e2-037f-427d-9adb-f84e3fa38f5c",
   "metadata": {},
   "outputs": [
    {
     "data": {
      "text/latex": [
       "$\\displaystyle - \\frac{\\tanh{\\left(\\frac{c \\left(D - 2 T_{0} + 2 t\\right)}{2 D} \\right)}}{2} - \\frac{\\tanh{\\left(\\frac{c \\left(D + 2 T_{0} - 2 t\\right)}{2 D} \\right)}}{2}$"
      ],
      "text/plain": [
       "-tanh(c*(D - 2*T_0 + 2*t)/(2*D))/2 - tanh(c*(D + 2*T_0 - 2*t)/(2*D))/2"
      ]
     },
     "execution_count": 4,
     "metadata": {},
     "output_type": "execute_result"
    }
   ],
   "source": [
    "mu_s = s.simplify(s.limit(mu, P, s.oo))\n",
    "mu_s"
   ]
  },
  {
   "cell_type": "code",
   "execution_count": 9,
   "id": "39428ca1-a7f6-435c-9a7e-f185786268e5",
   "metadata": {},
   "outputs": [
    {
     "data": {
      "image/png": "[encoded data removed]",
      "text/plain": [
       "<Figure size 648x108 with 4 Axes>"
      ]
     },
     "metadata": {
      "needs_background": "light"
     },
     "output_type": "display_data"
    }
   ],
   "source": [
    "import numpy as np\n",
    "import matplotlib.pyplot as plt\n",
    "\n",
    "def f(t, t0, D, c):\n",
    "    return -0.5*np.tanh(c*(D-(2*t0)+(2*t))/(2*D)) - 0.5*np.tanh(c*(D+(2*t0)-(2*t))/(2*D))\n",
    "\n",
    "cs = [1,5,12,500]\n",
    "fig, axes = plt.subplots(1, len(cs), figsize=(9,1.5))\n",
    "x = np.linspace(0, 1, 2000)\n",
    "\n",
    "for i, ax in enumerate(axes):\n",
    "    _t0 = x.mean()\n",
    "    ax.plot(x, f(x, _t0, 0.2*x.max(), cs[i]), c=\"0.3\")\n",
    "    ax.axis(\"off\")\n",
    "    ax.text(_t0, -1.3, f\"$c={{{cs[i]}}}$\", ha='center')\n",
    "    ax.set_ylim(-1.4, 0.1)\n",
    "\n",
    "plt.savefig(\"../figures/protopapas.pdf\")"
   ]
  },
  {
   "cell_type": "code",
   "execution_count": null,
   "id": "a8bdf642-2fb3-4b1d-8946-7d9d8d51b0e1",
   "metadata": {},
   "outputs": [],
   "source": []
  }
 ],
 "metadata": {
  "kernelspec": {
   "display_name": "Python 3 (ipykernel)",
   "language": "python",
   "name": "python3"
  },
  "language_info": {
   "codemirror_mode": {
    "name": "ipython",
    "version": 3
   },
   "file_extension": ".py",
   "mimetype": "text/x-python",
   "name": "python",
   "nbconvert_exporter": "python",
   "pygments_lexer": "ipython3",
   "version": "3.8.12"
  }
 },
 "nbformat": 4,
 "nbformat_minor": 5
}
