{
 "cells": [
  {
   "cell_type": "code",
   "execution_count": 13,
   "metadata": {},
   "outputs": [],
   "source": [
    "import matplotlib.pyplot as plt\n",
    "import numpy as np\n",
    "import astropy.units as u\n",
    "import astropy.constants as c\n",
    "import pandas as pd"
   ]
  },
  {
   "cell_type": "code",
   "execution_count": 14,
   "metadata": {},
   "outputs": [],
   "source": [
    "# File from https://tasoc.dk/docs/release_notes/tess_sector_04_drn05_v03.pdf Fig. 6.\n",
    "df = pd.read_csv(\"tess_cdpp.csv\", header=None, sep=\";\")"
   ]
  },
  {
   "cell_type": "code",
   "execution_count": 15,
   "metadata": {},
   "outputs": [],
   "source": [
    "cdpp = df[1]*1e-6 # conversion from ppm\n",
    "cdpp_Tmag = df[0]\n",
    "\n",
    "# This give the rms on 2 min bins\n",
    "def CDPP_2min(tmag):\n",
    "    return cdpp[np.argmin(np.abs(tmag-cdpp_Tmag.values))] * np.sqrt(30)"
   ]
  },
  {
   "cell_type": "code",
   "execution_count": 16,
   "metadata": {},
   "outputs": [
    {
     "data": {
      "image/png": "[encoded data removed]",
      "text/plain": [
       "<Figure size 432x288 with 1 Axes>"
      ]
     },
     "metadata": {
      "needs_background": "light"
     },
     "output_type": "display_data"
    }
   ],
   "source": [
    "# Here is the same as 10-th percentile CDPP on the S4 report fig 6\n",
    "plt.plot(cdpp_Tmag, cdpp, \".\")\n",
    "plt.yscale('log')"
   ]
  },
  {
   "cell_type": "code",
   "execution_count": 17,
   "metadata": {},
   "outputs": [],
   "source": [
    "#I load some necessary lists\n",
    "\n",
    "TESS_list = pd.read_csv(\"wg4_target_list.csv\", skiprows=[1])\n",
    "SP_list = pd.read_csv(\"last_from_daniel.csv\")\n",
    "Tmag = TESS_list[\"Tmag\"].values"
   ]
  },
  {
   "cell_type": "markdown",
   "metadata": {},
   "source": [
    "This is what I use:\n",
    "\n",
    "If we assume that the star behave as a black body. we have the planet iradiation:\n",
    "\n",
    "\\begin{equation}\n",
    "E_{p} = \\frac{R_{\\star}^2}{a_{\\star}^2}\\sigma T_{\\star}^4\n",
    "\\end{equation}\n",
    "\n",
    "with $a$ the orbit semi-major axis. $a$ can then be expressed for a planet of $i\\times E_{\\otimes}$:\n",
    "\n",
    "\\begin{equation}\n",
    "    E_{p} = iE_{\\otimes} \\Rightarrow a = \\frac{1}{\\sqrt{i}}\\frac{R_{\\star}}{R_{\\odot}}\\left( \\frac{T_{\\star}}{T_{\\odot}} \\right)^2 au\n",
    "\\end{equation}\n",
    "\n",
    "\n",
    "We can then compute the period $P$ using Kepler's third law:\n",
    "\n",
    "\\begin{equation}\n",
    "    \\frac{a^3}{P^2} = \\frac{GM}{4 \\pi ^2} \\Rightarrow P = \\left( \\frac{4\\pi ^2a^3}{GM} \\right)^{1/2}\n",
    "\\end{equation}\n",
    "    \n",
    "\n",
    "and the transit duration $D$ as (Exoplanet handbook):\n",
    "\n",
    "\\begin{equation}\n",
    "D = 13 \\left(\\frac{M_{\\odot}}{M_{\\star}}\\right)^{1/2}\\left(\\frac{a}{au}\\right)^{1/2}\\left(\\frac{R_{\\star}}{R_{\\odot}}\\right)^{1/2} hours\n",
    "\\end{equation}\n",
    "\n",
    "If $N$ is the total number of points of the light-curve sampled at $\\delta t$, we simply have:\n",
    "\n",
    "\\begin{equation}\n",
    "    d = r^2/R_{\\star}^2 \\quad\\quad n = ND/P\n",
    "\\end{equation}\n",
    "\n",
    "And finally I use\n",
    "\n",
    "\n",
    " \\begin{equation}\n",
    "    SNR = \\frac{d}{\\sigma_{2min}}\\sqrt{n}\n",
    "\\end{equation}\n",
    "\n",
    "with \n",
    "\n",
    "\\begin{equation}\n",
    "    \\sigma_{2min} = \\sqrt{30}\\times CDPP_{1hour}\n",
    "\\end{equation}\n"
   ]
  },
  {
   "cell_type": "code",
   "execution_count": null,
   "metadata": {},
   "outputs": [
    {
     "ename": "NameError",
     "evalue": "name 'u' is not defined",
     "output_type": "error",
     "traceback": [
      "\u001b[0;31m---------------------------------------------------------------------------\u001b[0m",
      "\u001b[0;31mNameError\u001b[0m                                 Traceback (most recent call last)",
      "Input \u001b[0;32mIn [1]\u001b[0m, in \u001b[0;36m<cell line: 2>\u001b[0;34m()\u001b[0m\n\u001b[1;32m      1\u001b[0m \u001b[38;5;66;03m# Here is the SNR computed from stellar params, \u001b[39;00m\n\u001b[0;32m----> 2\u001b[0m \u001b[38;5;28;01mdef\u001b[39;00m \u001b[38;5;21mSNR\u001b[39m(R, M, Teff, r\u001b[38;5;241m=\u001b[39m\u001b[38;5;241m1\u001b[39m\u001b[38;5;241m*\u001b[39m\u001b[43mu\u001b[49m\u001b[38;5;241m.\u001b[39mR_earth, Irr\u001b[38;5;241m=\u001b[39m\u001b[38;5;241m4\u001b[39m, sw\u001b[38;5;241m=\u001b[39m\u001b[38;5;28;01mNone\u001b[39;00m):\n\u001b[1;32m      4\u001b[0m     depth \u001b[38;5;241m=\u001b[39m (r\u001b[38;5;241m.\u001b[39mto(u\u001b[38;5;241m.\u001b[39mR_sun)\u001b[38;5;241m/\u001b[39mR)\u001b[38;5;241m*\u001b[39m\u001b[38;5;241m*\u001b[39m\u001b[38;5;241m2\u001b[39m\n\u001b[1;32m      5\u001b[0m     \u001b[38;5;66;03m# Period from black-body approximation\u001b[39;00m\n",
      "\u001b[0;31mNameError\u001b[0m: name 'u' is not defined"
     ]
    }
   ],
   "source": [
    "# Here is the SNR computed from stellar params, \n",
    "def SNR(R, M, Teff, r=1*u.R_earth, Irr=4, sw=None):\n",
    "    \n",
    "    depth = (r.to(u.R_sun)/R)**2\n",
    "    # Period from black-body approximation\n",
    "    a = (1/np.sqrt(Irr))*(R/u.R_sun)*((Teff/(5772*u.K))**2) * u.au\n",
    "    P = np.sqrt((a.to(u.m)**3 * 4 * (np.pi**2)) / (c.G * M.to(u.kg))).to(u.day)\n",
    "\n",
    "    T = 13 * (u.M_sun/M)**(1/2) * (a/u.au)**(1/2) * np.(R/u.R_sun) * u.hour\n",
    "    \n",
    "    #signal characteristics\n",
    "    # 2 x 27 days of observation at 2 min\n",
    "    dt = (2*u.minute).to(u.hour)\n",
    "    N = (2*27*u.day).to(u.minute)/(2*u.minute)\n",
    "\n",
    "    # SNR including red noise from Pont et al, 2006\n",
    "    n = (N*T.to(u.day))/P\n",
    "    SNR = (depth/sw) * np.sqrt(n)\n",
    "    \n",
    "    return SNR.value"
   ]
  },
  {
   "cell_type": "code",
   "execution_count": null,
   "metadata": {},
   "outputs": [
    {
     "ename": "NameError",
     "evalue": "name 'TESS_list' is not defined",
     "output_type": "error",
     "traceback": [
      "\u001b[0;31m---------------------------------------------------------------------------\u001b[0m",
      "\u001b[0;31mNameError\u001b[0m                                 Traceback (most recent call last)",
      "Input \u001b[0;32mIn [2]\u001b[0m, in \u001b[0;36m<cell line: 6>\u001b[0;34m()\u001b[0m\n\u001b[1;32m      3\u001b[0m SNRs_program_1 \u001b[38;5;241m=\u001b[39m []\n\u001b[1;32m      4\u001b[0m SNRs_program_2 \u001b[38;5;241m=\u001b[39m []\n\u001b[0;32m----> 6\u001b[0m \u001b[38;5;28;01mfor\u001b[39;00m sp_id \u001b[38;5;129;01min\u001b[39;00m \u001b[43mTESS_list\u001b[49m[\u001b[38;5;124m\"\u001b[39m\u001b[38;5;124m#Sp_ID\u001b[39m\u001b[38;5;124m\"\u001b[39m]:\n\u001b[1;32m      7\u001b[0m     sp_row \u001b[38;5;241m=\u001b[39m SP_list\u001b[38;5;241m.\u001b[39mloc[SP_list[\u001b[38;5;124m\"\u001b[39m\u001b[38;5;124mspc\u001b[39m\u001b[38;5;124m\"\u001b[39m] \u001b[38;5;241m==\u001b[39m sp_id]\n\u001b[1;32m      8\u001b[0m     R \u001b[38;5;241m=\u001b[39m sp_row[\u001b[38;5;124m\"\u001b[39m\u001b[38;5;124mradius\u001b[39m\u001b[38;5;124m\"\u001b[39m]\u001b[38;5;241m.\u001b[39mvalues[\u001b[38;5;241m0\u001b[39m] \u001b[38;5;241m*\u001b[39m u\u001b[38;5;241m.\u001b[39mR_sun\n",
      "\u001b[0;31mNameError\u001b[0m: name 'TESS_list' is not defined"
     ]
    }
   ],
   "source": [
    "# I compute the SNR for all target in the TESS list and separate program 1 and 2\n",
    "\n",
    "SNRs_program_1 = []\n",
    "SNRs_program_2 = []\n",
    "\n",
    "for sp_id in TESS_list[\"#Sp_ID\"]:\n",
    "    sp_row = SP_list.loc[SP_list[\"spc\"] == sp_id]\n",
    "    R = sp_row[\"radius\"].values[0] * u.R_sun\n",
    "    M = sp_row[\"mass\"].values[0] * u.M_sun\n",
    "    Teff = sp_row[\"teff\"].values[0] * u.K\n",
    "    Tmag = TESS_list.loc[TESS_list[\"#Sp_ID\"] == sp_id][\"Tmag\"].values[0]\n",
    "    \n",
    "    sigma_white_2min = CDPP_2min(Tmag)\n",
    "    snr = SNR(R, M, Teff, sw=sigma_white_2min)\n",
    "    \n",
    "    if sp_row[\"program\"].values[0] == 1:\n",
    "        SNRs_program_1.append(snr)\n",
    "    elif sp_row[\"program\"].values[0] == 2:\n",
    "        SNRs_program_2.append(snr)"
   ]
  },
  {
   "cell_type": "code",
   "execution_count": 32,
   "metadata": {},
   "outputs": [
    {
     "data": {
      "text/plain": [
       "Text(0, 0.5, 'SNR')"
      ]
     },
     "execution_count": 32,
     "metadata": {},
     "output_type": "execute_result"
    },
    {
     "data": {
      "image/png": "[encoded data removed]",
      "text/plain": [
       "<Figure size 432x288 with 1 Axes>"
      ]
     },
     "metadata": {
      "needs_background": "light"
     },
     "output_type": "display_data"
    }
   ],
   "source": [
    "# Here is the SNR of target program 2 based on white noise of S4 report \n",
    "plt.plot(SNRs_program_2, \".\")\n",
    "plt.ylabel(\"SNR\")"
   ]
  },
  {
   "cell_type": "code",
   "execution_count": 23,
   "metadata": {},
   "outputs": [],
   "source": [
    "# As you can see not all of them have SNR > 5 ... I don't see my mistake if any"
   ]
  }
 ],
 "metadata": {
  "kernelspec": {
   "display_name": "Python 3 (ipykernel)",
   "language": "python",
   "name": "python3"
  },
  "language_info": {
   "codemirror_mode": {
    "name": "ipython",
    "version": 3
   },
   "file_extension": ".py",
   "mimetype": "text/x-python",
   "name": "python",
   "nbconvert_exporter": "python",
   "pygments_lexer": "ipython3",
   "version": "3.10.4"
  }
 },
 "nbformat": 4,
 "nbformat_minor": 4
}
