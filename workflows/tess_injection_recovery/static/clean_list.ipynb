{
 "cells": [
  {
   "cell_type": "code",
   "execution_count": 7,
   "metadata": {},
   "outputs": [
    {
     "name": "stderr",
     "output_type": "stream",
     "text": [
      "100%|██████████| 467/467 [19:32<00:00,  2.51s/it]   \n"
     ]
    }
   ],
   "source": [
    "import pandas as pd\n",
    "import numpy as  np\n",
    "from tqdm import tqdm\n",
    "\n",
    "df = pd.read_csv('/Users/lgarcia/papers/nuance/workflows/tess_injection_recovery/static/tess-ultra-fast-rotators-brighter-mag14.csv')\n",
    "\n",
    "new_df = []\n",
    "\n",
    "for name in tqdm(df.Name):\n",
    "    url = f\"https://exofop.ipac.caltech.edu/tess/download_stellar.php?id={int(name)}\"\n",
    "    try:\n",
    "        star = pd.read_csv(url, delimiter=\"|\", index_col=1).iloc[0]\n",
    "    except:\n",
    "        continue\n",
    "        \n",
    "    has_radius_mass = ~np.isnan(star[\"Radius (R_Sun)\"]) and ~np.isnan(star[\"Mass (M_Sun)\"])\n",
    "    # append to new_df\n",
    "    if has_radius_mass:\n",
    "        row = df.loc[df.Name == name].to_dict('records')[0]\n",
    "        row[\"star_radius\"] = float(star[\"Radius (R_Sun)\"])\n",
    "        row[\"star_mass\"] = float(star[\"Mass (M_Sun)\"])\n",
    "        row[\"star_logg\"] = float(star[\"log(g)\"])\n",
    "\n",
    "        new_df.append(row)"
   ]
  },
  {
   "cell_type": "code",
   "execution_count": 8,
   "metadata": {},
   "outputs": [],
   "source": [
    "pd.DataFrame(new_df).to_csv(\"tess-ultra-fast-rotators-brighter-mag14-clean.csv\")"
   ]
  },
  {
   "cell_type": "code",
   "execution_count": null,
   "metadata": {},
   "outputs": [],
   "source": []
  }
 ],
 "metadata": {
  "kernelspec": {
   "display_name": "paper-nuance",
   "language": "python",
   "name": "python3"
  },
  "language_info": {
   "codemirror_mode": {
    "name": "ipython",
    "version": 3
   },
   "file_extension": ".py",
   "mimetype": "text/x-python",
   "name": "python",
   "nbconvert_exporter": "python",
   "pygments_lexer": "ipython3",
   "version": "3.9.18"
  },
  "orig_nbformat": 4
 },
 "nbformat": 4,
 "nbformat_minor": 2
}
