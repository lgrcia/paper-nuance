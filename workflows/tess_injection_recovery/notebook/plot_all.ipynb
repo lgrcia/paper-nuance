{
 "cells": [
  {
   "cell_type": "code",
   "execution_count": 31,
   "metadata": {},
   "outputs": [],
   "source": [
    "import pandas as pd\n",
    "import numpy as np\n",
    "from glob import glob\n",
    "from pathlib import Path\n",
    "import pickle\n",
    "import yaml\n",
    "from nuance.star import Star\n",
    "\n",
    "methods = {\n",
    "    \"bls_bspline\": \"bspline + BLS\",\n",
    "    \"bls_wotan3D\": \"biweight + BLS\",\n",
    "    \"bls_harmonics\": \"harmonics + BLS\",\n",
    "    \"bens\": \"sinusoids + BLS (Ben's)\",\n",
    "    \"nuance\": \"nuance\",\n",
    "}\n",
    "\n",
    "\n",
    "targets = [int(Path(f).stem) for f in glob(\"../figures/searched/*\")]\n",
    "\n",
    "result_df = pd.DataFrame(columns=targets)\n",
    "\n",
    "def right_candidate(t0, period, true_t0, true_period, verbose=False):\n",
    "    t0_check = (\n",
    "        np.abs((t0 - true_t0 + 0.5 * true_period) % true_period - 0.5 * true_period)\n",
    "        % period\n",
    "        < 0.01\n",
    "    )\n",
    "    period_check = np.abs(period - true_period) <= 0.01\n",
    "    alias_check = np.abs(2 * period - true_period) <= 0.01\n",
    "    alias_check |= np.abs(period / 2 - true_period) <= 0.01\n",
    "    if period_check:\n",
    "        return 1\n",
    "    elif alias_check:\n",
    "        return .5\n",
    "    else:\n",
    "        return 0"
   ]
  },
  {
   "cell_type": "code",
   "execution_count": 80,
   "metadata": {},
   "outputs": [],
   "source": [
    "from collections import defaultdict\n",
    "\n",
    "true_positives = defaultdict(list)\n",
    "false_positives = defaultdict(list)\n",
    "\n",
    "per_target_true_positives = []\n",
    "per_target_false_positives = []\n",
    "\n",
    "snr_limit = 5\n",
    "\n",
    "for target in targets:\n",
    "    info = yaml.safe_load(open(f\"../data/{target}/info.yaml\", \"r\"))\n",
    "    star = Star(info[\"star_radius\"], info[\"star_mass\"])\n",
    "\n",
    "    _per_target_true_positives = []\n",
    "    _per_target_false_positives = []\n",
    "\n",
    "    for method in methods:\n",
    "        df = pd.read_csv(    \n",
    "            f\"../data/{target}/recovered/{method}/results.csv\", index_col=0\n",
    "        )\n",
    "        cleaned = pickle.load(open(f\"../data/{target}/cleaned.fluxes\", \"rb\"))\n",
    "        true_snr = df.apply(lambda row: star.snr(row[\"period\"], row[\"radius\"], len(cleaned[\"flux\"]), np.median(cleaned[\"error\"])), axis=1)\n",
    "        snr = df[\"snr\"]\n",
    "\n",
    "        period_ok = df.apply(\n",
    "            lambda row: right_candidate(\n",
    "                0, row[\"period\"], 0, row[\"true_period\"]\n",
    "            ),\n",
    "            axis=1,\n",
    "        ) > 0\n",
    "        snr_ok = (true_snr >= snr_limit) & (snr >= snr_limit)\n",
    "        tp =  period_ok & snr_ok\n",
    "        true_positives[method].append(np.array([df.tau.values, df.delta.values, tp, true_snr>snr_limit]).T)\n",
    "\n",
    "        fp = snr_ok & ~period_ok\n",
    "        false_positives[method].append(np.array([df.tau.values, df.delta.values, fp]).T)\n",
    "\n",
    "        _per_target_true_positives.append(np.sum(tp))\n",
    "        _per_target_false_positives.append(np.sum(fp))\n",
    "\n",
    "    per_target_true_positives.append(_per_target_true_positives)\n",
    "    per_target_false_positives.append(_per_target_false_positives)\n",
    "\n",
    "\n",
    "true_positives = {k: np.concatenate(v).T for k, v in true_positives.items()}\n",
    "false_positives = {k: np.concatenate(v).T for k, v in false_positives.items()}\n",
    "per_target_true_positives = np.array(per_target_true_positives)\n",
    "per_target_false_positives = np.array(per_target_false_positives)\n"
   ]
  },
  {
   "cell_type": "code",
   "execution_count": 87,
   "metadata": {},
   "outputs": [],
   "source": [
    "has_best_tp = np.all(per_target_true_positives[:, -1][:, None] >= per_target_true_positives[:, 0:-1], axis=1)\n",
    "has_best_fp = np.all(per_target_false_positives[:, -1][:, None] <= per_target_false_positives[:, 0:-1], axis=1)"
   ]
  },
  {
   "cell_type": "code",
   "execution_count": 88,
   "metadata": {},
   "outputs": [
    {
     "data": {
      "text/plain": [
       "array([[15,  9,  1,  1,  1],\n",
       "       [13,  0, 10, 13,  2],\n",
       "       [11,  4,  4,  4,  4],\n",
       "       ...,\n",
       "       [17, 20,  7, 10,  3],\n",
       "       [11, 13, 10, 14,  7],\n",
       "       [12,  5,  6,  3,  2]])"
      ]
     },
     "execution_count": 88,
     "metadata": {},
     "output_type": "execute_result"
    }
   ],
   "source": [
    "per_target_false_positives"
   ]
  },
  {
   "cell_type": "code",
   "execution_count": 93,
   "metadata": {},
   "outputs": [
    {
     "data": {
      "text/plain": [
       "(0.8904109589041096, 0.6963470319634704, 0.6598173515981736)"
      ]
     },
     "execution_count": 93,
     "metadata": {},
     "output_type": "execute_result"
    }
   ],
   "source": [
    "has_best_tp.mean(), has_best_fp.mean(), (has_best_tp & has_best_fp).mean()"
   ]
  },
  {
   "cell_type": "code",
   "execution_count": 69,
   "metadata": {},
   "outputs": [],
   "source": [
    "per_target_true_positives = np.array(per_target_true_positives)"
   ]
  },
  {
   "cell_type": "code",
   "execution_count": 64,
   "metadata": {},
   "outputs": [
    {
     "ename": "TypeError",
     "evalue": "unsupported operand type(s) for /: 'generator' and 'int'",
     "output_type": "error",
     "traceback": [
      "\u001b[0;31m---------------------------------------------------------------------------\u001b[0m",
      "\u001b[0;31mTypeError\u001b[0m                                 Traceback (most recent call last)",
      "\u001b[1;32m/Users/lgarcia/papers/nuance/workflows/tess_injection_recovery/notebook/plot_all.ipynb Cell 4\u001b[0m line \u001b[0;36m1\n\u001b[0;32m----> <a href='vscode-notebook-cell:/Users/lgarcia/papers/nuance/workflows/tess_injection_recovery/notebook/plot_all.ipynb#X32sZmlsZQ%3D%3D?line=0'>1</a>\u001b[0m np\u001b[39m.\u001b[39;49mmean([true_positives[method][\u001b[39m2\u001b[39;49m]] \u001b[39mfor\u001b[39;49;00m method \u001b[39min\u001b[39;49;00m methods)\n",
      "File \u001b[0;32m<__array_function__ internals>:200\u001b[0m, in \u001b[0;36mmean\u001b[0;34m(*args, **kwargs)\u001b[0m\n",
      "File \u001b[0;32m~/mambaforge/envs/paper-nuance/lib/python3.9/site-packages/numpy/core/fromnumeric.py:3464\u001b[0m, in \u001b[0;36mmean\u001b[0;34m(a, axis, dtype, out, keepdims, where)\u001b[0m\n\u001b[1;32m   3461\u001b[0m     \u001b[39melse\u001b[39;00m:\n\u001b[1;32m   3462\u001b[0m         \u001b[39mreturn\u001b[39;00m mean(axis\u001b[39m=\u001b[39maxis, dtype\u001b[39m=\u001b[39mdtype, out\u001b[39m=\u001b[39mout, \u001b[39m*\u001b[39m\u001b[39m*\u001b[39mkwargs)\n\u001b[0;32m-> 3464\u001b[0m \u001b[39mreturn\u001b[39;00m _methods\u001b[39m.\u001b[39;49m_mean(a, axis\u001b[39m=\u001b[39;49maxis, dtype\u001b[39m=\u001b[39;49mdtype,\n\u001b[1;32m   3465\u001b[0m                       out\u001b[39m=\u001b[39;49mout, \u001b[39m*\u001b[39;49m\u001b[39m*\u001b[39;49mkwargs)\n",
      "File \u001b[0;32m~/mambaforge/envs/paper-nuance/lib/python3.9/site-packages/numpy/core/_methods.py:194\u001b[0m, in \u001b[0;36m_mean\u001b[0;34m(a, axis, dtype, out, keepdims, where)\u001b[0m\n\u001b[1;32m    192\u001b[0m         ret \u001b[39m=\u001b[39m ret\u001b[39m.\u001b[39mdtype\u001b[39m.\u001b[39mtype(ret \u001b[39m/\u001b[39m rcount)\n\u001b[1;32m    193\u001b[0m \u001b[39melse\u001b[39;00m:\n\u001b[0;32m--> 194\u001b[0m     ret \u001b[39m=\u001b[39m ret \u001b[39m/\u001b[39;49m rcount\n\u001b[1;32m    196\u001b[0m \u001b[39mreturn\u001b[39;00m ret\n",
      "\u001b[0;31mTypeError\u001b[0m: unsupported operand type(s) for /: 'generator' and 'int'"
     ]
    }
   ],
   "source": [
    "np.mean([true_positives[method][2]] for method in methods)"
   ]
  },
  {
   "cell_type": "code",
   "execution_count": 63,
   "metadata": {},
   "outputs": [
    {
     "data": {
      "text/plain": [
       "array([[6.46659066, 4.1170373 , 3.42169094, ..., 5.26284852, 4.67579234,\n",
       "        4.28567062],\n",
       "       [4.31971636, 4.31971636, 4.31971636, ..., 0.83002733, 0.83002733,\n",
       "        0.83002733],\n",
       "       [0.        , 0.        , 0.        , ..., 1.        , 1.        ,\n",
       "        1.        ],\n",
       "       [0.        , 0.        , 0.        , ..., 1.        , 1.        ,\n",
       "        1.        ]])"
      ]
     },
     "execution_count": 63,
     "metadata": {},
     "output_type": "execute_result"
    }
   ],
   "source": [
    "true_positives[\"nuance\"][1]"
   ]
  },
  {
   "cell_type": "code",
   "execution_count": 54,
   "metadata": {},
   "outputs": [
    {
     "name": "stderr",
     "output_type": "stream",
     "text": [
      "/var/folders/wn/j_ytm31108z7jt5f1x0d7j1c0000gq/T/ipykernel_29606/3567418023.py:7: RuntimeWarning: invalid value encountered in divide\n",
      "  nuance = np.histogram(true_positives[\"nuance\"][:, true_positives[\"nuance\"][2] == 1.][i], bins=bins)[0]/total\n",
      "/var/folders/wn/j_ytm31108z7jt5f1x0d7j1c0000gq/T/ipykernel_29606/3567418023.py:8: RuntimeWarning: invalid value encountered in divide\n",
      "  others = [np.histogram(true_positives[method][:, true_positives[method][2] == 1.][i], bins=bins, density=False)[0] for method in methods if method != \"nuance\"]/total\n",
      "/var/folders/wn/j_ytm31108z7jt5f1x0d7j1c0000gq/T/ipykernel_29606/3567418023.py:51: RuntimeWarning: invalid value encountered in divide\n",
      "  nuance = np.histogram(false_positives[\"nuance\"][:, false_positives[\"nuance\"][2] == 1.][i], bins=bins)[0]/total\n",
      "/var/folders/wn/j_ytm31108z7jt5f1x0d7j1c0000gq/T/ipykernel_29606/3567418023.py:52: RuntimeWarning: invalid value encountered in divide\n",
      "  others = [np.histogram(false_positives[method][:, false_positives[method][2] == 1.][i], bins=bins, density=False)[0] for method in methods if method != \"nuance\"]/total\n",
      "/var/folders/wn/j_ytm31108z7jt5f1x0d7j1c0000gq/T/ipykernel_29606/3567418023.py:83: UserWarning: The figure layout has changed to tight\n",
      "  plt.tight_layout()\n"
     ]
    },
    {
     "data": {
      "image/png": "[encoded data removed]",
      "text/plain": [
       "<Figure size 850x500 with 4 Axes>"
      ]
     },
     "metadata": {},
     "output_type": "display_data"
    }
   ],
   "source": [
    "import matplotlib.pyplot as plt\n",
    "\n",
    "plt.figure(figsize=(8.5, 5))\n",
    "\n",
    "def plot(i, bins, legend=False):\n",
    "    total = np.histogram(true_positives[\"nuance\"][i][true_positives[\"nuance\"][-1].astype(bool)], bins=bins)[0]\n",
    "    nuance = np.histogram(true_positives[\"nuance\"][:, true_positives[\"nuance\"][2] == 1.][i], bins=bins)[0]/total\n",
    "    others = [np.histogram(true_positives[method][:, true_positives[method][2] == 1.][i], bins=bins, density=False)[0] for method in methods if method != \"nuance\"]/total\n",
    "    others_max = np.max(others, axis=0)\n",
    "    plt.step(bins[0:-1], others_max*100, c=\"C3\", label=\"best of others\" if legend else None)\n",
    "    plt.step(bins[0:-1], nuance*100, c=\"k\", label=\"nuance\" if legend else None)\n",
    "    # plt.step(bins[0:-1], (nuance-others_max)*100, c=diff_color, label=\"difference\" if legend else None)\n",
    "    # plt.fill_between(bins[0:-1], 0, (nuance-others_max)*100, step=\"pre\", color=diff_color, alpha=0.2)\n",
    "    return nuance, others_max\n",
    "\n",
    "n = 60\n",
    "text_y_pos = 0.2\n",
    "diff_color = \"k\"\n",
    "tau_lim = 5\n",
    "tau_bins = np.linspace(0.1, 15, n)\n",
    "\n",
    "###\n",
    "plt.subplot(221)\n",
    "plt.title(\"True and false positives\", loc=\"left\")\n",
    "\n",
    "nuance, others_max = plot(0, tau_bins)\n",
    "# plt.xlabel(r\"$\\tau$\")\n",
    "plt.ylabel(\"true positives (%)\")\n",
    "plt.ylim(0,110)\n",
    "plt.xlim(tau_bins[0], tau_bins[-2])\n",
    "plt.axvline(tau_lim, c=diff_color, alpha=0.5)\n",
    "mask = tau_bins[:-1] < tau_lim\n",
    "plt.text(2.5, 95 , f\"+{np.nanmean((nuance-others_max)[mask])*100:.1f}%\", va=\"top\", ha=\"center\", color=diff_color)\n",
    "plt.text(10, 60, f\"+{np.nanmean((nuance-others_max)[~mask])*100:.1f}%\", va=\"top\", ha=\"left\", color=diff_color)\n",
    "plt.text(0.97, 0.03, f\"injected SNR > {snr_limit}\\n detected SNR > {snr_limit}\\nperiods match\", va=\"bottom\", ha=\"right\", color=diff_color, transform=plt.gca().transAxes, fontsize=9)\n",
    "\n",
    "plt.subplot(222)\n",
    "bins = np.linspace(0, 8, n)\n",
    "nuance, others_max = plot(1, bins, legend=True)\n",
    "# plt.xlabel(r\"$\\delta$\")\n",
    "plt.legend()\n",
    "plt.ylim(0,110)\n",
    "plt.xlim(bins[1], bins[-3])\n",
    "plt.tight_layout()\n",
    "plt.text(1, 40, f\"+{np.nanmean((nuance-others_max))*100:.1f}%\", va=\"top\", ha=\"left\", color=diff_color)\n",
    "plt.legend(loc=\"upper right\")\n",
    "\n",
    "\n",
    "def plot(i, bins):\n",
    "    total = np.histogram(false_positives[\"nuance\"][i], bins=bins)[0]\n",
    "    nuance = np.histogram(false_positives[\"nuance\"][:, false_positives[\"nuance\"][2] == 1.][i], bins=bins)[0]/total\n",
    "    others = [np.histogram(false_positives[method][:, false_positives[method][2] == 1.][i], bins=bins, density=False)[0] for method in methods if method != \"nuance\"]/total\n",
    "    others_min = np.min(others, axis=0)\n",
    "    plt.step(bins[0:-1], others_min*100, c=\"C3\", label=None)\n",
    "    plt.step(bins[0:-1], nuance*100, c=\"k\", label=None)\n",
    "    # plt.step(bins[0:-1], -(nuance-others_max)*100, c=diff_color)\n",
    "    # plt.fill_between(bins[0:-1], 0, -(nuance-others_max)*100, step=\"pre\", color=diff_color, alpha=0.2)\n",
    "    return nuance, others_min\n",
    "\n",
    "text_y_pos = 0.8\n",
    "\n",
    "###\n",
    "plt.subplot(223)\n",
    "nuance, others_max = plot(0, tau_bins)\n",
    "plt.xlabel(r\"$\\tau$\")\n",
    "plt.ylabel(\"false positives (%)\")\n",
    "plt.ylim(0,110)\n",
    "plt.xlim(tau_bins[0], tau_bins[-2])\n",
    "plt.axvline(tau_lim, c=diff_color, alpha=0.5)\n",
    "mask = tau_bins[:-1] < tau_lim\n",
    "plt.text(3, 70, f\"{np.nanmean((nuance-others_max)[mask])*100:.1f}%\", va=\"top\", ha=\"center\", color=diff_color)\n",
    "plt.text(0.6, text_y_pos*0.7, f\"{np.nanmean((nuance-others_max)[~mask])*100:.1f}%\", transform=plt.gca().transAxes, va=\"top\", ha=\"left\", color=diff_color)\n",
    "plt.text(0.97, 0.95, f\"injected SNR < {snr_limit}\\n detected SNR > {snr_limit}\", va=\"top\", ha=\"right\", color=diff_color, transform=plt.gca().transAxes, fontsize=9)\n",
    "\n",
    "plt.subplot(224)\n",
    "bins = np.linspace(0, 8, n)\n",
    "nuance, others_max = plot(1, bins)\n",
    "plt.xlabel(r\"$\\delta$\")\n",
    "plt.ylim(0,110)\n",
    "plt.xlim(bins[1], bins[-3])\n",
    "plt.text(3.5, 60, f\"{np.nanmean((nuance-others_max))*100:.1f}%\", va=\"top\", ha=\"left\", color=diff_color)\n",
    "\n",
    "plt.tight_layout()\n",
    "# plt.savefig(\"../figures/true_false_positive.pdf\")"
   ]
  },
  {
   "cell_type": "code",
   "execution_count": 76,
   "metadata": {},
   "outputs": [
    {
     "ename": "IndexError",
     "evalue": "invalid index to scalar variable.",
     "output_type": "error",
     "traceback": [
      "\u001b[0;31m---------------------------------------------------------------------------\u001b[0m",
      "\u001b[0;31mIndexError\u001b[0m                                Traceback (most recent call last)",
      "Cell \u001b[0;32mIn[76], line 2\u001b[0m\n\u001b[1;32m      1\u001b[0m mask \u001b[39m=\u001b[39m (true_positives[\u001b[39m\"\u001b[39m\u001b[39mnuance\u001b[39m\u001b[39m\"\u001b[39m][\u001b[39m0\u001b[39m] \u001b[39m<\u001b[39m \u001b[39m6\u001b[39m) \u001b[39m&\u001b[39m (true_positives[\u001b[39m\"\u001b[39m\u001b[39mnuance\u001b[39m\u001b[39m\"\u001b[39m][\u001b[39m1\u001b[39m] \u001b[39m<\u001b[39m \u001b[39m8\u001b[39m)\n\u001b[0;32m----> 2\u001b[0m (true_positives[\u001b[39m\"\u001b[39m\u001b[39mnuance\u001b[39m\u001b[39m\"\u001b[39m][\u001b[39m-\u001b[39m\u001b[39m1\u001b[39m]) \u001b[39m-\u001b[39m np\u001b[39m.\u001b[39;49mmean(np\u001b[39m.\u001b[39;49mmax([true_positives[method][\u001b[39m-\u001b[39;49m\u001b[39m1\u001b[39;49m] \u001b[39mfor\u001b[39;49;00m method \u001b[39min\u001b[39;49;00m methods \u001b[39mif\u001b[39;49;00m method \u001b[39m!=\u001b[39;49m \u001b[39m\"\u001b[39;49m\u001b[39mnuance\u001b[39;49m\u001b[39m\"\u001b[39;49m]))[mask]\n",
      "\u001b[0;31mIndexError\u001b[0m: invalid index to scalar variable."
     ]
    }
   ],
   "source": [
    "mask = (true_positives[\"nuance\"][0] < 6) & (true_positives[\"nuance\"][1] < 8)\n",
    "(true_positives[\"nuance\"][-1]) - np.mean(np.max([true_positives[method][-1] for method in methods if method != \"nuance\"]))\n"
   ]
  },
  {
   "cell_type": "code",
   "execution_count": 81,
   "metadata": {},
   "outputs": [
    {
     "ename": "ValueError",
     "evalue": "operands could not be broadcast together with shapes (11075,) (0,) ",
     "output_type": "error",
     "traceback": [
      "\u001b[0;31m---------------------------------------------------------------------------\u001b[0m",
      "\u001b[0;31mValueError\u001b[0m                                Traceback (most recent call last)",
      "Cell \u001b[0;32mIn[81], line 1\u001b[0m\n\u001b[0;32m----> 1\u001b[0m (true_positives[\u001b[39m\"\u001b[39;49m\u001b[39mnuance\u001b[39;49m\u001b[39m\"\u001b[39;49m][\u001b[39m-\u001b[39;49m\u001b[39m1\u001b[39;49m]) \u001b[39m-\u001b[39;49m np\u001b[39m.\u001b[39;49mmean(np\u001b[39m.\u001b[39;49mmax([true_positives[method][\u001b[39m-\u001b[39;49m\u001b[39m1\u001b[39;49m] \u001b[39mfor\u001b[39;49;00m method \u001b[39min\u001b[39;49;00m methods \u001b[39mif\u001b[39;49;00m method \u001b[39m!=\u001b[39;49m \u001b[39m\"\u001b[39;49m\u001b[39mnuance\u001b[39;49m\u001b[39m\"\u001b[39;49m]))\u001b[39m.\u001b[39;49mshape\n",
      "\u001b[0;31mValueError\u001b[0m: operands could not be broadcast together with shapes (11075,) (0,) "
     ]
    }
   ],
   "source": [
    "(true_positives[\"nuance\"][-1]) - np.mean(np.max([true_positives[method][-1] for method in methods if method != \"nuance\"])).shape"
   ]
  },
  {
   "cell_type": "code",
   "execution_count": 75,
   "metadata": {},
   "outputs": [
    {
     "data": {
      "text/plain": [
       "array([ 0.,  0., -1., ...,  0.,  0.,  0.])"
      ]
     },
     "execution_count": 75,
     "metadata": {},
     "output_type": "execute_result"
    }
   ],
   "source": [
    "np.hstack(true_positives[\"nuance\"][-1]) - np.mean(np.max([true_positives[method][-1] for method in methods if method != \"nuance\"]))"
   ]
  },
  {
   "cell_type": "code",
   "execution_count": 79,
   "metadata": {},
   "outputs": [
    {
     "ename": "IndexError",
     "evalue": "invalid index to scalar variable.",
     "output_type": "error",
     "traceback": [
      "\u001b[0;31m---------------------------------------------------------------------------\u001b[0m",
      "\u001b[0;31mIndexError\u001b[0m                                Traceback (most recent call last)",
      "Cell \u001b[0;32mIn[79], line 1\u001b[0m\n\u001b[0;32m----> 1\u001b[0m (true_positives[\u001b[39m\"\u001b[39m\u001b[39mnuance\u001b[39m\u001b[39m\"\u001b[39m][\u001b[39m-\u001b[39m\u001b[39m1\u001b[39m]) \u001b[39m-\u001b[39m np\u001b[39m.\u001b[39;49mmean(np\u001b[39m.\u001b[39;49mmax([true_positives[method][\u001b[39m-\u001b[39;49m\u001b[39m1\u001b[39;49m] \u001b[39mfor\u001b[39;49;00m method \u001b[39min\u001b[39;49;00m methods \u001b[39mif\u001b[39;49;00m method \u001b[39m!=\u001b[39;49m \u001b[39m\"\u001b[39;49m\u001b[39mnuance\u001b[39;49m\u001b[39m\"\u001b[39;49m]))[mask]\n",
      "\u001b[0;31mIndexError\u001b[0m: invalid index to scalar variable."
     ]
    }
   ],
   "source": [
    "(true_positives[\"nuance\"][-1]) - np.mean(np.max([true_positives[method][-1] for method in methods if method != \"nuance\"]))[mask]"
   ]
  },
  {
   "cell_type": "code",
   "execution_count": 78,
   "metadata": {},
   "outputs": [
    {
     "data": {
      "text/plain": [
       "[array([False,  True,  True, ...,  True,  True,  True])]"
      ]
     },
     "execution_count": 78,
     "metadata": {},
     "output_type": "execute_result"
    }
   ],
   "source": [
    "[mask]"
   ]
  },
  {
   "cell_type": "code",
   "execution_count": 68,
   "metadata": {},
   "outputs": [
    {
     "data": {
      "text/plain": [
       "array([[6.46659066, 3.38046173, 2.75017873, ..., 4.23000626, 3.72738507,\n",
       "        3.40153903],\n",
       "       [2.57089382, 2.57089382, 2.57089382, ..., 0.41736812, 0.41736812,\n",
       "        0.41736812],\n",
       "       [0.        , 0.        , 0.        , ..., 1.        , 1.        ,\n",
       "        1.        ]])"
      ]
     },
     "execution_count": 68,
     "metadata": {},
     "output_type": "execute_result"
    }
   ],
   "source": [
    "true_positives[\"bens\"]"
   ]
  },
  {
   "cell_type": "code",
   "execution_count": 67,
   "metadata": {},
   "outputs": [
    {
     "data": {
      "text/plain": [
       "array([[6.46659066, 3.38046173, 2.75017873, ..., 4.23000626, 3.72738507,\n",
       "        3.40153903],\n",
       "       [2.57089382, 2.57089382, 2.57089382, ..., 0.41736812, 0.41736812,\n",
       "        0.41736812],\n",
       "       [1.        , 1.        , 0.        , ..., 1.        , 1.        ,\n",
       "        1.        ]])"
      ]
     },
     "execution_count": 67,
     "metadata": {},
     "output_type": "execute_result"
    }
   ],
   "source": [
    "true_positives[\"nuance\"]"
   ]
  },
  {
   "cell_type": "code",
   "execution_count": 66,
   "metadata": {},
   "outputs": [
    {
     "data": {
      "text/plain": [
       "0.468352144469526"
      ]
     },
     "execution_count": 66,
     "metadata": {},
     "output_type": "execute_result"
    }
   ],
   "source": [
    "np.mean(np.max([false_positives[method][-1] for method in methods if method != \"nuance\"], 0)) - np.mean(false_positives[\"nuance\"][-1])"
   ]
  },
  {
   "cell_type": "code",
   "execution_count": null,
   "metadata": {},
   "outputs": [],
   "source": []
  }
 ],
 "metadata": {
  "kernelspec": {
   "display_name": "paper-nuance",
   "language": "python",
   "name": "python3"
  },
  "language_info": {
   "codemirror_mode": {
    "name": "ipython",
    "version": 3
   },
   "file_extension": ".py",
   "mimetype": "text/x-python",
   "name": "python",
   "nbconvert_exporter": "python",
   "pygments_lexer": "ipython3",
   "version": "3.9.18"
  },
  "orig_nbformat": 4
 },
 "nbformat": 4,
 "nbformat_minor": 2
}
