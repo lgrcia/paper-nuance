{
 "cells": [
  {
   "cell_type": "code",
   "execution_count": 1,
   "metadata": {},
   "outputs": [
    {
     "name": "stderr",
     "output_type": "stream",
     "text": [
      "/var/folders/wn/j_ytm31108z7jt5f1x0d7j1c0000gq/T/ipykernel_28049/2760258854.py:58: FutureWarning: Calling float on a single element Series is deprecated and will raise a TypeError in the future. Use float(ser.iloc[0]) instead\n",
      "  \"star_period\": float(target.LS_Period),\n",
      "/var/folders/wn/j_ytm31108z7jt5f1x0d7j1c0000gq/T/ipykernel_28049/2760258854.py:59: FutureWarning: Calling float on a single element Series is deprecated and will raise a TypeError in the future. Use float(ser.iloc[0]) instead\n",
      "  \"star_amplitude\": float(target.Amplitude),\n"
     ]
    }
   ],
   "source": [
    "import pickle\n",
    "\n",
    "import astropy.units as u\n",
    "import lightkurve as lk\n",
    "import numpy as np\n",
    "import pandas as pd\n",
    "import yaml\n",
    "\n",
    "tic = 369327947\n",
    "\n",
    "targets = pd.read_csv(\"../data/tess-ultra-fast-rotators-brighter-mag14.csv\")[\n",
    "    [\"Name\", \"LS_Period\", \"Amplitude\", \"teff_val\"]\n",
    "]\n",
    "\n",
    "targets = targets.sort_values(\"LS_Period\")\n",
    "target = targets[targets.Name == tic]\n",
    "\n",
    "name = f\"TIC {tic}\"\n",
    "search_result = lk.search_lightcurve(name, author=\"SPOC\", exptime=120)\n",
    "\n",
    "# data\n",
    "klc = search_result[0].download()\n",
    "times = klc.time.to_value(\"btjd\")\n",
    "fluxes = klc.pdcsap_flux.to_value().filled(np.nan)\n",
    "errors = klc.flux_err.to_value().filled(np.nan)\n",
    "mask = np.isnan(fluxes) | np.isnan(errors) | np.isnan(times)\n",
    "original_time = times[~mask]\n",
    "original_flux = fluxes[~mask]\n",
    "original_error = errors[~mask]\n",
    "\n",
    "splits = np.array_split(\n",
    "    np.arange(len(original_time)), np.flatnonzero(np.diff(original_time) > 0.1) + 1\n",
    ")\n",
    "\n",
    "n = 300\n",
    "time = np.hstack([original_time[split[n:-n]] for split in splits])\n",
    "flux = np.hstack([original_flux[split[n:-n]] for split in splits])\n",
    "error = np.hstack([original_error[split[n:-n]] for split in splits])\n",
    "\n",
    "# first exposure\n",
    "first_exposure = klc.time[0]\n",
    "time_format = rf\"{first_exposure.format.upper()}_{{{first_exposure.scale.upper()}}}\"\n",
    "first_exposure_time = first_exposure.value\n",
    "\n",
    "flux_median = np.median(original_flux)\n",
    "time = time - first_exposure_time\n",
    "flux /= flux_median\n",
    "error /= flux_median\n",
    "\n",
    "# stellar parameters\n",
    "url = f\"https://exofop.ipac.caltech.edu/tess/download_stellar.php?id={tic}\"\n",
    "star = pd.read_csv(url, delimiter=\"|\", index_col=1).iloc[0]\n",
    "\n",
    "star_dict = {\n",
    "    \"tic\": int(tic),\n",
    "    \"time0\": float(first_exposure_time),\n",
    "    \"time0_format\": str(time_format),\n",
    "    \"star_period\": float(target.LS_Period),\n",
    "    \"star_amplitude\": float(target.Amplitude),\n",
    "    \"star_radius\": float(star[\"Radius (R_Sun)\"]),\n",
    "    \"star_mass\": float(star[\"Mass (M_Sun)\"]),\n",
    "    \"star_teff\": float(star[\"Teff (K)\"]),\n",
    "    \"star_logg\": float(star[\"log(g)\"]),\n",
    "    \"sector\": int(klc.sector),\n",
    "}\n",
    "\n"
   ]
  },
  {
   "cell_type": "code",
   "execution_count": 2,
   "metadata": {},
   "outputs": [],
   "source": [
    "ld = pd.read_csv(\"../data/tess_limb_darkening.txt\", delim_whitespace=True, comment=\"#\")\n",
    "closest_teff = ld.Teff.iloc[np.argmin(np.abs(ld.Teff - star_dict[\"star_teff\"]))]\n",
    "teff_ld = ld[ld.Teff == closest_teff]\n",
    "ld_row = teff_ld.iloc[np.argmin(np.abs(teff_ld.logg - star_dict[\"star_logg\"]))]\n",
    "ld_coeffs = list(ld_row[[\"aLSM\", \"bLSM\"]].values)"
   ]
  },
  {
   "cell_type": "code",
   "execution_count": 4,
   "metadata": {},
   "outputs": [
    {
     "data": {
      "text/plain": [
       "(0.2125, 0.3984)"
      ]
     },
     "execution_count": 4,
     "metadata": {},
     "output_type": "execute_result"
    }
   ],
   "source": [
    "float(ld_coeffs[0]), float(ld_coeffs[1])"
   ]
  },
  {
   "cell_type": "code",
   "execution_count": 42,
   "metadata": {},
   "outputs": [
    {
     "data": {
      "text/plain": [
       "[0.2125, 0.3984]"
      ]
     },
     "execution_count": 42,
     "metadata": {},
     "output_type": "execute_result"
    }
   ],
   "source": [
    "list(teff_ld.iloc[np.argmin(np.abs(teff_ld.logg - star_dict[\"star_logg\"]))][[\"aLSM\", \"bLSM\"]].values)"
   ]
  },
  {
   "cell_type": "code",
   "execution_count": 31,
   "metadata": {},
   "outputs": [
    {
     "data": {
      "text/plain": [
       "3595.0"
      ]
     },
     "execution_count": 31,
     "metadata": {},
     "output_type": "execute_result"
    }
   ],
   "source": [
    "star_dict[\"star_teff\"]"
   ]
  },
  {
   "cell_type": "code",
   "execution_count": 24,
   "metadata": {},
   "outputs": [
    {
     "data": {
      "text/plain": [
       "({'tic': 140212114,\n",
       "  'time0': 1437.9819530443453,\n",
       "  'time0_format': 'BTJD_{TDB}',\n",
       "  'star_period': 0.1400778,\n",
       "  'star_amplitude': 0.00775,\n",
       "  'star_radius': 0.517266,\n",
       "  'star_mass': 0.514858,\n",
       "  'star_teff': 3595.0,\n",
       "  'sector': 5},)"
      ]
     },
     "execution_count": 24,
     "metadata": {},
     "output_type": "execute_result"
    }
   ],
   "source": [
    "star_dict"
   ]
  },
  {
   "cell_type": "code",
   "execution_count": 12,
   "metadata": {},
   "outputs": [
    {
     "data": {
      "text/html": [
       "<div>\n",
       "<style scoped>\n",
       "    .dataframe tbody tr th:only-of-type {\n",
       "        vertical-align: middle;\n",
       "    }\n",
       "\n",
       "    .dataframe tbody tr th {\n",
       "        vertical-align: top;\n",
       "    }\n",
       "\n",
       "    .dataframe thead th {\n",
       "        text-align: right;\n",
       "    }\n",
       "</style>\n",
       "<table border=\"1\" class=\"dataframe\">\n",
       "  <thead>\n",
       "    <tr style=\"text-align: right;\">\n",
       "      <th></th>\n",
       "      <th>logg</th>\n",
       "      <th>Teff</th>\n",
       "      <th>Z</th>\n",
       "      <th>/HP</th>\n",
       "      <th>aLSM</th>\n",
       "      <th>bLSM</th>\n",
       "      <th>aPCM</th>\n",
       "      <th>bPCM</th>\n",
       "      <th>chi2</th>\n",
       "      <th>e</th>\n",
       "      <th>od</th>\n",
       "    </tr>\n",
       "  </thead>\n",
       "  <tbody>\n",
       "    <tr>\n",
       "      <th>0</th>\n",
       "      <td>2.5</td>\n",
       "      <td>2300.0</td>\n",
       "      <td>0.0</td>\n",
       "      <td>2.0</td>\n",
       "      <td>0.3685</td>\n",
       "      <td>0.5069</td>\n",
       "      <td>0.2997</td>\n",
       "      <td>0.6911</td>\n",
       "      <td>0.1762</td>\n",
       "      <td>q</td>\n",
       "      <td>PC</td>\n",
       "    </tr>\n",
       "    <tr>\n",
       "      <th>1</th>\n",
       "      <td>3.0</td>\n",
       "      <td>2300.0</td>\n",
       "      <td>0.0</td>\n",
       "      <td>2.0</td>\n",
       "      <td>0.3895</td>\n",
       "      <td>0.4724</td>\n",
       "      <td>0.3425</td>\n",
       "      <td>0.6024</td>\n",
       "      <td>0.1609</td>\n",
       "      <td>q</td>\n",
       "      <td>PC</td>\n",
       "    </tr>\n",
       "    <tr>\n",
       "      <th>2</th>\n",
       "      <td>3.5</td>\n",
       "      <td>2300.0</td>\n",
       "      <td>0.0</td>\n",
       "      <td>2.0</td>\n",
       "      <td>0.4372</td>\n",
       "      <td>0.4266</td>\n",
       "      <td>0.4060</td>\n",
       "      <td>0.5174</td>\n",
       "      <td>0.1360</td>\n",
       "      <td>q</td>\n",
       "      <td>PC</td>\n",
       "    </tr>\n",
       "    <tr>\n",
       "      <th>3</th>\n",
       "      <td>4.0</td>\n",
       "      <td>2300.0</td>\n",
       "      <td>0.0</td>\n",
       "      <td>2.0</td>\n",
       "      <td>0.4846</td>\n",
       "      <td>0.3947</td>\n",
       "      <td>0.4707</td>\n",
       "      <td>0.4445</td>\n",
       "      <td>0.1110</td>\n",
       "      <td>q</td>\n",
       "      <td>PC</td>\n",
       "    </tr>\n",
       "    <tr>\n",
       "      <th>4</th>\n",
       "      <td>4.5</td>\n",
       "      <td>2300.0</td>\n",
       "      <td>0.0</td>\n",
       "      <td>2.0</td>\n",
       "      <td>0.5084</td>\n",
       "      <td>0.3663</td>\n",
       "      <td>0.4986</td>\n",
       "      <td>0.4044</td>\n",
       "      <td>0.0903</td>\n",
       "      <td>q</td>\n",
       "      <td>PC</td>\n",
       "    </tr>\n",
       "    <tr>\n",
       "      <th>...</th>\n",
       "      <td>...</td>\n",
       "      <td>...</td>\n",
       "      <td>...</td>\n",
       "      <td>...</td>\n",
       "      <td>...</td>\n",
       "      <td>...</td>\n",
       "      <td>...</td>\n",
       "      <td>...</td>\n",
       "      <td>...</td>\n",
       "      <td>...</td>\n",
       "      <td>...</td>\n",
       "    </tr>\n",
       "    <tr>\n",
       "      <th>569</th>\n",
       "      <td>4.0</td>\n",
       "      <td>12000.0</td>\n",
       "      <td>0.0</td>\n",
       "      <td>2.0</td>\n",
       "      <td>0.1244</td>\n",
       "      <td>0.2619</td>\n",
       "      <td>-0.2218</td>\n",
       "      <td>1.0331</td>\n",
       "      <td>0.1053</td>\n",
       "      <td>q</td>\n",
       "      <td>PC</td>\n",
       "    </tr>\n",
       "    <tr>\n",
       "      <th>570</th>\n",
       "      <td>4.5</td>\n",
       "      <td>12000.0</td>\n",
       "      <td>0.0</td>\n",
       "      <td>2.0</td>\n",
       "      <td>0.1262</td>\n",
       "      <td>0.2536</td>\n",
       "      <td>-0.1684</td>\n",
       "      <td>0.8991</td>\n",
       "      <td>0.1013</td>\n",
       "      <td>q</td>\n",
       "      <td>PC</td>\n",
       "    </tr>\n",
       "    <tr>\n",
       "      <th>571</th>\n",
       "      <td>5.0</td>\n",
       "      <td>12000.0</td>\n",
       "      <td>0.0</td>\n",
       "      <td>2.0</td>\n",
       "      <td>0.1283</td>\n",
       "      <td>0.2289</td>\n",
       "      <td>-0.0899</td>\n",
       "      <td>0.6995</td>\n",
       "      <td>0.0923</td>\n",
       "      <td>q</td>\n",
       "      <td>PC</td>\n",
       "    </tr>\n",
       "    <tr>\n",
       "      <th>572</th>\n",
       "      <td>5.5</td>\n",
       "      <td>12000.0</td>\n",
       "      <td>0.0</td>\n",
       "      <td>2.0</td>\n",
       "      <td>0.1258</td>\n",
       "      <td>0.2350</td>\n",
       "      <td>-0.0342</td>\n",
       "      <td>0.5813</td>\n",
       "      <td>0.0969</td>\n",
       "      <td>q</td>\n",
       "      <td>PC</td>\n",
       "    </tr>\n",
       "    <tr>\n",
       "      <th>573</th>\n",
       "      <td>6.0</td>\n",
       "      <td>12000.0</td>\n",
       "      <td>0.0</td>\n",
       "      <td>2.0</td>\n",
       "      <td>0.1221</td>\n",
       "      <td>0.2303</td>\n",
       "      <td>-0.0022</td>\n",
       "      <td>0.5016</td>\n",
       "      <td>0.0981</td>\n",
       "      <td>q</td>\n",
       "      <td>PC</td>\n",
       "    </tr>\n",
       "  </tbody>\n",
       "</table>\n",
       "<p>574 rows × 11 columns</p>\n",
       "</div>"
      ],
      "text/plain": [
       "     logg     Teff    Z  /HP    aLSM    bLSM    aPCM    bPCM    chi2  e  od\n",
       "0     2.5   2300.0  0.0  2.0  0.3685  0.5069  0.2997  0.6911  0.1762  q  PC\n",
       "1     3.0   2300.0  0.0  2.0  0.3895  0.4724  0.3425  0.6024  0.1609  q  PC\n",
       "2     3.5   2300.0  0.0  2.0  0.4372  0.4266  0.4060  0.5174  0.1360  q  PC\n",
       "3     4.0   2300.0  0.0  2.0  0.4846  0.3947  0.4707  0.4445  0.1110  q  PC\n",
       "4     4.5   2300.0  0.0  2.0  0.5084  0.3663  0.4986  0.4044  0.0903  q  PC\n",
       "..    ...      ...  ...  ...     ...     ...     ...     ...     ... ..  ..\n",
       "569   4.0  12000.0  0.0  2.0  0.1244  0.2619 -0.2218  1.0331  0.1053  q  PC\n",
       "570   4.5  12000.0  0.0  2.0  0.1262  0.2536 -0.1684  0.8991  0.1013  q  PC\n",
       "571   5.0  12000.0  0.0  2.0  0.1283  0.2289 -0.0899  0.6995  0.0923  q  PC\n",
       "572   5.5  12000.0  0.0  2.0  0.1258  0.2350 -0.0342  0.5813  0.0969  q  PC\n",
       "573   6.0  12000.0  0.0  2.0  0.1221  0.2303 -0.0022  0.5016  0.0981  q  PC\n",
       "\n",
       "[574 rows x 11 columns]"
      ]
     },
     "execution_count": 12,
     "metadata": {},
     "output_type": "execute_result"
    }
   ],
   "source": [
    "ld.iloc[np.abs(ld.Teff)]"
   ]
  },
  {
   "cell_type": "code",
   "execution_count": 5,
   "metadata": {},
   "outputs": [],
   "source": [
    "import pickle\n",
    "\n",
    "import astropy.units as u\n",
    "import lightkurve as lk\n",
    "import numpy as np\n",
    "import pandas as pd\n",
    "import yaml\n",
    "\n",
    "tic = 369327947\n",
    "\n",
    "name = f\"TIC {tic}\"\n",
    "search_result = lk.search_lightcurve(name, author=\"SPOC\", exptime=120)\n",
    "\n",
    "# data\n",
    "klc = search_result[0].download()\n",
    "times = klc.time.to_value(\"btjd\")\n",
    "fluxes = klc.pdcsap_flux.to_value().filled(np.nan)\n",
    "errors = klc.flux_err.to_value().filled(np.nan)\n",
    "mask = np.isnan(fluxes) | np.isnan(errors) | np.isnan(times)\n",
    "original_time = times[~mask]\n",
    "original_flux = fluxes[~mask]\n",
    "original_error = errors[~mask]\n",
    "\n",
    "splits = np.array_split(\n",
    "    np.arange(len(original_time)), np.flatnonzero(np.diff(original_time) > 0.1) + 1\n",
    ")\n",
    "\n",
    "n = 300\n",
    "time = np.hstack([original_time[split[n:-n]] for split in splits])\n",
    "flux = np.hstack([original_flux[split[n:-n]] for split in splits])\n",
    "error = np.hstack([original_error[split[n:-n]] for split in splits])\n",
    "\n",
    "# first exposure\n",
    "first_exposure = klc.time[0]\n",
    "time_format = rf\"{first_exposure.format.upper()}_{{{first_exposure.scale.upper()}}}\"\n",
    "first_exposure_time = first_exposure.value\n",
    "\n",
    "flux_median = np.median(original_flux)\n",
    "time = time - first_exposure_time\n",
    "flux /= flux_median\n",
    "error /= flux_median"
   ]
  },
  {
   "cell_type": "code",
   "execution_count": 13,
   "metadata": {},
   "outputs": [
    {
     "data": {
      "text/plain": [
       "(5.0, 10.0)"
      ]
     },
     "execution_count": 13,
     "metadata": {},
     "output_type": "execute_result"
    },
    {
     "data": {
      "image/png": "[encoded data removed]",
      "text/plain": [
       "<Figure size 2000x400 with 1 Axes>"
      ]
     },
     "metadata": {},
     "output_type": "display_data"
    }
   ],
   "source": [
    "import matplotlib.pyplot as plt\n",
    "\n",
    "plt.figure(figsize=(20, 4))\n",
    "plt.plot(time, flux, \".\", c=\"0.8\", ms=2)\n",
    "plt.xlim(5,10)"
   ]
  },
  {
   "cell_type": "code",
   "execution_count": null,
   "metadata": {},
   "outputs": [],
   "source": []
  }
 ],
 "metadata": {
  "kernelspec": {
   "display_name": "paper-nuance",
   "language": "python",
   "name": "python3"
  },
  "language_info": {
   "codemirror_mode": {
    "name": "ipython",
    "version": 3
   },
   "file_extension": ".py",
   "mimetype": "text/x-python",
   "name": "python",
   "nbconvert_exporter": "python",
   "pygments_lexer": "ipython3",
   "version": "3.9.18"
  },
  "orig_nbformat": 4
 },
 "nbformat": 4,
 "nbformat_minor": 2
}
