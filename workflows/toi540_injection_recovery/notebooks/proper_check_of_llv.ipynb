{
 "cells": [
  {
   "cell_type": "code",
   "execution_count": 4,
   "id": "1a6ecb63-9db5-4b32-b092-534ed322804d",
   "metadata": {},
   "outputs": [],
   "source": [
    "import numpy as np\n",
    "\n",
    "a = np.random.rand(3, 10, 10)\n",
    "b = np.random.rand(3, 10, 10)\n",
    "c = np.random.rand(3, 10, 10)"
   ]
  },
  {
   "cell_type": "markdown",
   "id": "fa847df5-3e7b-476a-8ef6-e2c58efcf182",
   "metadata": {},
   "source": [
    "# 8E4"
   ]
  },
  {
   "cell_type": "code",
   "execution_count": 9,
   "id": "ee7a2088-079e-4c04-9414-8138833398fb",
   "metadata": {},
   "outputs": [],
   "source": [
    "def log_gauss_product_integral(a, va, b, vb):\n",
    "    \"\"\"Log of the product ot two Normal distributions (normalized)\n",
    "    Parameters\n",
    "    ----------\n",
    "    a : float\n",
    "        mean of distribution A\n",
    "    va : float\n",
    "        variance of distribution A\n",
    "    b : float\n",
    "        mean of distribution B\n",
    "    vb : float\n",
    "        variance of distribution B\n",
    "    Returns\n",
    "    -------\n",
    "    float\n",
    "        log of the integral of A*B\n",
    "    \"\"\"\n",
    "    return -0.5 * np.square(a-b)/(va +vb) - 0.5*np.log(va+vb) - 0.5*np.log(np.pi) - np.log(2)/2\n",
    "\n",
    "\n",
    "def Ps_8E4(lls, zs, vzs):\n",
    "    vZ = 1/np.sum(1/vzs, 0)\n",
    "    Z = vZ * np.sum(zs/vzs, 0)\n",
    "\n",
    "    P1 = np.sum(lls, 0)\n",
    "    P2 = P1 + np.sum(log_gauss_product_integral(zs, vzs, Z, vZ), 0)\n",
    "    return P1, P2"
   ]
  },
  {
   "cell_type": "markdown",
   "id": "1afedf24-8871-4c3f-ad0a-9a1246804fc3",
   "metadata": {},
   "source": [
    "# 0De"
   ]
  },
  {
   "cell_type": "code",
   "execution_count": null,
   "id": "07032edc-cd53-4a58-8e9f-e554bb6ecf1d",
   "metadata": {},
   "outputs": [],
   "source": []
  },
  {
   "cell_type": "code",
   "execution_count": 10,
   "id": "df6234d6-e5cc-49de-bfe3-fd71aded3dd2",
   "metadata": {},
   "outputs": [
    {
     "data": {
      "text/plain": [
       "array([[1.55015116, 0.65499964, 2.23204768, 1.28541482, 2.05404913,\n",
       "        1.45913336, 0.94052782, 1.37307047, 1.8615359 , 1.44437086],\n",
       "       [0.88320276, 1.50194373, 1.66027311, 0.82766481, 1.38016459,\n",
       "        2.43459619, 1.22326631, 0.79059027, 1.75371008, 0.76188751],\n",
       "       [1.59141499, 0.92045964, 2.22934053, 1.5181269 , 1.86395921,\n",
       "        1.37156967, 1.71058937, 1.93137533, 0.29356583, 0.7957393 ],\n",
       "       [1.73458208, 1.54778996, 2.1795615 , 1.99435895, 1.27579223,\n",
       "        1.86675204, 2.26844812, 0.97417902, 1.57885881, 0.90749432],\n",
       "       [1.47394733, 2.48497176, 1.58456491, 1.94816807, 2.36698207,\n",
       "        1.44827649, 1.26098673, 1.90091466, 2.81874415, 1.65535558],\n",
       "       [1.19759032, 1.69240148, 1.24306674, 1.76212743, 2.05504501,\n",
       "        1.35103369, 1.59830699, 0.53708311, 0.92392574, 1.56651981],\n",
       "       [1.50026269, 1.16528148, 2.2823499 , 0.82308581, 1.85232688,\n",
       "        1.18502197, 2.63934233, 1.63179109, 2.56135822, 1.01009603],\n",
       "       [0.8776432 , 2.03728751, 0.7193495 , 1.29629956, 0.98915876,\n",
       "        1.19668374, 1.00019459, 1.82006461, 2.01730086, 1.31399629],\n",
       "       [1.01175438, 1.40770419, 0.1651031 , 1.16657828, 1.60250326,\n",
       "        1.24955459, 1.52223149, 1.66957409, 0.85010551, 0.81059467],\n",
       "       [1.40251361, 1.1872474 , 1.97863724, 2.10753788, 1.42189091,\n",
       "        1.36869737, 1.46189765, 1.90224569, 0.90402934, 1.61775311]])"
      ]
     },
     "execution_count": 10,
     "metadata": {},
     "output_type": "execute_result"
    }
   ],
   "source": [
    "Ps_8E4(a, b, c)[0]"
   ]
  },
  {
   "cell_type": "code",
   "execution_count": null,
   "id": "20b7808b-a2f3-43b7-8b54-21157f339c52",
   "metadata": {},
   "outputs": [],
   "source": []
  }
 ],
 "metadata": {
  "kernelspec": {
   "display_name": "Python 3 (ipykernel)",
   "language": "python",
   "name": "python3"
  },
  "language_info": {
   "codemirror_mode": {
    "name": "ipython",
    "version": 3
   },
   "file_extension": ".py",
   "mimetype": "text/x-python",
   "name": "python",
   "nbconvert_exporter": "python",
   "pygments_lexer": "ipython3",
   "version": "3.10.4"
  }
 },
 "nbformat": 4,
 "nbformat_minor": 5
}
