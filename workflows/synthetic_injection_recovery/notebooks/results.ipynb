{
 "cells": [
  {
   "cell_type": "code",
   "execution_count": 35,
   "id": "4ff1a660-1375-454f-8771-c9b6126d2107",
   "metadata": {},
   "outputs": [],
   "source": [
    "from glob import glob\n",
    "import yaml\n",
    "\n",
    "params = glob(\"../data/params/*.yaml\")"
   ]
  },
  {
   "cell_type": "code",
   "execution_count": 36,
   "id": "6a12bd5e-d6f5-424f-8a28-af4d15429589",
   "metadata": {},
   "outputs": [],
   "source": [
    "seeds = [p.split(\"/\")[-1].split(\".\")[0] for p in params]"
   ]
  },
  {
   "cell_type": "code",
   "execution_count": 41,
   "id": "a5313bb7-d52d-4e0c-9802-9c0f0237ee5a",
   "metadata": {},
   "outputs": [],
   "source": [
    "import numpy as np\n",
    "\n",
    "def right_candidate(t0, period, true_t0, true_period, verbose=False):\n",
    "    t0_check = np.abs((t0  - true_t0 + 0.5 * true_period) % true_period - 0.5 * true_period)%period < 0.01\n",
    "    period_check = np.abs(period - true_period) < 0.1\n",
    "    same = np.logical_and(t0_check, period_check)\n",
    "    if verbose:\n",
    "        if not same:\n",
    "            if not t0_check:\n",
    "                output = f\"t0 differ: {t0:.2e} {true_t0:.2e}\"\n",
    "            if not period_check:\n",
    "                output = f\"period differ: {period:.2e} {true_period:.2e}\"\n",
    "        else:\n",
    "            output = \"match\"\n",
    "        return same, output\n",
    "    else:\n",
    "        return same"
   ]
  },
  {
   "cell_type": "code",
   "execution_count": 46,
   "id": "fe0551df-1ba2-4664-a49e-1b6f421f9e2d",
   "metadata": {},
   "outputs": [],
   "source": [
    "nuance_detected = []\n",
    "wotan_tls_detected = []\n",
    "relative_duration = []\n",
    "relative_depth = []\n",
    "\n",
    "for seed in seeds:\n",
    "    params = yaml.full_load(open(f\"../data/params/{seed}.yaml\", \"r\"))\n",
    "    wotan_result = yaml.full_load(open(f\"../data/results/wotan_tls/{seed}.yaml\", \"r\"))\n",
    "    nuance_result = yaml.full_load(open(f\"../data/results/nuance/{seed}.yaml\", \"r\"))\n",
    "    wotan_tls_detected.append(right_candidate(params['t0'], params['period'], wotan_result['t0'], wotan_result['period']))\n",
    "    nuance_detected.append(right_candidate(params['t0'], params['period'], nuance_result['t0'], nuance_result['period']))\n",
    "    relative_depth.append(params['relative_depth'])\n",
    "    relative_duration.append(params['relative_duration'])"
   ]
  },
  {
   "cell_type": "code",
   "execution_count": 52,
   "id": "df16efa6-c673-4dd8-8a0d-69d014e2d8c8",
   "metadata": {},
   "outputs": [],
   "source": [
    "import pandas as pd\n",
    "    \n",
    "df = pd.DataFrame({\n",
    "    \"relative_duration\": relative_duration,\n",
    "    \"relativce_depth\": relative_depth,\n",
    "    \"wotan_tls\": wotan_tls_detected,\n",
    "    \"nuance_detected\": nuance_detected\n",
    "})"
   ]
  },
  {
   "cell_type": "code",
   "execution_count": 53,
   "id": "53bfada6-49a0-4f4e-83f5-f92dbcdb04a3",
   "metadata": {},
   "outputs": [
    {
     "data": {
      "text/html": [
       "<div>\n",
       "<style scoped>\n",
       "    .dataframe tbody tr th:only-of-type {\n",
       "        vertical-align: middle;\n",
       "    }\n",
       "\n",
       "    .dataframe tbody tr th {\n",
       "        vertical-align: top;\n",
       "    }\n",
       "\n",
       "    .dataframe thead th {\n",
       "        text-align: right;\n",
       "    }\n",
       "</style>\n",
       "<table border=\"1\" class=\"dataframe\">\n",
       "  <thead>\n",
       "    <tr style=\"text-align: right;\">\n",
       "      <th></th>\n",
       "      <th>relative_duration</th>\n",
       "      <th>relativce_depth</th>\n",
       "      <th>wotan_tls</th>\n",
       "      <th>nuance_detected</th>\n",
       "    </tr>\n",
       "  </thead>\n",
       "  <tbody>\n",
       "    <tr>\n",
       "      <th>0</th>\n",
       "      <td>2.143408</td>\n",
       "      <td>3.629590</td>\n",
       "      <td>False</td>\n",
       "      <td>False</td>\n",
       "    </tr>\n",
       "    <tr>\n",
       "      <th>1</th>\n",
       "      <td>1000.000000</td>\n",
       "      <td>0.100000</td>\n",
       "      <td>True</td>\n",
       "      <td>True</td>\n",
       "    </tr>\n",
       "    <tr>\n",
       "      <th>2</th>\n",
       "      <td>2.798910</td>\n",
       "      <td>3.569924</td>\n",
       "      <td>False</td>\n",
       "      <td>True</td>\n",
       "    </tr>\n",
       "    <tr>\n",
       "      <th>3</th>\n",
       "      <td>2.236375</td>\n",
       "      <td>0.227039</td>\n",
       "      <td>False</td>\n",
       "      <td>True</td>\n",
       "    </tr>\n",
       "  </tbody>\n",
       "</table>\n",
       "</div>"
      ],
      "text/plain": [
       "   relative_duration  relativce_depth  wotan_tls  nuance_detected\n",
       "0           2.143408         3.629590      False            False\n",
       "1        1000.000000         0.100000       True             True\n",
       "2           2.798910         3.569924      False             True\n",
       "3           2.236375         0.227039      False             True"
      ]
     },
     "execution_count": 53,
     "metadata": {},
     "output_type": "execute_result"
    }
   ],
   "source": [
    "df.to_csv(\")"
   ]
  },
  {
   "cell_type": "code",
   "execution_count": 54,
   "id": "cbb45800-eb8f-4e49-93a1-688c17f7a90a",
   "metadata": {},
   "outputs": [
    {
     "data": {
      "text/html": [
       "<div>\n",
       "<style scoped>\n",
       "    .dataframe tbody tr th:only-of-type {\n",
       "        vertical-align: middle;\n",
       "    }\n",
       "\n",
       "    .dataframe tbody tr th {\n",
       "        vertical-align: top;\n",
       "    }\n",
       "\n",
       "    .dataframe thead th {\n",
       "        text-align: right;\n",
       "    }\n",
       "</style>\n",
       "<table border=\"1\" class=\"dataframe\">\n",
       "  <thead>\n",
       "    <tr style=\"text-align: right;\">\n",
       "      <th></th>\n",
       "      <th>relative_duration</th>\n",
       "      <th>relativce_depth</th>\n",
       "      <th>wotan_tls</th>\n",
       "      <th>nuance_detected</th>\n",
       "    </tr>\n",
       "  </thead>\n",
       "  <tbody>\n",
       "    <tr>\n",
       "      <th>0</th>\n",
       "      <td>2.143408</td>\n",
       "      <td>3.629590</td>\n",
       "      <td>False</td>\n",
       "      <td>False</td>\n",
       "    </tr>\n",
       "    <tr>\n",
       "      <th>1</th>\n",
       "      <td>1000.000000</td>\n",
       "      <td>0.100000</td>\n",
       "      <td>True</td>\n",
       "      <td>True</td>\n",
       "    </tr>\n",
       "    <tr>\n",
       "      <th>2</th>\n",
       "      <td>2.798910</td>\n",
       "      <td>3.569924</td>\n",
       "      <td>False</td>\n",
       "      <td>True</td>\n",
       "    </tr>\n",
       "    <tr>\n",
       "      <th>3</th>\n",
       "      <td>2.236375</td>\n",
       "      <td>0.227039</td>\n",
       "      <td>False</td>\n",
       "      <td>True</td>\n",
       "    </tr>\n",
       "  </tbody>\n",
       "</table>\n",
       "</div>"
      ],
      "text/plain": [
       "   relative_duration  relativce_depth  wotan_tls  nuance_detected\n",
       "0           2.143408         3.629590      False            False\n",
       "1        1000.000000         0.100000       True             True\n",
       "2           2.798910         3.569924      False             True\n",
       "3           2.236375         0.227039      False             True"
      ]
     },
     "execution_count": 54,
     "metadata": {},
     "output_type": "execute_result"
    }
   ],
   "source": [
    "df"
   ]
  },
  {
   "cell_type": "code",
   "execution_count": null,
   "id": "c5adb728-1e37-4350-8c26-d6c0a343c25a",
   "metadata": {},
   "outputs": [],
   "source": []
  }
 ],
 "metadata": {
  "kernelspec": {
   "display_name": "Python 3 (ipykernel)",
   "language": "python",
   "name": "python3"
  },
  "language_info": {
   "codemirror_mode": {
    "name": "ipython",
    "version": 3
   },
   "file_extension": ".py",
   "mimetype": "text/x-python",
   "name": "python",
   "nbconvert_exporter": "python",
   "pygments_lexer": "ipython3",
   "version": "3.8.12"
  }
 },
 "nbformat": 4,
 "nbformat_minor": 5
}
