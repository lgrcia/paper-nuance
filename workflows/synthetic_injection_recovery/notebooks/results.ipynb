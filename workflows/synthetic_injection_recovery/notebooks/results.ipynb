{
 "cells": [
  {
   "cell_type": "code",
   "execution_count": 1,
   "id": "4ff1a660-1375-454f-8771-c9b6126d2107",
   "metadata": {},
   "outputs": [],
   "source": [
    "from glob import glob\n",
    "import yaml\n",
    "\n",
    "params = glob(\"../data/dataset1/results/wotan_tls/*.yaml\")"
   ]
  },
  {
   "cell_type": "code",
   "execution_count": 2,
   "id": "cd30be44-36bc-4257-809b-fa8bfe29b07b",
   "metadata": {},
   "outputs": [
    {
     "data": {
      "text/plain": [
       "9"
      ]
     },
     "execution_count": 2,
     "metadata": {},
     "output_type": "execute_result"
    }
   ],
   "source": [
    "len(params)"
   ]
  },
  {
   "cell_type": "code",
   "execution_count": 3,
   "id": "6a12bd5e-d6f5-424f-8a28-af4d15429589",
   "metadata": {},
   "outputs": [],
   "source": [
    "seeds = [p.split(\"/\")[-1].split(\".\")[0] for p in params]"
   ]
  },
  {
   "cell_type": "code",
   "execution_count": 4,
   "id": "a5313bb7-d52d-4e0c-9802-9c0f0237ee5a",
   "metadata": {},
   "outputs": [],
   "source": [
    "import numpy as np\n",
    "\n",
    "def right_candidate(t0, period, true_t0, true_period, verbose=False):\n",
    "    t0_check = np.abs((t0  - true_t0 + 0.5 * true_period) % true_period - 0.5 * true_period)%period < 0.01\n",
    "    period_check = np.abs(period - true_period) < 0.1\n",
    "    same = np.logical_and(t0_check, period_check)\n",
    "    if verbose:\n",
    "        if not same:\n",
    "            if not t0_check:\n",
    "                output = f\"t0 differ: {t0:.2e} {true_t0:.2e}\"\n",
    "            if not period_check:\n",
    "                output = f\"period differ: {period:.2e} {true_period:.2e}\"\n",
    "        else:\n",
    "            output = \"match\"\n",
    "        return same, output\n",
    "    else:\n",
    "        return same"
   ]
  },
  {
   "cell_type": "code",
   "execution_count": 6,
   "id": "fe0551df-1ba2-4664-a49e-1b6f421f9e2d",
   "metadata": {},
   "outputs": [],
   "source": [
    "wtls_detected = []\n",
    "relative_duration = []\n",
    "relative_depth = []\n",
    "\n",
    "for seed in seeds:\n",
    "    params = yaml.full_load(open(f\"../data/dataset1/params/{seed}.yaml\", \"r\"))\n",
    "    result = yaml.full_load(open(f\"../data/dataset1/results/wotan_tls/{seed}.yaml\", \"r\"))\n",
    "    wtls_detected.append(right_candidate(params['t0'], params['period'], result['t0'], result['period']))\n",
    "    relative_depth.append(params['relative_depth'])\n",
    "    relative_duration.append(params['relative_duration'])\n",
    "    \n",
    "amp = np.array(relative_depth)\n",
    "var = np.array(relative_duration)"
   ]
  },
  {
   "cell_type": "code",
   "execution_count": 7,
   "id": "df16efa6-c673-4dd8-8a0d-69d014e2d8c8",
   "metadata": {},
   "outputs": [
    {
     "data": {
      "text/plain": [
       "<matplotlib.collections.PathCollection at 0x11e2eebf0>"
      ]
     },
     "execution_count": 7,
     "metadata": {},
     "output_type": "execute_result"
    },
    {
     "data": {
      "image/png": "[encoded data removed]",
      "text/plain": [
       "<Figure size 432x288 with 1 Axes>"
      ]
     },
     "metadata": {
      "needs_background": "light"
     },
     "output_type": "display_data"
    }
   ],
   "source": [
    "import matplotlib.pyplot as plt\n",
    "\n",
    "plt.scatter(relative_duration, relative_depth, c=wtls_detected)"
   ]
  },
  {
   "cell_type": "code",
   "execution_count": 10,
   "id": "5e185d08-e9d3-48d3-b9b0-3452b7be058a",
   "metadata": {},
   "outputs": [
    {
     "data": {
      "text/plain": [
       "{'depth': 0.01,\n",
       " 'duration': 0.04,\n",
       " 'error': 0.001,\n",
       " 'omega': 78.53981633974483,\n",
       " 'period': 1.1,\n",
       " 'quality': 64.7272177931374,\n",
       " 'relative_depth': 1,\n",
       " 'relative_duration': 1,\n",
       " 'seed': 4,\n",
       " 'sigma': 0.0025,\n",
       " 't0': 0.2}"
      ]
     },
     "execution_count": 10,
     "metadata": {},
     "output_type": "execute_result"
    }
   ],
   "source": [
    "params"
   ]
  },
  {
   "cell_type": "code",
   "execution_count": 69,
   "id": "8926e736-7364-4141-b565-b1d57d00eff3",
   "metadata": {},
   "outputs": [
    {
     "data": {
      "text/plain": [
       "<matplotlib.image.AxesImage at 0x7f9390ca9f10>"
      ]
     },
     "execution_count": 69,
     "metadata": {},
     "output_type": "execute_result"
    },
    {
     "data": {
      "image/png": "[encoded data removed]",
      "text/plain": [
       "<Figure size 432x288 with 1 Axes>"
      ]
     },
     "metadata": {
      "needs_background": "light"
     },
     "output_type": "display_data"
    }
   ],
   "source": [
    "bins = (30,30)\n",
    "from scipy.stats import binned_statistic_2d\n",
    "plt.imshow(binned_statistic_2d(var, amp, wtls_detected, bins=bins).statistic.T, origin=\"lower\")"
   ]
  },
  {
   "cell_type": "code",
   "execution_count": 70,
   "id": "694930b9-3130-40ad-a105-64850ad842fb",
   "metadata": {},
   "outputs": [],
   "source": [
    "# -----------------------------------------------"
   ]
  },
  {
   "cell_type": "code",
   "execution_count": 71,
   "id": "81088650-3f4d-4955-bd23-8e5c38d1f7bd",
   "metadata": {},
   "outputs": [],
   "source": [
    "from glob import glob\n",
    "import yaml\n",
    "\n",
    "params = glob(\"../data/results/nuance/*.yaml\")"
   ]
  },
  {
   "cell_type": "code",
   "execution_count": 72,
   "id": "76264a43-e778-468e-a717-8ac54fdc826b",
   "metadata": {},
   "outputs": [
    {
     "data": {
      "text/plain": [
       "10707"
      ]
     },
     "execution_count": 72,
     "metadata": {},
     "output_type": "execute_result"
    }
   ],
   "source": [
    "len(params)"
   ]
  },
  {
   "cell_type": "code",
   "execution_count": 73,
   "id": "5c7c1777-7671-400d-af87-c4ee9295a0fc",
   "metadata": {},
   "outputs": [],
   "source": [
    "seeds = [p.split(\"/\")[-1].split(\".\")[0] for p in params]"
   ]
  },
  {
   "cell_type": "code",
   "execution_count": 74,
   "id": "7a41343f-d661-44b3-9ad1-aa0ac497a24c",
   "metadata": {},
   "outputs": [],
   "source": [
    "import numpy as np\n",
    "\n",
    "def right_candidate(t0, period, true_t0, true_period, verbose=False):\n",
    "    t0_check = np.abs((t0  - true_t0 + 0.5 * true_period) % true_period - 0.5 * true_period)%period < 0.01\n",
    "    period_check = np.abs(period - true_period) < 0.1\n",
    "    same = np.logical_and(t0_check, period_check)\n",
    "    if verbose:\n",
    "        if not same:\n",
    "            if not t0_check:\n",
    "                output = f\"t0 differ: {t0:.2e} {true_t0:.2e}\"\n",
    "            if not period_check:\n",
    "                output = f\"period differ: {period:.2e} {true_period:.2e}\"\n",
    "        else:\n",
    "            output = \"match\"\n",
    "        return same, output\n",
    "    else:\n",
    "        return same"
   ]
  },
  {
   "cell_type": "code",
   "execution_count": 75,
   "id": "8870918f-5d0e-4331-a460-0a7df95015fd",
   "metadata": {},
   "outputs": [],
   "source": [
    "nuance_detected = []\n",
    "relative_duration = []\n",
    "relative_depth = []\n",
    "\n",
    "for seed in seeds:\n",
    "    params = yaml.full_load(open(f\"../data/params/{seed}.yaml\", \"r\"))\n",
    "    result = yaml.full_load(open(f\"../data/results/nuance/{seed}.yaml\", \"r\"))\n",
    "    nuance_detected.append(right_candidate(params['t0'], params['period'], result['t0'], result['period']))\n",
    "    relative_depth.append(params['relative_depth'])\n",
    "    relative_duration.append(params['relative_duration'])\n",
    "    \n",
    "amp = np.array(relative_depth)\n",
    "var = np.array(relative_duration)"
   ]
  },
  {
   "cell_type": "code",
   "execution_count": 76,
   "id": "206f1698-7a18-45ca-aad1-777284465a20",
   "metadata": {},
   "outputs": [],
   "source": [
    "nuance_detected = np.array(nuance_detected)\n",
    "wtls_detected = np.array(wtls_detected)"
   ]
  },
  {
   "cell_type": "code",
   "execution_count": 77,
   "id": "8f797e6c-4334-4710-a373-3036c82dbe36",
   "metadata": {},
   "outputs": [
    {
     "data": {
      "text/plain": [
       "<matplotlib.collections.PathCollection at 0x7f939024c580>"
      ]
     },
     "execution_count": 77,
     "metadata": {},
     "output_type": "execute_result"
    },
    {
     "data": {
      "image/png": "[encoded data removed]",
      "text/plain": [
       "<Figure size 432x288 with 1 Axes>"
      ]
     },
     "metadata": {
      "needs_background": "light"
     },
     "output_type": "display_data"
    }
   ],
   "source": [
    "import matplotlib.pyplot as plt\n",
    "\n",
    "plt.scatter(relative_duration, relative_depth, c=nuance_detected)"
   ]
  },
  {
   "cell_type": "code",
   "execution_count": 79,
   "id": "d93d6da3-4b1d-4cac-b024-ff8ad23dd2d5",
   "metadata": {},
   "outputs": [
    {
     "data": {
      "text/plain": [
       "<matplotlib.image.AxesImage at 0x7f938ff96730>"
      ]
     },
     "execution_count": 79,
     "metadata": {},
     "output_type": "execute_result"
    },
    {
     "data": {
      "image/png": "[encoded data removed]",
      "text/plain": [
       "<Figure size 432x288 with 1 Axes>"
      ]
     },
     "metadata": {
      "needs_background": "light"
     },
     "output_type": "display_data"
    }
   ],
   "source": [
    "from scipy.stats import binned_statistic_2d\n",
    "plt.imshow(binned_statistic_2d(var, amp, nuance_detected, bins=bins).statistic.T, origin=\"lower\")"
   ]
  },
  {
   "cell_type": "code",
   "execution_count": 39,
   "id": "3c6ff151-22c4-4fd0-95f9-5663c27935ee",
   "metadata": {},
   "outputs": [
    {
     "ename": "ValueError",
     "evalue": "operands could not be broadcast together with shapes (9705,) (9641,) ",
     "output_type": "error",
     "traceback": [
      "\u001b[0;31m---------------------------------------------------------------------------\u001b[0m",
      "\u001b[0;31mValueError\u001b[0m                                Traceback (most recent call last)",
      "Input \u001b[0;32mIn [39]\u001b[0m, in \u001b[0;36m<module>\u001b[0;34m\u001b[0m\n\u001b[0;32m----> 1\u001b[0m \u001b[43mnuance_detected\u001b[49m\u001b[43m \u001b[49m\u001b[38;5;241;43m&\u001b[39;49m\u001b[43m \u001b[49m\u001b[43mwtls_detected\u001b[49m\n",
      "\u001b[0;31mValueError\u001b[0m: operands could not be broadcast together with shapes (9705,) (9641,) "
     ]
    }
   ],
   "source": [
    "nuance_detected & wtls_detected"
   ]
  },
  {
   "cell_type": "code",
   "execution_count": null,
   "id": "0dd723c1-d225-45e6-81fe-fccf092eca9e",
   "metadata": {},
   "outputs": [],
   "source": []
  }
 ],
 "metadata": {
  "kernelspec": {
   "display_name": "Python 3 (ipykernel)",
   "language": "python",
   "name": "python3"
  },
  "language_info": {
   "codemirror_mode": {
    "name": "ipython",
    "version": 3
   },
   "file_extension": ".py",
   "mimetype": "text/x-python",
   "name": "python",
   "nbconvert_exporter": "python",
   "pygments_lexer": "ipython3",
   "version": "3.10.4"
  }
 },
 "nbformat": 4,
 "nbformat_minor": 5
}
