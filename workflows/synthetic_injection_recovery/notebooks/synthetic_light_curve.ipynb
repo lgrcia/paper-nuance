{
 "cells": [
  {
   "cell_type": "code",
   "execution_count": 140,
   "id": "3a65b9a5-efee-4bf0-b80f-a98499f94216",
   "metadata": {},
   "outputs": [],
   "source": [
    "%matplotlib widget"
   ]
  },
  {
   "cell_type": "code",
   "execution_count": 163,
   "id": "2bdf1e6a-5f14-48ba-8ad9-d3d135944d5b",
   "metadata": {},
   "outputs": [],
   "source": [
    "# generate_params.py\n",
    "import numpy as np\n",
    "import yaml\n",
    "\n",
    "seed = np.random.randint(0, 1e5)\n",
    "np.random.seed(seed)\n",
    "\n",
    "params = {\n",
    "    \"t0\" : 0,\n",
    "    \"duration\" : 0.04,\n",
    "    \"depth\" : 1e-2,\n",
    "    \"period\" : 3,\n",
    "    \"error\" : 1e-3,\n",
    "}\n",
    "\n",
    "params.update({\n",
    "    \"omega\" : 2*np.pi/(params[\"duration\"] * np.random.uniform(0.1, 5)),\n",
    "    \"quality\" : np.random.uniform(10, 100),\n",
    "    \"sigma\" : params[\"depth\"] * np.random.uniform(0.1, 5),\n",
    "    \"seed\" : seed,\n",
    "})\n",
    "\n",
    "yaml.dump(params, open(f\"../data/params/{params['seed']}.yaml\", \"w\"))"
   ]
  },
  {
   "cell_type": "code",
   "execution_count": 169,
   "id": "37f6bfed-9695-4f9b-99c9-541c49d67874",
   "metadata": {},
   "outputs": [],
   "source": [
    "# make_lightcurve.py\n",
    "from nuance.utils import periodic_transit\n",
    "\n",
    "time = np.arange(0, 10, 2/60/24) + 0.23\n",
    "\n",
    "params = yaml.full_load(open(f\"../data/params/{params['seed']}.yaml\", \"r\"))\n",
    "kernel = tinygp.kernels.quasisep.SHO(params['omega'], params['quality'], sigma=params[\"sigma\"])\n",
    "gp = tinygp.GaussianProcess(kernel, time, diag=params['error']**2)\n",
    "\n",
    "transit = periodic_transit(time, params[\"t0\"], params[\"duration\"], params[\"depth\"], P=params[\"period\"])\n",
    "y = gp.sample(jax.random.PRNGKey(seed)) + transit\n",
    "\n",
    "# plt.figure()\n",
    "# plt.plot(time, y, \"-\")\n",
    "# plt.plot(time, transit)\n",
    "\n",
    "np.save(f\"../data/lightcurves/{params['seed']}.npy\", np.array([time, y, np.ones_like(y)*error]))"
   ]
  },
  {
   "cell_type": "code",
   "execution_count": 161,
   "id": "bbd6387c-410a-4ff7-9cb6-dfc75f8e1aa4",
   "metadata": {},
   "outputs": [
    {
     "data": {
      "text/plain": [
       "7200"
      ]
     },
     "execution_count": 161,
     "metadata": {},
     "output_type": "execute_result"
    }
   ],
   "source": [
    "len(time)"
   ]
  },
  {
   "cell_type": "code",
   "execution_count": 159,
   "id": "f2d22cad-12e5-467b-b2f7-fff294f939f1",
   "metadata": {},
   "outputs": [
    {
     "data": {
      "text/plain": [
       "0.001388888888888889"
      ]
     },
     "execution_count": 159,
     "metadata": {},
     "output_type": "execute_result"
    }
   ],
   "source": [
    "2/60/24"
   ]
  },
  {
   "cell_type": "code",
   "execution_count": 131,
   "id": "de76a6cc-7d7d-4bf6-a9fc-aa0b02caf5cf",
   "metadata": {},
   "outputs": [],
   "source": [
    "transit = periodic_transit(time, params[\"t0\"], params[\"duration\"], params[\"depth\"], P=params[\"period\"])"
   ]
  },
  {
   "cell_type": "code",
   "execution_count": 4,
   "id": "ddf8521b-b0e4-45af-a09d-8539ee34387a",
   "metadata": {},
   "outputs": [],
   "source": [
    "import tinygp"
   ]
  },
  {
   "cell_type": "code",
   "execution_count": 7,
   "id": "8d8c4adb-10e5-4c1f-bc8b-7edd67492998",
   "metadata": {},
   "outputs": [],
   "source": [
    "time = np.linspace(0, 10, 1000) + 0.23"
   ]
  },
  {
   "cell_type": "code",
   "execution_count": 76,
   "id": "8658f567-665a-4a54-ab2a-421b861bc162",
   "metadata": {},
   "outputs": [],
   "source": [
    "omega = 2*np.pi/(duration * np.random.uniform(0.1, 5))\n",
    "quality = np.random.uniform(10, 100)\n",
    "sigma = depth * np.random.uniform(0.1, 5)\n",
    "seed = np.random.randint(0, 1e5)\n",
    "\n",
    "\n",
    "\n",
    "kernel = tinygp.kernels.quasisep.SHO(omega, quality)\n",
    "gp = tinygp.GaussianProcess(kernel, time, diag=error**2)"
   ]
  },
  {
   "cell_type": "code",
   "execution_count": 109,
   "id": "b5d8202a-5c17-4629-83cd-cb784a86d057",
   "metadata": {},
   "outputs": [],
   "source": [
    "import jax\n",
    "\n",
    "y = gp.sample(jax.random.PRNGKey(seed))"
   ]
  },
  {
   "cell_type": "code",
   "execution_count": 110,
   "id": "79d0d414-19d9-45a1-a92a-69f4b4546a26",
   "metadata": {},
   "outputs": [],
   "source": [
    "import matplotlib.pyplot as plt"
   ]
  },
  {
   "cell_type": "code",
   "execution_count": 136,
   "id": "070e2ee6-c841-4560-8708-958da024a428",
   "metadata": {},
   "outputs": [
    {
     "data": {
      "text/plain": [
       "[<matplotlib.lines.Line2D at 0x7f9e84430670>]"
      ]
     },
     "execution_count": 136,
     "metadata": {},
     "output_type": "execute_result"
    },
    {
     "data": {
      "image/png": "[encoded data removed]",
      "text/plain": [
       "<Figure size 432x288 with 1 Axes>"
      ]
     },
     "metadata": {
      "needs_background": "light"
     },
     "output_type": "display_data"
    }
   ],
   "source": [
    "plt.plot(time, y)"
   ]
  },
  {
   "cell_type": "code",
   "execution_count": 99,
   "id": "a37b84d0-ded4-492b-ae9f-a5a8a31f39fc",
   "metadata": {},
   "outputs": [
    {
     "data": {
      "text/plain": [
       "70764"
      ]
     },
     "execution_count": 99,
     "metadata": {},
     "output_type": "execute_result"
    }
   ],
   "source": [
    "seed"
   ]
  },
  {
   "cell_type": "code",
   "execution_count": null,
   "id": "d67120a9-2296-4109-9fec-6101cc0b6a45",
   "metadata": {},
   "outputs": [],
   "source": []
  }
 ],
 "metadata": {
  "kernelspec": {
   "display_name": "Python 3 (ipykernel)",
   "language": "python",
   "name": "python3"
  },
  "language_info": {
   "codemirror_mode": {
    "name": "ipython",
    "version": 3
   },
   "file_extension": ".py",
   "mimetype": "text/x-python",
   "name": "python",
   "nbconvert_exporter": "python",
   "pygments_lexer": "ipython3",
   "version": "3.8.12"
  }
 },
 "nbformat": 4,
 "nbformat_minor": 5
}
