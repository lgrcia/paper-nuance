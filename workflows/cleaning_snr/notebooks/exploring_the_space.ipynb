{
 "cells": [
  {
   "cell_type": "markdown",
   "id": "94a07a8b-90c7-4c58-bd5a-b7abd7dbc41c",
   "metadata": {},
   "source": [
    "In this notebook I explore the parameter space for which the SNR is highly degraded by cleaning"
   ]
  },
  {
   "cell_type": "code",
   "execution_count": 2,
   "id": "0dfcfc43-886e-4d1b-a704-48afbd55cfa8",
   "metadata": {},
   "outputs": [
    {
     "ename": "ModuleNotFoundError",
     "evalue": "No module named 'signals'",
     "output_type": "error",
     "traceback": [
      "\u001b[0;31m---------------------------------------------------------------------------\u001b[0m",
      "\u001b[0;31mModuleNotFoundError\u001b[0m                       Traceback (most recent call last)",
      "Input \u001b[0;32mIn [2]\u001b[0m, in \u001b[0;36m<cell line: 9>\u001b[0;34m()\u001b[0m\n\u001b[1;32m      5\u001b[0m sys\u001b[38;5;241m.\u001b[39mpath\u001b[38;5;241m.\u001b[39mappend(\u001b[38;5;124m\"\u001b[39m\u001b[38;5;124m../../scripts\u001b[39m\u001b[38;5;124m\"\u001b[39m)\n\u001b[1;32m      7\u001b[0m \u001b[38;5;66;03m# from scripts\u001b[39;00m\n\u001b[1;32m      8\u001b[0m \u001b[38;5;66;03m# ------------\u001b[39;00m\n\u001b[0;32m----> 9\u001b[0m \u001b[38;5;28;01mfrom\u001b[39;00m \u001b[38;5;21;01msignals\u001b[39;00m \u001b[38;5;28;01mimport\u001b[39;00m protopapas2005, pont2006\n\u001b[1;32m     10\u001b[0m np\u001b[38;5;241m.\u001b[39mrandom\u001b[38;5;241m.\u001b[39mseed(\u001b[38;5;241m43\u001b[39m)\n",
      "\u001b[0;31mModuleNotFoundError\u001b[0m: No module named 'signals'"
     ]
    }
   ],
   "source": [
    "%config IPCompleter.use_jedi = False\n",
    "import numpy as np\n",
    "import sys\n",
    "import matplotlib.pyplot as plt\n",
    "sys.path.append(\"../../scripts\")\n",
    "\n",
    "# from scripts\n",
    "# ------------\n",
    "from signals import protopapas2005, pont2006\n",
    "np.random.seed(43)"
   ]
  },
  {
   "cell_type": "markdown",
   "id": "bc322948-3b64-4caa-8313-235f13eb8bd5",
   "metadata": {},
   "source": [
    "# A transit without noise"
   ]
  },
  {
   "cell_type": "code",
   "execution_count": null,
   "id": "018fef25-691b-442d-86b9-795e84115215",
   "metadata": {},
   "outputs": [],
   "source": [
    "# transit\n",
    "time = np.linspace(0, 20, 10000)\n",
    "dur = 0.1\n",
    "depth = 0.8e-2\n",
    "t0 = time.mean()\n",
    "n = dur/np.median(np.diff(time))\n",
    "signal = protopapas2005(time, t0, dur, depth, period=100, c=10)\n",
    "\n",
    "# white noise\n",
    "wsigma = 0\n",
    "white_noise = np.random.normal(0, wsigma, len(time))\n",
    "flux = white_noise + signal\n",
    "print(n)"
   ]
  },
  {
   "cell_type": "code",
   "execution_count": null,
   "id": "6036e492-cff9-48ec-88b6-7330f83b9690",
   "metadata": {},
   "outputs": [],
   "source": [
    "plt.figure(figsize=(15,4))\n",
    "plt.plot(time, flux, \".\", c=\"0.8\")\n",
    "plt.plot(time, signal, c=\"k\", alpha=0.4, lw=2)\n",
    "plt.ylim(0.98, 1.02)\n",
    "plt.tight_layout()"
   ]
  },
  {
   "cell_type": "markdown",
   "id": "729f933c-6a34-41bc-ac26-76ad8759ca67",
   "metadata": {},
   "source": [
    "# MCMC"
   ]
  },
  {
   "cell_type": "code",
   "execution_count": 3,
   "id": "02fafd02-c62c-4a3b-897a-8c4779d63912",
   "metadata": {},
   "outputs": [
    {
     "ename": "ModuleNotFoundError",
     "evalue": "No module named 'celerite'",
     "output_type": "error",
     "traceback": [
      "\u001b[0;31m---------------------------------------------------------------------------\u001b[0m",
      "\u001b[0;31mModuleNotFoundError\u001b[0m                       Traceback (most recent call last)",
      "Input \u001b[0;32mIn [3]\u001b[0m, in \u001b[0;36m<cell line: 3>\u001b[0;34m()\u001b[0m\n\u001b[1;32m      1\u001b[0m \u001b[38;5;28;01mfrom\u001b[39;00m \u001b[38;5;21;01mwotan\u001b[39;00m \u001b[38;5;28;01mimport\u001b[39;00m flatten\n\u001b[1;32m      2\u001b[0m \u001b[38;5;28;01mfrom\u001b[39;00m \u001b[38;5;21;01mtqdm\u001b[39;00m \u001b[38;5;28;01mimport\u001b[39;00m tqdm\n\u001b[0;32m----> 3\u001b[0m \u001b[38;5;28;01mimport\u001b[39;00m \u001b[38;5;21;01mcelerite\u001b[39;00m\n\u001b[1;32m      4\u001b[0m \u001b[38;5;28;01mfrom\u001b[39;00m \u001b[38;5;21;01mcelerite\u001b[39;00m \u001b[38;5;28;01mimport\u001b[39;00m terms\n",
      "\u001b[0;31mModuleNotFoundError\u001b[0m: No module named 'celerite'"
     ]
    }
   ],
   "source": [
    "from wotan import flatten\n",
    "from tqdm import tqdm\n",
    "import celerite\n",
    "from celerite import terms\n",
    "# https://github.com/hippke/wotan"
   ]
  },
  {
   "cell_type": "markdown",
   "id": "6d82d099-22d6-46ae-939b-a27fe45b1d37",
   "metadata": {
    "tags": []
   },
   "source": [
    "# Inclduing white noise"
   ]
  },
  {
   "cell_type": "code",
   "execution_count": null,
   "id": "ade7622d-19ea-4086-9cfd-55408a597e31",
   "metadata": {},
   "outputs": [
    {
     "name": "stderr",
     "output_type": "stream",
     "text": [
      "  0%|                                    | 10/100000 [00:24<68:38:45,  2.47s/it]"
     ]
    }
   ],
   "source": [
    "np.random.seed(47)\n",
    "plot = False\n",
    "\n",
    "N = 100000\n",
    "periods = np.random.uniform(0.1, 5, size=N)*dur\n",
    "amps = np.random.uniform(0.1, 15, size=N)*depth\n",
    "sigmas_white = np.random.uniform(1/50, 1, size=N)*depth\n",
    "snrs = []\n",
    "cut = 300\n",
    "intransit = signal  < (1 - depth/2)\n",
    "i = 0\n",
    "    \n",
    "for period, amp, wsigma in zip(tqdm(periods), amps, sigmas_white):\n",
    "\n",
    "    Q = 10\n",
    "    w0 = 1/period\n",
    "    S0 = amp**2 / (w0 * Q)\n",
    "\n",
    "    var_kernel = terms.SHOTerm(log_S0=np.log(S0), log_Q=np.log(Q), log_omega0=np.log(w0))\n",
    "    gp = celerite.GP(var_kernel)\n",
    "    gp.compute(time)\n",
    "\n",
    "    _variability = gp.sample()\n",
    "    _flux = white_noise + signal + _variability\n",
    "    _flatten_flux, _flatten_trend = flatten(time, _flux, window_length=3*dur, return_trend=True)\n",
    "    new_depth = np.max([0, np.median(_flatten_flux[~intransit][cut:-cut]) - np.median(_flatten_flux[intransit])])\n",
    "    w, r = pont2006(time[~intransit][cut:-cut], _flatten_flux[~intransit][cut:-cut])\n",
    "    snrs.append(new_depth/np.sqrt((w**2)/n + r**2))\n",
    "\n",
    "    if plot:\n",
    "        print(period)\n",
    "        plt.figure()\n",
    "        plt.plot(time, _flux, \".\", lw=2)\n",
    "        plt.plot(time, _variability + 1,)\n",
    "        plt.ylim(0.98, 1.02)\n",
    "\n",
    "        plt.figure()\n",
    "        plt.plot(time, _flux, \".\")\n",
    "        plt.ylim(0.98, 1.02)\n",
    "\n",
    "        plt.figure()\n",
    "        plt.plot(time[~intransit][cut:-cut], _flatten_flux[~intransit][cut:-cut], \".\")\n",
    "        plt.ylim(0.98, 1.02)\n",
    "\n",
    "        plt.figure()\n",
    "        plt.plot(time, _flatten_flux, \".\")\n",
    "        plt.xlim(t0 - 5*dur, t0 + 5*dur)\n",
    "        plt.ylim(0.98, 1.02)\n",
    "\n",
    "    i += 1\n",
    "\n",
    "np.save(f\"samples_3d.npy\", [periods/dur, amps/depth, sigmas_white/depth, snrs])"
   ]
  },
  {
   "cell_type": "code",
   "execution_count": 1,
   "id": "db40a736-0184-4489-ae24-863521f4dd65",
   "metadata": {},
   "outputs": [
    {
     "ename": "NameError",
     "evalue": "name 'intransit' is not defined",
     "output_type": "error",
     "traceback": [
      "\u001b[0;31m---------------------------------------------------------------------------\u001b[0m",
      "\u001b[0;31mNameError\u001b[0m                                 Traceback (most recent call last)",
      "Input \u001b[0;32mIn [1]\u001b[0m, in \u001b[0;36m<cell line: 1>\u001b[0;34m()\u001b[0m\n\u001b[0;32m----> 1\u001b[0m \u001b[43mintransit\u001b[49m\n",
      "\u001b[0;31mNameError\u001b[0m: name 'intransit' is not defined"
     ]
    }
   ],
   "source": [
    "intransit"
   ]
  },
  {
   "cell_type": "markdown",
   "id": "51f6fdaa-71c4-4138-a7db-0716b694928f",
   "metadata": {
    "tags": []
   },
   "source": [
    "# No white noise\n",
    "\n",
    "This time we only explore the relative amplitude and timescale with a 0 white noise"
   ]
  },
  {
   "cell_type": "code",
   "execution_count": 11,
   "id": "4bc6f5cb-65b0-4454-9349-03d70b429f19",
   "metadata": {},
   "outputs": [
    {
     "name": "stderr",
     "output_type": "stream",
     "text": [
      "  0%|          | 5/20000 [00:11<12:28:22,  2.25s/it]\n"
     ]
    },
    {
     "ename": "KeyboardInterrupt",
     "evalue": "",
     "output_type": "error",
     "traceback": [
      "\u001b[0;31m---------------------------------------------------------------------------\u001b[0m",
      "\u001b[0;31mKeyboardInterrupt\u001b[0m                         Traceback (most recent call last)",
      "\u001b[0;32m<ipython-input-11-bd12bd7cf72d>\u001b[0m in \u001b[0;36m<module>\u001b[0;34m\u001b[0m\n\u001b[1;32m     24\u001b[0m     \u001b[0m_flatten_flux\u001b[0m\u001b[0;34m,\u001b[0m \u001b[0m_flatten_trend\u001b[0m \u001b[0;34m=\u001b[0m \u001b[0mflatten\u001b[0m\u001b[0;34m(\u001b[0m\u001b[0mtime\u001b[0m\u001b[0;34m,\u001b[0m \u001b[0m_flux\u001b[0m\u001b[0;34m,\u001b[0m \u001b[0mwindow_length\u001b[0m\u001b[0;34m=\u001b[0m\u001b[0;36m3\u001b[0m\u001b[0;34m*\u001b[0m\u001b[0mdur\u001b[0m\u001b[0;34m,\u001b[0m \u001b[0mreturn_trend\u001b[0m\u001b[0;34m=\u001b[0m\u001b[0;32mTrue\u001b[0m\u001b[0;34m)\u001b[0m\u001b[0;34m\u001b[0m\u001b[0;34m\u001b[0m\u001b[0m\n\u001b[1;32m     25\u001b[0m     \u001b[0mnew_depth\u001b[0m \u001b[0;34m=\u001b[0m \u001b[0mnp\u001b[0m\u001b[0;34m.\u001b[0m\u001b[0mmax\u001b[0m\u001b[0;34m(\u001b[0m\u001b[0;34m[\u001b[0m\u001b[0;36m0\u001b[0m\u001b[0;34m,\u001b[0m \u001b[0mnp\u001b[0m\u001b[0;34m.\u001b[0m\u001b[0mmedian\u001b[0m\u001b[0;34m(\u001b[0m\u001b[0m_flatten_flux\u001b[0m\u001b[0;34m[\u001b[0m\u001b[0;34m~\u001b[0m\u001b[0mintransit\u001b[0m\u001b[0;34m]\u001b[0m\u001b[0;34m[\u001b[0m\u001b[0mcut\u001b[0m\u001b[0;34m:\u001b[0m\u001b[0;34m-\u001b[0m\u001b[0mcut\u001b[0m\u001b[0;34m]\u001b[0m\u001b[0;34m)\u001b[0m \u001b[0;34m-\u001b[0m \u001b[0mnp\u001b[0m\u001b[0;34m.\u001b[0m\u001b[0mmedian\u001b[0m\u001b[0;34m(\u001b[0m\u001b[0m_flatten_flux\u001b[0m\u001b[0;34m[\u001b[0m\u001b[0mintransit\u001b[0m\u001b[0;34m]\u001b[0m\u001b[0;34m)\u001b[0m\u001b[0;34m]\u001b[0m\u001b[0;34m)\u001b[0m\u001b[0;34m\u001b[0m\u001b[0;34m\u001b[0m\u001b[0m\n\u001b[0;32m---> 26\u001b[0;31m     \u001b[0mw\u001b[0m\u001b[0;34m,\u001b[0m \u001b[0mr\u001b[0m \u001b[0;34m=\u001b[0m \u001b[0mpont2006\u001b[0m\u001b[0;34m(\u001b[0m\u001b[0mtime\u001b[0m\u001b[0;34m[\u001b[0m\u001b[0;34m~\u001b[0m\u001b[0mintransit\u001b[0m\u001b[0;34m]\u001b[0m\u001b[0;34m[\u001b[0m\u001b[0mcut\u001b[0m\u001b[0;34m:\u001b[0m\u001b[0;34m-\u001b[0m\u001b[0mcut\u001b[0m\u001b[0;34m]\u001b[0m\u001b[0;34m,\u001b[0m \u001b[0m_flatten_flux\u001b[0m\u001b[0;34m[\u001b[0m\u001b[0;34m~\u001b[0m\u001b[0mintransit\u001b[0m\u001b[0;34m]\u001b[0m\u001b[0;34m[\u001b[0m\u001b[0mcut\u001b[0m\u001b[0;34m:\u001b[0m\u001b[0;34m-\u001b[0m\u001b[0mcut\u001b[0m\u001b[0;34m]\u001b[0m\u001b[0;34m)\u001b[0m\u001b[0;34m\u001b[0m\u001b[0;34m\u001b[0m\u001b[0m\n\u001b[0m\u001b[1;32m     27\u001b[0m     \u001b[0msnrs\u001b[0m\u001b[0;34m.\u001b[0m\u001b[0mappend\u001b[0m\u001b[0;34m(\u001b[0m\u001b[0mnew_depth\u001b[0m\u001b[0;34m/\u001b[0m\u001b[0mnp\u001b[0m\u001b[0;34m.\u001b[0m\u001b[0msqrt\u001b[0m\u001b[0;34m(\u001b[0m\u001b[0;34m(\u001b[0m\u001b[0mw\u001b[0m\u001b[0;34m**\u001b[0m\u001b[0;36m2\u001b[0m\u001b[0;34m)\u001b[0m\u001b[0;34m/\u001b[0m\u001b[0mn\u001b[0m \u001b[0;34m+\u001b[0m \u001b[0mr\u001b[0m\u001b[0;34m**\u001b[0m\u001b[0;36m2\u001b[0m\u001b[0;34m)\u001b[0m\u001b[0;34m)\u001b[0m\u001b[0;34m\u001b[0m\u001b[0;34m\u001b[0m\u001b[0m\n\u001b[1;32m     28\u001b[0m \u001b[0;34m\u001b[0m\u001b[0m\n",
      "\u001b[0;32m~/code/nuance/signals.py\u001b[0m in \u001b[0;36mpont2006\u001b[0;34m(x, y, n, plot)\u001b[0m\n\u001b[1;32m     46\u001b[0m     \u001b[0mdt\u001b[0m \u001b[0;34m=\u001b[0m \u001b[0mnp\u001b[0m\u001b[0;34m.\u001b[0m\u001b[0mmedian\u001b[0m\u001b[0;34m(\u001b[0m\u001b[0mnp\u001b[0m\u001b[0;34m.\u001b[0m\u001b[0mdiff\u001b[0m\u001b[0;34m(\u001b[0m\u001b[0mx\u001b[0m\u001b[0;34m)\u001b[0m\u001b[0;34m)\u001b[0m\u001b[0;34m\u001b[0m\u001b[0;34m\u001b[0m\u001b[0m\n\u001b[1;32m     47\u001b[0m     \u001b[0mns\u001b[0m \u001b[0;34m=\u001b[0m \u001b[0mnp\u001b[0m\u001b[0;34m.\u001b[0m\u001b[0marange\u001b[0m\u001b[0;34m(\u001b[0m\u001b[0;36m1\u001b[0m\u001b[0;34m,\u001b[0m \u001b[0mn\u001b[0m\u001b[0;34m)\u001b[0m\u001b[0;34m\u001b[0m\u001b[0;34m\u001b[0m\u001b[0m\n\u001b[0;32m---> 48\u001b[0;31m     \u001b[0mbinned\u001b[0m \u001b[0;34m=\u001b[0m \u001b[0;34m[\u001b[0m\u001b[0mfast_binning\u001b[0m\u001b[0;34m(\u001b[0m\u001b[0mx\u001b[0m\u001b[0;34m,\u001b[0m \u001b[0my\u001b[0m\u001b[0;34m,\u001b[0m \u001b[0mdt\u001b[0m \u001b[0;34m*\u001b[0m \u001b[0m_n\u001b[0m\u001b[0;34m)\u001b[0m\u001b[0;34m[\u001b[0m\u001b[0;36m1\u001b[0m\u001b[0;34m]\u001b[0m \u001b[0;32mfor\u001b[0m \u001b[0m_n\u001b[0m \u001b[0;32min\u001b[0m \u001b[0mns\u001b[0m\u001b[0;34m]\u001b[0m\u001b[0;34m\u001b[0m\u001b[0;34m\u001b[0m\u001b[0m\n\u001b[0m\u001b[1;32m     49\u001b[0m     \u001b[0m_nu\u001b[0m \u001b[0;34m=\u001b[0m \u001b[0;34m[\u001b[0m\u001b[0mnp\u001b[0m\u001b[0;34m.\u001b[0m\u001b[0mvar\u001b[0m\u001b[0;34m(\u001b[0m\u001b[0mb\u001b[0m\u001b[0;34m)\u001b[0m \u001b[0;32mfor\u001b[0m \u001b[0mb\u001b[0m \u001b[0;32min\u001b[0m \u001b[0mbinned\u001b[0m\u001b[0;34m]\u001b[0m\u001b[0;34m\u001b[0m\u001b[0;34m\u001b[0m\u001b[0m\n\u001b[1;32m     50\u001b[0m     \u001b[0mX\u001b[0m \u001b[0;34m=\u001b[0m \u001b[0mnp\u001b[0m\u001b[0;34m.\u001b[0m\u001b[0mhstack\u001b[0m\u001b[0;34m(\u001b[0m\u001b[0;34m[\u001b[0m\u001b[0;34m(\u001b[0m\u001b[0;36m1\u001b[0m\u001b[0;34m/\u001b[0m\u001b[0mns\u001b[0m\u001b[0;34m)\u001b[0m\u001b[0;34m[\u001b[0m\u001b[0;34m:\u001b[0m\u001b[0;34m,\u001b[0m \u001b[0;32mNone\u001b[0m\u001b[0;34m]\u001b[0m\u001b[0;34m,\u001b[0m \u001b[0mnp\u001b[0m\u001b[0;34m.\u001b[0m\u001b[0mones_like\u001b[0m\u001b[0;34m(\u001b[0m\u001b[0mns\u001b[0m\u001b[0;34m)\u001b[0m\u001b[0;34m[\u001b[0m\u001b[0;34m:\u001b[0m\u001b[0;34m,\u001b[0m \u001b[0;32mNone\u001b[0m\u001b[0;34m]\u001b[0m\u001b[0;34m]\u001b[0m\u001b[0;34m)\u001b[0m\u001b[0;34m\u001b[0m\u001b[0;34m\u001b[0m\u001b[0m\n",
      "\u001b[0;32m~/code/nuance/signals.py\u001b[0m in \u001b[0;36m<listcomp>\u001b[0;34m(.0)\u001b[0m\n\u001b[1;32m     46\u001b[0m     \u001b[0mdt\u001b[0m \u001b[0;34m=\u001b[0m \u001b[0mnp\u001b[0m\u001b[0;34m.\u001b[0m\u001b[0mmedian\u001b[0m\u001b[0;34m(\u001b[0m\u001b[0mnp\u001b[0m\u001b[0;34m.\u001b[0m\u001b[0mdiff\u001b[0m\u001b[0;34m(\u001b[0m\u001b[0mx\u001b[0m\u001b[0;34m)\u001b[0m\u001b[0;34m)\u001b[0m\u001b[0;34m\u001b[0m\u001b[0;34m\u001b[0m\u001b[0m\n\u001b[1;32m     47\u001b[0m     \u001b[0mns\u001b[0m \u001b[0;34m=\u001b[0m \u001b[0mnp\u001b[0m\u001b[0;34m.\u001b[0m\u001b[0marange\u001b[0m\u001b[0;34m(\u001b[0m\u001b[0;36m1\u001b[0m\u001b[0;34m,\u001b[0m \u001b[0mn\u001b[0m\u001b[0;34m)\u001b[0m\u001b[0;34m\u001b[0m\u001b[0;34m\u001b[0m\u001b[0m\n\u001b[0;32m---> 48\u001b[0;31m     \u001b[0mbinned\u001b[0m \u001b[0;34m=\u001b[0m \u001b[0;34m[\u001b[0m\u001b[0mfast_binning\u001b[0m\u001b[0;34m(\u001b[0m\u001b[0mx\u001b[0m\u001b[0;34m,\u001b[0m \u001b[0my\u001b[0m\u001b[0;34m,\u001b[0m \u001b[0mdt\u001b[0m \u001b[0;34m*\u001b[0m \u001b[0m_n\u001b[0m\u001b[0;34m)\u001b[0m\u001b[0;34m[\u001b[0m\u001b[0;36m1\u001b[0m\u001b[0;34m]\u001b[0m \u001b[0;32mfor\u001b[0m \u001b[0m_n\u001b[0m \u001b[0;32min\u001b[0m \u001b[0mns\u001b[0m\u001b[0;34m]\u001b[0m\u001b[0;34m\u001b[0m\u001b[0;34m\u001b[0m\u001b[0m\n\u001b[0m\u001b[1;32m     49\u001b[0m     \u001b[0m_nu\u001b[0m \u001b[0;34m=\u001b[0m \u001b[0;34m[\u001b[0m\u001b[0mnp\u001b[0m\u001b[0;34m.\u001b[0m\u001b[0mvar\u001b[0m\u001b[0;34m(\u001b[0m\u001b[0mb\u001b[0m\u001b[0;34m)\u001b[0m \u001b[0;32mfor\u001b[0m \u001b[0mb\u001b[0m \u001b[0;32min\u001b[0m \u001b[0mbinned\u001b[0m\u001b[0;34m]\u001b[0m\u001b[0;34m\u001b[0m\u001b[0;34m\u001b[0m\u001b[0m\n\u001b[1;32m     50\u001b[0m     \u001b[0mX\u001b[0m \u001b[0;34m=\u001b[0m \u001b[0mnp\u001b[0m\u001b[0;34m.\u001b[0m\u001b[0mhstack\u001b[0m\u001b[0;34m(\u001b[0m\u001b[0;34m[\u001b[0m\u001b[0;34m(\u001b[0m\u001b[0;36m1\u001b[0m\u001b[0;34m/\u001b[0m\u001b[0mns\u001b[0m\u001b[0;34m)\u001b[0m\u001b[0;34m[\u001b[0m\u001b[0;34m:\u001b[0m\u001b[0;34m,\u001b[0m \u001b[0;32mNone\u001b[0m\u001b[0;34m]\u001b[0m\u001b[0;34m,\u001b[0m \u001b[0mnp\u001b[0m\u001b[0;34m.\u001b[0m\u001b[0mones_like\u001b[0m\u001b[0;34m(\u001b[0m\u001b[0mns\u001b[0m\u001b[0;34m)\u001b[0m\u001b[0;34m[\u001b[0m\u001b[0;34m:\u001b[0m\u001b[0;34m,\u001b[0m \u001b[0;32mNone\u001b[0m\u001b[0;34m]\u001b[0m\u001b[0;34m]\u001b[0m\u001b[0;34m)\u001b[0m\u001b[0;34m\u001b[0m\u001b[0;34m\u001b[0m\u001b[0m\n",
      "\u001b[0;32m~/code/nuance/signals.py\u001b[0m in \u001b[0;36mfast_binning\u001b[0;34m(x, y, bins, error, std)\u001b[0m\n\u001b[1;32m     31\u001b[0m             \u001b[0mbinned_y\u001b[0m\u001b[0;34m[\u001b[0m\u001b[0mi\u001b[0m\u001b[0;34m]\u001b[0m \u001b[0;34m=\u001b[0m \u001b[0mnp\u001b[0m\u001b[0;34m.\u001b[0m\u001b[0mmean\u001b[0m\u001b[0;34m(\u001b[0m\u001b[0my\u001b[0m\u001b[0;34m[\u001b[0m\u001b[0ms\u001b[0m\u001b[0;34m]\u001b[0m\u001b[0;34m)\u001b[0m\u001b[0;34m\u001b[0m\u001b[0;34m\u001b[0m\u001b[0m\n\u001b[1;32m     32\u001b[0m             \u001b[0mbinned_x\u001b[0m\u001b[0;34m[\u001b[0m\u001b[0mi\u001b[0m\u001b[0;34m]\u001b[0m \u001b[0;34m=\u001b[0m \u001b[0mnp\u001b[0m\u001b[0;34m.\u001b[0m\u001b[0mmean\u001b[0m\u001b[0;34m(\u001b[0m\u001b[0mx\u001b[0m\u001b[0;34m[\u001b[0m\u001b[0ms\u001b[0m\u001b[0;34m]\u001b[0m\u001b[0;34m)\u001b[0m\u001b[0;34m\u001b[0m\u001b[0;34m\u001b[0m\u001b[0m\n\u001b[0;32m---> 33\u001b[0;31m             \u001b[0mbinned_error\u001b[0m\u001b[0;34m[\u001b[0m\u001b[0mi\u001b[0m\u001b[0;34m]\u001b[0m \u001b[0;34m=\u001b[0m \u001b[0mnp\u001b[0m\u001b[0;34m.\u001b[0m\u001b[0mstd\u001b[0m\u001b[0;34m(\u001b[0m\u001b[0my\u001b[0m\u001b[0;34m[\u001b[0m\u001b[0ms\u001b[0m\u001b[0;34m]\u001b[0m\u001b[0;34m)\u001b[0m \u001b[0;34m/\u001b[0m \u001b[0mnp\u001b[0m\u001b[0;34m.\u001b[0m\u001b[0msqrt\u001b[0m\u001b[0;34m(\u001b[0m\u001b[0mlen\u001b[0m\u001b[0;34m(\u001b[0m\u001b[0ms\u001b[0m\u001b[0;34m)\u001b[0m\u001b[0;34m)\u001b[0m\u001b[0;34m\u001b[0m\u001b[0;34m\u001b[0m\u001b[0m\n\u001b[0m\u001b[1;32m     34\u001b[0m \u001b[0;34m\u001b[0m\u001b[0m\n\u001b[1;32m     35\u001b[0m             \u001b[0;32mif\u001b[0m \u001b[0merror\u001b[0m \u001b[0;32mis\u001b[0m \u001b[0;32mnot\u001b[0m \u001b[0;32mNone\u001b[0m\u001b[0;34m:\u001b[0m\u001b[0;34m\u001b[0m\u001b[0;34m\u001b[0m\u001b[0m\n",
      "\u001b[0;31mKeyboardInterrupt\u001b[0m: "
     ]
    }
   ],
   "source": [
    "np.random.seed(40)\n",
    "plot = False\n",
    "\n",
    "N = 20000\n",
    "periods = np.random.uniform(0.1, 15, size=N)*dur\n",
    "amps = np.random.uniform(0.1, 15, size=N)*depth\n",
    "snrs = []\n",
    "cut = 300\n",
    "intransit = signal  < (1 - depth/2)\n",
    "i = 0\n",
    "    \n",
    "for period, amp in zip(tqdm(periods), amps):\n",
    "\n",
    "    Q = 10\n",
    "    w0 = 1/period\n",
    "    S0 = amp**2 / (w0 * Q)\n",
    "\n",
    "    var_kernel = terms.SHOTerm(log_S0=np.log(S0), log_Q=np.log(Q), log_omega0=np.log(w0))\n",
    "    gp = celerite.GP(var_kernel)\n",
    "    gp.compute(time)\n",
    "\n",
    "    _variability = gp.sample()\n",
    "    _flux = signal + _variability\n",
    "    _flatten_flux, _flatten_trend = flatten(time, _flux, window_length=3*dur, return_trend=True)\n",
    "    new_depth = np.max([0, np.median(_flatten_flux[~intransit][cut:-cut]) - np.median(_flatten_flux[intransit])])\n",
    "    w, r = pont2006(time[~intransit][cut:-cut], _flatten_flux[~intransit][cut:-cut])\n",
    "    snrs.append(new_depth/np.sqrt((w**2)/n + r**2))\n",
    "\n",
    "    if plot:\n",
    "        print(period)\n",
    "        plt.figure()\n",
    "        plt.plot(time, _flux, \".\", lw=2)\n",
    "        plt.plot(time, _variability + 1,)\n",
    "        #plt.ylim(0.98, 1.02)\n",
    "\n",
    "        plt.figure()\n",
    "        plt.plot(time, _flux, \".\")\n",
    "        #plt.ylim(0.98, 1.02)\n",
    "\n",
    "        plt.figure()\n",
    "        plt.plot(time[~intransit][cut:-cut], _flatten_flux[~intransit][cut:-cut], \".\")\n",
    "        #plt.ylim(0.98, 1.02)\n",
    "\n",
    "        plt.figure()\n",
    "        plt.plot(time, _flatten_flux, \".\")\n",
    "        plt.xlim(t0 - 5*dur, t0 + 5*dur)\n",
    "        #plt.ylim(0.98, 1.02)\n",
    "\n",
    "    i += 1\n",
    "\n",
    "np.save(f\"samples_no_white__timescale_amp_snrs.npy\", [periods/dur, amps/depth, snrs])"
   ]
  },
  {
   "cell_type": "code",
   "execution_count": 10,
   "id": "4b40d793-a14d-461c-a32e-a72b6ebbd230",
   "metadata": {},
   "outputs": [
    {
     "name": "stderr",
     "output_type": "stream",
     "text": [
      "/home/exotic/code/envs/nuance/lib/python3.6/site-packages/numpy/core/_asarray.py:136: VisibleDeprecationWarning: Creating an ndarray from ragged nested sequences (which is a list-or-tuple of lists-or-tuples-or ndarrays with different lengths or shapes) is deprecated. If you meant to do this, you must specify 'dtype=object' when creating the ndarray\n",
      "  return array(a, dtype, copy=False, order=order, subok=True)\n"
     ]
    }
   ],
   "source": [
    "np.save(f\"samples_no_white4.npy\", [periods/dur, amps/depth, snrs, \"\"\"timescale, amplitude, snr. \n",
    "timescale and amplitude relative to transit depth\"\"\"])"
   ]
  },
  {
   "cell_type": "code",
   "execution_count": 40,
   "id": "94bc6dc3-00a0-4e76-94ca-a2e45fa0993e",
   "metadata": {},
   "outputs": [
    {
     "data": {
      "text/plain": [
       "<matplotlib.colorbar.Colorbar at 0x12cab72b0>"
      ]
     },
     "execution_count": 40,
     "metadata": {},
     "output_type": "execute_result"
    },
    {
     "data": {
      "image/png": "[encoded data removed]",
      "text/plain": [
       "<Figure size 432x288 with 2 Axes>"
      ]
     },
     "metadata": {
      "needs_background": "light"
     },
     "output_type": "display_data"
    }
   ],
   "source": [
    "plt.scatter(periods[0:i]/dur, amps[0:i]/depth, c=snrs, vmax=8)\n",
    "plt.ylabel(\"amp\"); plt.xlabel(\"period\")\n",
    "plt.xlim(0, 5)\n",
    "plt.colorbar()"
   ]
  },
  {
   "cell_type": "code",
   "execution_count": null,
   "id": "5bd6601b-735b-41e8-8131-8ac379a00fca",
   "metadata": {},
   "outputs": [],
   "source": []
  }
 ],
 "metadata": {
  "kernelspec": {
   "display_name": "Python 3 (ipykernel)",
   "language": "python",
   "name": "python3"
  },
  "language_info": {
   "codemirror_mode": {
    "name": "ipython",
    "version": 3
   },
   "file_extension": ".py",
   "mimetype": "text/x-python",
   "name": "python",
   "nbconvert_exporter": "python",
   "pygments_lexer": "ipython3",
   "version": "3.10.4"
  }
 },
 "nbformat": 4,
 "nbformat_minor": 5
}
