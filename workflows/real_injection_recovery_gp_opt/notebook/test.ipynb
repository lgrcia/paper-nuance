{
 "cells": [
  {
   "cell_type": "code",
   "execution_count": 99,
   "metadata": {},
   "outputs": [],
   "source": [
    "import numpy as np\n",
    "\n",
    "\n",
    "def right_candidate(t0, period, true_t0, true_period, verbose=False):\n",
    "    t0_check = (\n",
    "        np.abs((t0 - true_t0 + 0.5 * true_period) % true_period - 0.5 * true_period)\n",
    "        % period\n",
    "        < 0.01\n",
    "    )\n",
    "    period_check = np.abs(period - true_period) <= 0.01\n",
    "    alias_check = np.abs(2 * period - true_period) <= 0.01\n",
    "    alias_check |= np.abs(period / 2 - true_period) <= 0.01\n",
    "    if period_check:\n",
    "        return 1\n",
    "    elif alias_check:\n",
    "        return 0.5\n",
    "    else:\n",
    "        return 0\n"
   ]
  },
  {
   "cell_type": "code",
   "execution_count": 101,
   "metadata": {},
   "outputs": [],
   "source": [
    "import pickle\n",
    "from glob import glob\n",
    "\n",
    "\n",
    "def get_nuance_results(folder):\n",
    "    files = glob(f\"{folder}/data/153193474/recovered/nuance/*.params\")\n",
    "\n",
    "    data = []\n",
    "\n",
    "    for f in files:\n",
    "        recovered_period = pickle.load(open(f, \"rb\"))[\"period\"]\n",
    "        i = int(eval(f.split(\"/\")[-1].split(\".\")[0]))\n",
    "        injected = pickle.load(\n",
    "            open(\n",
    "                f\"{folder}/data/153193474/injected/{i}.fluxes\",\n",
    "                \"rb\",\n",
    "            )\n",
    "        )\n",
    "        injected_radius = injected[\"planet_radius\"]\n",
    "        injected_period = injected[\"planet_period\"]\n",
    "        data.append(\n",
    "            [\n",
    "                injected_radius,\n",
    "                injected_period,\n",
    "                right_candidate(0, recovered_period, 0, injected_period),\n",
    "            ]\n",
    "        )\n",
    "\n",
    "    return np.array(data)\n"
   ]
  },
  {
   "attachments": {},
   "cell_type": "markdown",
   "metadata": {},
   "source": [
    "# Final plot"
   ]
  },
  {
   "cell_type": "code",
   "execution_count": 108,
   "metadata": {},
   "outputs": [],
   "source": [
    "import pandas as pd\n",
    "\n",
    "df = pd.read_csv(\"../data/153193474/recovered/nuance/results.csv\")\n"
   ]
  },
  {
   "cell_type": "code",
   "execution_count": 112,
   "metadata": {},
   "outputs": [],
   "source": [
    "def plot(filename, ax):\n",
    "    df = pd.read_csv(filename)\n",
    "    df[\"found\"] = df.apply(\n",
    "        lambda row: right_candidate(\n",
    "            row[\"t0\"], row[\"period\"], row[\"true_t0\"], row[\"true_period\"]\n",
    "        ),\n",
    "        axis=1,\n",
    "    )\n",
    "    radius, period, found, tau, delta = df[\n",
    "        [\"radius\", \"true_period\", \"found\", \"tau\", \"delta\"]\n",
    "    ].values.T\n",
    "\n",
    "    # setting up ranges\n",
    "    taus_range = np.min(tau), np.max(tau)\n",
    "    deltas_range = np.min(delta), np.max(delta)\n",
    "    periods_range = np.min(period), np.max(period)\n",
    "    radii_range = np.min(radius), np.max(radius)\n",
    "    extent = (*periods_range, *radii_range)\n",
    "\n",
    "    ax.imshow(\n",
    "        found.reshape((10, 10)),\n",
    "        extent=[*periods_range, *radii_range],\n",
    "        aspect=\"auto\",\n",
    "        cmap=\"Greys_r\",\n",
    "        origin=\"lower\",\n",
    "    )"
   ]
  },
  {
   "cell_type": "code",
   "execution_count": 136,
   "metadata": {},
   "outputs": [
    {
     "data": {
      "image/png": "[encoded data removed]",
      "text/plain": [
       "<Figure size 700x400 with 2 Axes>"
      ]
     },
     "metadata": {},
     "output_type": "display_data"
    }
   ],
   "source": [
    "plt.figure(figsize=(7, 4))\n",
    "\n",
    "ax = plt.subplot(121)\n",
    "plot(\n",
    "    \"../../real_injection_recovery_gp_opt/data/153193474/recovered/nuance/results.csv\",\n",
    "    ax,\n",
    ")\n",
    "ax.set_title(\"individually optimized GP\")\n",
    "ax2 = plt.subplot(122)\n",
    "plot(\"../../real_injection_recovery/data/153193474/recovered/nuance/results.csv\", ax2)\n",
    "ax2.set_title(\"single optimized GP\")\n",
    "ax2.set_xlabel(\"period (days)\")\n",
    "ax.set_ylabel(\"radius (R$_\\oplus$)\")\n",
    "ax.set_xlabel(\"period (days)\")\n",
    "plt.suptitle(\"nuance injection-recovery for TIC 153193474\")\n",
    "plt.tight_layout()\n",
    "# plt.savefig(\"../figures/TIC_153193474_consistency_check.pdf\", dpi=300)\n"
   ]
  },
  {
   "cell_type": "code",
   "execution_count": null,
   "metadata": {},
   "outputs": [],
   "source": [
    "ax = plt.subplot(121)"
   ]
  },
  {
   "cell_type": "code",
   "execution_count": null,
   "metadata": {},
   "outputs": [],
   "source": [
    "rec = "
   ]
  }
 ],
 "metadata": {
  "kernelspec": {
   "display_name": "nuance",
   "language": "python",
   "name": "python3"
  },
  "language_info": {
   "codemirror_mode": {
    "name": "ipython",
    "version": 3
   },
   "file_extension": ".py",
   "mimetype": "text/x-python",
   "name": "python",
   "nbconvert_exporter": "python",
   "pygments_lexer": "ipython3",
   "version": "3.8.13"
  },
  "orig_nbformat": 4
 },
 "nbformat": 4,
 "nbformat_minor": 2
}
