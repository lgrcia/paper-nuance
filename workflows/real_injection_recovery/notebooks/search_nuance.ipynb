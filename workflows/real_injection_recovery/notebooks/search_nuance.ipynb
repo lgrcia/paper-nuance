{
 "cells": [
  {
   "cell_type": "code",
   "execution_count": 8,
   "id": "3a4c174c-cb7d-4039-8c25-41dd8c727f5f",
   "metadata": {},
   "outputs": [],
   "source": [
    "import pickle\n",
    "import numpy as np\n",
    "import yaml\n",
    "\n",
    "lc_file = \"/Users/lgrcia/code/studies/paper-nuance/workflows/real_injection_recovery/data/140212114/injected/0.fluxes\"\n",
    "gp_file = \"/Users/lgrcia/code/studies/paper-nuance/workflows/real_injection_recovery/data/140212114/gp.yaml\"\n",
    "data = pickle.load(open(lc_file, \"rb\"))\n",
    "gp_params = yaml.full_load(open(gp_file, \"r\"))"
   ]
  },
  {
   "cell_type": "code",
   "execution_count": 11,
   "id": "334e854c-3e6e-42a6-85ba-2d233bc530fa",
   "metadata": {},
   "outputs": [],
   "source": [
    "from nuance import Nuance\n",
    "from nuance.kernels import rotation\n",
    "\n",
    "build_gp, _ = rotation(data[\"period\"])\n",
    "gp = build_gp(gp_params, data[\"time\"])\n",
    "\n",
    "nu = Nuance(data[\"time\"], data[\"flux\"], gp=gp)"
   ]
  },
  {
   "cell_type": "code",
   "execution_count": 15,
   "id": "c21a14da-063d-464f-8145-bdea4025af9d",
   "metadata": {},
   "outputs": [
    {
     "name": "stderr",
     "output_type": "stream",
     "text": [
      "100%|████████████████████████████████████| 16260/16260 [00:17<00:00, 949.26it/s]\n",
      "100%|██████████████████████████████████████| 3000/3000 [00:05<00:00, 575.59it/s]\n"
     ]
    }
   ],
   "source": [
    "nu.linear_search(data[\"time\"][1000:], np.array([0.01, data[\"duration\"]]))\n",
    "\n",
    "def clean_periods(periods, period, tol=0.02):\n",
    "    close = periods/period\n",
    "    return periods[np.abs(close - np.rint(close)) > tol]\n",
    "\n",
    "periods = np.linspace(1., 4., 3000)\n",
    "search = nu.periodic_search(periods)"
   ]
  },
  {
   "cell_type": "code",
   "execution_count": 24,
   "id": "5daa98f2-6cb7-4629-aa1a-05214885d715",
   "metadata": {},
   "outputs": [],
   "source": [
    "output = \"test.yaml\"\n",
    "result = dict(zip([\"t0\", \"duration\", \"period\"], search.best))\n",
    "yaml.safe_dump({name: float(value) for name, value in result.items()}, open(output, \"w\"))"
   ]
  },
  {
   "cell_type": "markdown",
   "id": "78cf344d-545a-42a8-8482-00b424c7e967",
   "metadata": {},
   "source": [
    "# py"
   ]
  },
  {
   "cell_type": "code",
   "execution_count": 9,
   "id": "36da1c66-e073-4e0c-8fa9-811ca3accc7e",
   "metadata": {
    "tags": []
   },
   "outputs": [],
   "source": [
    "import pickle\n",
    "\n",
    "import numpy as np\n",
    "import yaml\n",
    "from nuance import Nuance\n",
    "from nuance.kernels import rotation\n",
    "\n",
    "lc_file = \"/Users/lgrcia/code/studies/paper-nuance/workflows/real_injection_recovery/data/140212114/injected/3.fluxes\"\n",
    "gp_file = \"/Users/lgrcia/code/studies/paper-nuance/workflows/real_injection_recovery/data/140212114/gp.yaml\"\n",
    "data = pickle.load(open(lc_file, \"rb\"))\n",
    "gp_params = yaml.full_load(open(gp_file, \"r\"))"
   ]
  },
  {
   "cell_type": "code",
   "execution_count": 11,
   "id": "bec68dd9-531e-4939-a041-e341d981b380",
   "metadata": {
    "tags": []
   },
   "outputs": [
    {
     "data": {
      "text/plain": [
       "5.555555555555555"
      ]
     },
     "execution_count": 11,
     "metadata": {},
     "output_type": "execute_result"
    }
   ],
   "source": [
    "20*1000/60/60"
   ]
  },
  {
   "cell_type": "code",
   "execution_count": null,
   "id": "1329f4fd-68fd-43a4-8027-e4b3f5fe641a",
   "metadata": {},
   "outputs": [],
   "source": [
    "build_gp, _ = rotation(data[\"period\"])\n",
    "gp = build_gp(gp_params, data[\"time\"])\n",
    "\n",
    "nu = Nuance(data[\"time\"], data[\"flux\"], gp=gp)\n",
    "\n",
    "nu.linear_search(data[\"time\"][1000:], np.array([0.01, data[\"duration\"]]))\n",
    "\n",
    "\n",
    "def clean_periods(periods, period, tol=0.02):\n",
    "    close = periods / period\n",
    "    return periods[np.abs(close - np.rint(close)) > tol]\n",
    "\n",
    "\n",
    "periods = np.linspace(1.0, 4.0, 3000)\n",
    "search = nu.periodic_search(periods)\n",
    "\n",
    "output = snakemake.output[0]\n",
    "result = dict(zip([\"t0\", \"duration\", \"period\"], search.best))\n",
    "result[\"true_period\"] = data[\"period\"]\n",
    "result[\"true_t0\"] = data[\"t0\"]\n",
    "yaml.safe_dump(\n",
    "    {name: float(value) for name, value in result.items()}, open(output, \"w\")\n",
    ")"
   ]
  }
 ],
 "metadata": {
  "kernelspec": {
   "display_name": "Python 3 (ipykernel)",
   "language": "python",
   "name": "python3"
  },
  "language_info": {
   "codemirror_mode": {
    "name": "ipython",
    "version": 3
   },
   "file_extension": ".py",
   "mimetype": "text/x-python",
   "name": "python",
   "nbconvert_exporter": "python",
   "pygments_lexer": "ipython3",
   "version": "3.8.13"
  }
 },
 "nbformat": 4,
 "nbformat_minor": 5
}
