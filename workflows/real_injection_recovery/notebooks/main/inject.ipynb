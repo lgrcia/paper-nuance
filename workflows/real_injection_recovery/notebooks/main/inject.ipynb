{
 "cells": [
  {
   "cell_type": "code",
   "execution_count": 10,
   "id": "74b901f2-bff6-4fd9-b5f2-87b1b323fe97",
   "metadata": {},
   "outputs": [],
   "source": [
    "import pickle\n",
    "from nuance.utils import periodic_transit\n",
    "import numpy as np\n",
    "\n",
    "i = 0\n",
    "data_path = \"/Users/lgrcia/code/studies/paper-nuance/workflows/real_injection_recovery/data/29923559/lc.fluxes\"\n",
    "params_path = \"/Users/lgrcia/code/studies/paper-nuance/workflows/real_injection_recovery/data/29923559/params.values\"\n",
    "gp_path = \"/Users/lgrcia/code/studies/paper-nuance/workflows/real_injection_recovery/data/29923559/gp.yaml\""
   ]
  },
  {
   "cell_type": "code",
   "execution_count": 11,
   "id": "2d6fcd07-3f39-437c-b171-72457210beac",
   "metadata": {
    "tags": []
   },
   "outputs": [],
   "source": [
    "import pickle\n",
    "\n",
    "import numpy as np\n",
    "from nuance.star import Star\n",
    "from nuance.utils import periodic_transit\n",
    "\n",
    "data = pickle.load(open(data_path, \"rb\"))\n",
    "periods, radii = pickle.load(open(params_path, \"rb\"))\n",
    "\n",
    "star = Star(\n",
    "    data[\"star_radius\"], data[\"star_mass\"], data[\"star_amplitude\"], data[\"star_period\"]\n",
    ")\n",
    "\n",
    "np.random.seed(i)\n",
    "period = periods[i]\n",
    "radius = radii[i]\n",
    "tau = star.period2tau(period)\n",
    "delta = star.radius2delta(radius)\n",
    "duration = star.transit_duration(period)\n",
    "depth = star.transit_depth(radius)\n",
    "\n",
    "t0 = np.random.rand() * period\n",
    "\n",
    "transit = depth * periodic_transit(data[\"time\"], t0, duration, P=period)"
   ]
  },
  {
   "cell_type": "code",
   "execution_count": 13,
   "id": "4e8dc5e3-7ee5-42f5-9672-5ed9deac3d57",
   "metadata": {
    "tags": []
   },
   "outputs": [
    {
     "ename": "NameError",
     "evalue": "name 'ya' is not defined",
     "output_type": "error",
     "traceback": [
      "\u001b[0;31m---------------------------------------------------------------------------\u001b[0m",
      "\u001b[0;31mNameError\u001b[0m                                 Traceback (most recent call last)",
      "Cell \u001b[0;32mIn[13], line 4\u001b[0m\n\u001b[1;32m      1\u001b[0m \u001b[38;5;28;01mfrom\u001b[39;00m \u001b[38;5;21;01mnuance\u001b[39;00m\u001b[38;5;21;01m.\u001b[39;00m\u001b[38;5;21;01mkernels\u001b[39;00m \u001b[38;5;28;01mimport\u001b[39;00m rotation\n\u001b[1;32m      3\u001b[0m build_gp, init \u001b[38;5;241m=\u001b[39m rotation(data[\u001b[38;5;124m\"\u001b[39m\u001b[38;5;124mstar_period\u001b[39m\u001b[38;5;124m\"\u001b[39m], np\u001b[38;5;241m.\u001b[39mmean(data[\u001b[38;5;124m\"\u001b[39m\u001b[38;5;124merror\u001b[39m\u001b[38;5;124m\"\u001b[39m]), long_scale\u001b[38;5;241m=\u001b[39m\u001b[38;5;241m0.5\u001b[39m)\n\u001b[0;32m----> 4\u001b[0m gp \u001b[38;5;241m=\u001b[39m build_gp(\u001b[43mya\u001b[49m)\n",
      "\u001b[0;31mNameError\u001b[0m: name 'ya' is not defined"
     ]
    }
   ],
   "source": [
    "import yaml\n",
    "from nuance.kernels import rotation\n",
    "\n",
    "build_gp, init = rotation(data[\"star_period\"], np.mean(data[\"error\"]), long_scale=0.5)\n",
    "gp = build_gp(ya)"
   ]
  },
  {
   "cell_type": "code",
   "execution_count": null,
   "id": "a5e0b156-20ad-4107-84f1-368e934ff982",
   "metadata": {},
   "outputs": [],
   "source": [
    "build_gp, init = rotation(data[\"star_period\"], np.mean(data[\"error\"]), long_scale=0.5)"
   ]
  },
  {
   "cell_type": "code",
   "execution_count": 8,
   "id": "e6ae22c9-33f7-4755-ac35-42d08d4cf6d9",
   "metadata": {
    "tags": []
   },
   "outputs": [
    {
     "data": {
      "text/plain": [
       "[<matplotlib.lines.Line2D at 0x147b0b340>]"
      ]
     },
     "execution_count": 8,
     "metadata": {},
     "output_type": "execute_result"
    },
    {
     "data": {
      "image/png": "[encoded data removed]",
      "text/plain": [
       "<Figure size 640x480 with 1 Axes>"
      ]
     },
     "metadata": {},
     "output_type": "display_data"
    }
   ],
   "source": [
    "import matplotlib.pyplot as plt\n",
    "\n",
    "plt.plot(data[\"time\"], data[\"flux\"])"
   ]
  },
  {
   "cell_type": "code",
   "execution_count": null,
   "id": "ea2b13ab-5b9e-46dd-8215-5fc75f54a067",
   "metadata": {},
   "outputs": [],
   "source": [
    "injected_flux = data[\"flux\"] + transit\n",
    "\n",
    "data[\"flux\"] = injected_flux\n",
    "data[\"transit_t0\"] = t0\n",
    "data[\"transit_duration\"] = duration\n",
    "data[\"transit_depth\"] = depth\n",
    "data[\"delta\"] = delta\n",
    "data[\"tau\"] = tau\n",
    "data[\"planet_period\"] = period\n",
    "data[\"planet_radius\"] = radius\n",
    "output = snakemake.output[0]\n",
    "pickle.dump(data, open(output, \"wb\"))"
   ]
  },
  {
   "cell_type": "code",
   "execution_count": 37,
   "id": "dc158328-ebe4-49cc-ac32-0ef1378a95f8",
   "metadata": {
    "tags": []
   },
   "outputs": [],
   "source": [
    "data2 = pickle.load(open(\"/Users/lgrcia/code/studies/paper-nuance/workflows/real_injection_recovery/data/125258133/params.values\", \"rb\"))"
   ]
  },
  {
   "cell_type": "code",
   "execution_count": 39,
   "id": "c76232e9-d81a-476c-abd4-ce38bfb5ed36",
   "metadata": {
    "tags": []
   },
   "outputs": [
    {
     "data": {
      "text/plain": [
       "3.042776868522648"
      ]
     },
     "execution_count": 39,
     "metadata": {},
     "output_type": "execute_result"
    }
   ],
   "source": [
    "data[\"amplitude\"]/(2*0.0012735077751137957)"
   ]
  },
  {
   "cell_type": "code",
   "execution_count": 27,
   "id": "8922a08b-1073-45bd-83d1-41ecb7a13143",
   "metadata": {},
   "outputs": [],
   "source": [
    "np.random.seed(i)\n",
    "\n",
    "n = np.linspace(0.1, 8, 20) \n",
    "taus, deltas = np.meshgrid(n, n)\n",
    "taus, deltas = taus.flatten(), deltas.flatten()\n",
    "tau, delta = 7, 7\n",
    "duration = data[\"period\"]/(2*tau)\n",
    "depth = 2*data[\"amplitude\"]/delta\n",
    "period = 2.2\n",
    "\n",
    "transit = depth * periodic_transit(data[\"time\"], np.random.rand(), duration, P=period)\n",
    "injected_flux = data[\"flux\"] + transit"
   ]
  },
  {
   "cell_type": "code",
   "execution_count": 28,
   "id": "54f94749-e3ca-4791-add5-bfdfda663871",
   "metadata": {
    "tags": []
   },
   "outputs": [
    {
     "data": {
      "text/plain": [
       "2.071250103463461"
      ]
     },
     "execution_count": 28,
     "metadata": {},
     "output_type": "execute_result"
    }
   ],
   "source": [
    "(depth/np.median(data[\"error\"])) * np.sqrt(period*duration/np.median(np.diff(data[\"time\"])))"
   ]
  },
  {
   "cell_type": "code",
   "execution_count": 13,
   "id": "f32f2015-332e-4115-9769-55f8a5fdda13",
   "metadata": {},
   "outputs": [],
   "source": [
    "data[\"flux\"] = injected_flux\n",
    "output = \"test.lc\"\n",
    "pickle.dump(data, open(output, \"wb\"))"
   ]
  },
  {
   "cell_type": "code",
   "execution_count": 9,
   "id": "c08db12d-61d2-4ee0-b3ed-56d2e358f5c0",
   "metadata": {
    "tags": []
   },
   "outputs": [],
   "source": [
    "from astropy.constants import G"
   ]
  },
  {
   "cell_type": "code",
   "execution_count": 13,
   "id": "e3252d70-6040-4b42-bdc1-b2c638c5ea1c",
   "metadata": {
    "tags": []
   },
   "outputs": [
    {
     "data": {
      "text/plain": [
       "6.6743e-11"
      ]
     },
     "execution_count": 13,
     "metadata": {},
     "output_type": "execute_result"
    }
   ],
   "source": [
    "G.value"
   ]
  },
  {
   "cell_type": "code",
   "execution_count": null,
   "id": "1e9880e9-0dd0-46d7-9e2b-1c56ffdcb4f3",
   "metadata": {},
   "outputs": [],
   "source": [
    "def _taudelta_to_RP(tau_v, delta_v):\n",
    "    depth = 2*sigma/delta_v\n",
    "    Rp = np.sqrt(depth)*Rs\n",
    "    \n",
    "    T = (np.pi/(omega*tau_v)).to(u.hour)\n",
    "    a = (c.G * Ms * T**2) / (4*(Rs**2))\n",
    "\n",
    "    P = 2*np.pi*a**(3/2) / np.sqrt(c.G * Ms)\n",
    "    P = P.decompose().to(u.day)\n",
    "    \n",
    "    n_tr = (duration/P).decompose()\n",
    "    snr = (depth/w)*np.sqrt(n_tr*(T/dt).decompose())\n",
    "    \n",
    "    return Rp.to(u.R_earth).value, P.decompose().to(u.day).value, snr\n",
    "\n",
    "taudelta_to_RP = np.vectorize(_taudelta_to_RP)\n",
    "    \n",
    "def _snr(Rp, P):\n",
    "    P = P * u.day\n",
    "    Rp = Rp * u.R_earth\n",
    "    \n",
    "    depth = (Rp/Rs)**2\n",
    "    a = ((c.G*Ms*(P**2))/(4*(np.pi**2)))**(1/3)\n",
    "    T = (P*Rs)/(np.pi*a)    \n",
    "    n_tr = (duration/P)\n",
    "    return (depth/w)*np.sqrt(n_tr*(T/dt))\n",
    "\n",
    "SNR = np.vectorize(_snr)\n",
    "\n",
    "def _RP_to_taudelta(Rp, P):\n",
    "    P = P * u.day\n",
    "    Rp = Rp * u.R_earth\n",
    "    \n",
    "    depth = (Rp/Rs)**2\n",
    "    delta_v = (2*sigma/depth).decompose()\n",
    "    a = ((c.G*Ms*(P**2))/(4*(np.pi**2)))**(1/3)\n",
    "    T = (P*Rs)/(np.pi*a)\n",
    "    \n",
    "    tau_v = (np.pi/(omega*T))\n",
    "    \n",
    "    n_tr = (duration/P)\n",
    "    snr = (depth/w)*np.sqrt(n_tr*(T/dt))\n",
    "    \n",
    "    return float(tau_v.decompose()), float(delta_v.decompose()), float(snr.decompose())"
   ]
  }
 ],
 "metadata": {
  "kernelspec": {
   "display_name": "Python 3 (ipykernel)",
   "language": "python",
   "name": "python3"
  },
  "language_info": {
   "codemirror_mode": {
    "name": "ipython",
    "version": 3
   },
   "file_extension": ".py",
   "mimetype": "text/x-python",
   "name": "python",
   "nbconvert_exporter": "python",
   "pygments_lexer": "ipython3",
   "version": "3.8.13"
  }
 },
 "nbformat": 4,
 "nbformat_minor": 5
}
