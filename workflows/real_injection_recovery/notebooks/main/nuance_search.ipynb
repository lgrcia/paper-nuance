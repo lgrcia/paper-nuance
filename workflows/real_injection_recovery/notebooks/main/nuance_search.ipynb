{
 "cells": [
  {
   "cell_type": "code",
   "execution_count": 1,
   "metadata": {},
   "outputs": [
    {
     "name": "stderr",
     "output_type": "stream",
     "text": [
      "/Users/lgrcia/code/dev/nuance/nuance/nuance.py:11: TqdmWarning: IProgress not found. Please update jupyter and ipywidgets. See https://ipywidgets.readthedocs.io/en/stable/user_install.html\n",
      "  from tqdm.autonotebook import tqdm\n"
     ]
    },
    {
     "ename": "IndexError",
     "evalue": "index 0 is out of bounds for axis 0 with size 0",
     "output_type": "error",
     "traceback": [
      "\u001b[0;31m---------------------------------------------------------------------------\u001b[0m",
      "\u001b[0;31mIndexError\u001b[0m                                Traceback (most recent call last)",
      "Cell \u001b[0;32mIn[1], line 15\u001b[0m\n\u001b[1;32m     13\u001b[0m gp_params \u001b[39m=\u001b[39m yaml\u001b[39m.\u001b[39mfull_load(\u001b[39mopen\u001b[39m(gp_file, \u001b[39m\"\u001b[39m\u001b[39mr\u001b[39m\u001b[39m\"\u001b[39m))\n\u001b[1;32m     14\u001b[0m build_gp, _ \u001b[39m=\u001b[39m rotation(data[\u001b[39m\"\u001b[39m\u001b[39mstar_period\u001b[39m\u001b[39m\"\u001b[39m])\n\u001b[0;32m---> 15\u001b[0m gp \u001b[39m=\u001b[39m build_gp(gp_params, data[\u001b[39m\"\u001b[39;49m\u001b[39mtime\u001b[39;49m\u001b[39m\"\u001b[39;49m])\n\u001b[1;32m     17\u001b[0m nu \u001b[39m=\u001b[39m Nuance(data[\u001b[39m\"\u001b[39m\u001b[39mtime\u001b[39m\u001b[39m\"\u001b[39m], data[\u001b[39m\"\u001b[39m\u001b[39mflux\u001b[39m\u001b[39m\"\u001b[39m], gp\u001b[39m=\u001b[39mgp)\n\u001b[1;32m     19\u001b[0m nu\u001b[39m.\u001b[39mlinear_search(data[\u001b[39m\"\u001b[39m\u001b[39mtime\u001b[39m\u001b[39m\"\u001b[39m][\u001b[39m1000\u001b[39m:], np\u001b[39m.\u001b[39marray([\u001b[39m0.01\u001b[39m, data[\u001b[39m\"\u001b[39m\u001b[39mtransit_duration\u001b[39m\u001b[39m\"\u001b[39m]]))\n",
      "File \u001b[0;32m~/code/dev/nuance/nuance/kernels.py:48\u001b[0m, in \u001b[0;36mrotation.<locals>.build_gp\u001b[0;34m(params, time)\u001b[0m\n\u001b[1;32m     34\u001b[0m long_sigma \u001b[39m=\u001b[39m jnp\u001b[39m.\u001b[39mexp(params[\u001b[39m\"\u001b[39m\u001b[39mlog_long_sigma\u001b[39m\u001b[39m\"\u001b[39m])\n\u001b[1;32m     36\u001b[0m kernel \u001b[39m=\u001b[39m (\n\u001b[1;32m     37\u001b[0m     Rotation(\n\u001b[1;32m     38\u001b[0m         jnp\u001b[39m.\u001b[39mexp(params[\u001b[39m\"\u001b[39m\u001b[39mlog_sigma\u001b[39m\u001b[39m\"\u001b[39m]),\n\u001b[0;32m   (...)\u001b[0m\n\u001b[1;32m     45\u001b[0m     \u001b[39m+\u001b[39m kernels\u001b[39m.\u001b[39mquasisep\u001b[39m.\u001b[39mExp(long_scale, long_sigma)\n\u001b[1;32m     46\u001b[0m )\n\u001b[0;32m---> 48\u001b[0m \u001b[39mreturn\u001b[39;00m GaussianProcess(kernel, time, diag\u001b[39m=\u001b[39;49mjitter2, mean\u001b[39m=\u001b[39;49m\u001b[39m0.0\u001b[39;49m)\n",
      "File \u001b[0;32m/opt/homebrew/Caskroom/miniforge/base/envs/nuance/lib/python3.8/site-packages/tinygp/gp.py:104\u001b[0m, in \u001b[0;36mGaussianProcess.__init__\u001b[0;34m(self, kernel, X, diag, noise, mean, solver, mean_value, covariance_value, **solver_kwargs)\u001b[0m\n\u001b[1;32m    102\u001b[0m     \u001b[39melse\u001b[39;00m:\n\u001b[1;32m    103\u001b[0m         solver \u001b[39m=\u001b[39m DirectSolver\n\u001b[0;32m--> 104\u001b[0m \u001b[39mself\u001b[39m\u001b[39m.\u001b[39msolver \u001b[39m=\u001b[39m solver\u001b[39m.\u001b[39;49minit(\n\u001b[1;32m    105\u001b[0m     kernel,\n\u001b[1;32m    106\u001b[0m     \u001b[39mself\u001b[39;49m\u001b[39m.\u001b[39;49mX,\n\u001b[1;32m    107\u001b[0m     \u001b[39mself\u001b[39;49m\u001b[39m.\u001b[39;49mnoise,\n\u001b[1;32m    108\u001b[0m     covariance\u001b[39m=\u001b[39;49mcovariance_value,\n\u001b[1;32m    109\u001b[0m     \u001b[39m*\u001b[39;49m\u001b[39m*\u001b[39;49msolver_kwargs,\n\u001b[1;32m    110\u001b[0m )\n",
      "File \u001b[0;32m/opt/homebrew/Caskroom/miniforge/base/envs/nuance/lib/python3.8/site-packages/tinygp/solvers/quasisep/solver.py:69\u001b[0m, in \u001b[0;36mQuasisepSolver.init\u001b[0;34m(cls, kernel, X, noise, covariance, assume_sorted)\u001b[0m\n\u001b[1;32m     67\u001b[0m     \u001b[39mif\u001b[39;00m \u001b[39mnot\u001b[39;00m assume_sorted:\n\u001b[1;32m     68\u001b[0m         jax\u001b[39m.\u001b[39mdebug\u001b[39m.\u001b[39mcallback(_check_sorted, kernel\u001b[39m.\u001b[39mcoord_to_sortable(X))\n\u001b[0;32m---> 69\u001b[0m     matrix \u001b[39m=\u001b[39m kernel\u001b[39m.\u001b[39;49mto_symm_qsm(X)\n\u001b[1;32m     70\u001b[0m     matrix \u001b[39m+\u001b[39m\u001b[39m=\u001b[39m noise\u001b[39m.\u001b[39mto_qsm()\n\u001b[1;32m     71\u001b[0m \u001b[39melse\u001b[39;00m:\n",
      "File \u001b[0;32m/opt/homebrew/Caskroom/miniforge/base/envs/nuance/lib/python3.8/site-packages/tinygp/kernels/quasisep.py:93\u001b[0m, in \u001b[0;36mQuasisep.to_symm_qsm\u001b[0;34m(self, X)\u001b[0m\n\u001b[1;32m     90\u001b[0m \u001b[39m\u001b[39m\u001b[39m\"\"\"The symmetric quasiseparable representation of this kernel\"\"\"\u001b[39;00m\n\u001b[1;32m     91\u001b[0m Pinf \u001b[39m=\u001b[39m \u001b[39mself\u001b[39m\u001b[39m.\u001b[39mstationary_covariance()\n\u001b[1;32m     92\u001b[0m a \u001b[39m=\u001b[39m jax\u001b[39m.\u001b[39mvmap(\u001b[39mself\u001b[39m\u001b[39m.\u001b[39mtransition_matrix)(\n\u001b[0;32m---> 93\u001b[0m     jax\u001b[39m.\u001b[39;49mtree_util\u001b[39m.\u001b[39;49mtree_map(\u001b[39mlambda\u001b[39;49;00m y: jnp\u001b[39m.\u001b[39;49mappend(y[\u001b[39m0\u001b[39;49m], y[:\u001b[39m-\u001b[39;49m\u001b[39m1\u001b[39;49m]), X), X\n\u001b[1;32m     94\u001b[0m )\n\u001b[1;32m     95\u001b[0m h \u001b[39m=\u001b[39m jax\u001b[39m.\u001b[39mvmap(\u001b[39mself\u001b[39m\u001b[39m.\u001b[39mobservation_model)(X)\n\u001b[1;32m     96\u001b[0m q \u001b[39m=\u001b[39m h\n",
      "File \u001b[0;32m/opt/homebrew/Caskroom/miniforge/base/envs/nuance/lib/python3.8/site-packages/jax/_src/tree_util.py:210\u001b[0m, in \u001b[0;36mtree_map\u001b[0;34m(f, tree, is_leaf, *rest)\u001b[0m\n\u001b[1;32m    208\u001b[0m leaves, treedef \u001b[39m=\u001b[39m tree_flatten(tree, is_leaf)\n\u001b[1;32m    209\u001b[0m all_leaves \u001b[39m=\u001b[39m [leaves] \u001b[39m+\u001b[39m [treedef\u001b[39m.\u001b[39mflatten_up_to(r) \u001b[39mfor\u001b[39;00m r \u001b[39min\u001b[39;00m rest]\n\u001b[0;32m--> 210\u001b[0m \u001b[39mreturn\u001b[39;00m treedef\u001b[39m.\u001b[39;49munflatten(f(\u001b[39m*\u001b[39;49mxs) \u001b[39mfor\u001b[39;49;00m xs \u001b[39min\u001b[39;49;00m \u001b[39mzip\u001b[39;49m(\u001b[39m*\u001b[39;49mall_leaves))\n",
      "File \u001b[0;32m/opt/homebrew/Caskroom/miniforge/base/envs/nuance/lib/python3.8/site-packages/jax/_src/tree_util.py:210\u001b[0m, in \u001b[0;36m<genexpr>\u001b[0;34m(.0)\u001b[0m\n\u001b[1;32m    208\u001b[0m leaves, treedef \u001b[39m=\u001b[39m tree_flatten(tree, is_leaf)\n\u001b[1;32m    209\u001b[0m all_leaves \u001b[39m=\u001b[39m [leaves] \u001b[39m+\u001b[39m [treedef\u001b[39m.\u001b[39mflatten_up_to(r) \u001b[39mfor\u001b[39;00m r \u001b[39min\u001b[39;00m rest]\n\u001b[0;32m--> 210\u001b[0m \u001b[39mreturn\u001b[39;00m treedef\u001b[39m.\u001b[39munflatten(f(\u001b[39m*\u001b[39;49mxs) \u001b[39mfor\u001b[39;00m xs \u001b[39min\u001b[39;00m \u001b[39mzip\u001b[39m(\u001b[39m*\u001b[39mall_leaves))\n",
      "File \u001b[0;32m/opt/homebrew/Caskroom/miniforge/base/envs/nuance/lib/python3.8/site-packages/tinygp/kernels/quasisep.py:93\u001b[0m, in \u001b[0;36mQuasisep.to_symm_qsm.<locals>.<lambda>\u001b[0;34m(y)\u001b[0m\n\u001b[1;32m     90\u001b[0m \u001b[39m\u001b[39m\u001b[39m\"\"\"The symmetric quasiseparable representation of this kernel\"\"\"\u001b[39;00m\n\u001b[1;32m     91\u001b[0m Pinf \u001b[39m=\u001b[39m \u001b[39mself\u001b[39m\u001b[39m.\u001b[39mstationary_covariance()\n\u001b[1;32m     92\u001b[0m a \u001b[39m=\u001b[39m jax\u001b[39m.\u001b[39mvmap(\u001b[39mself\u001b[39m\u001b[39m.\u001b[39mtransition_matrix)(\n\u001b[0;32m---> 93\u001b[0m     jax\u001b[39m.\u001b[39mtree_util\u001b[39m.\u001b[39mtree_map(\u001b[39mlambda\u001b[39;00m y: jnp\u001b[39m.\u001b[39mappend(y[\u001b[39m0\u001b[39;49m], y[:\u001b[39m-\u001b[39m\u001b[39m1\u001b[39m]), X), X\n\u001b[1;32m     94\u001b[0m )\n\u001b[1;32m     95\u001b[0m h \u001b[39m=\u001b[39m jax\u001b[39m.\u001b[39mvmap(\u001b[39mself\u001b[39m\u001b[39m.\u001b[39mobservation_model)(X)\n\u001b[1;32m     96\u001b[0m q \u001b[39m=\u001b[39m h\n",
      "\u001b[0;31mIndexError\u001b[0m: index 0 is out of bounds for axis 0 with size 0"
     ]
    }
   ],
   "source": [
    "import pickle\n",
    "\n",
    "import numpy as np\n",
    "import yaml\n",
    "from nuance import Nuance\n",
    "from nuance.kernels import rotation\n",
    "from nuance.utils import clean_periods\n",
    "import os\n",
    "\n",
    "os.chdir(\"../..\")\n",
    "lc_file, gp_file = \"data/27734884/injected/276.fluxes\", \"data/27734884/gp.yaml\"\n",
    "data = pickle.load(open(lc_file, \"rb\"))\n",
    "gp_params = yaml.full_load(open(gp_file, \"r\"))\n",
    "build_gp, _ = rotation(data[\"star_period\"])\n",
    "gp = build_gp(gp_params, data[\"time\"])\n",
    "\n",
    "nu = Nuance(data[\"time\"], data[\"flux\"], gp=gp)\n",
    "\n",
    "nu.linear_search(data[\"time\"][1000:], np.array([0.01, data[\"transit_duration\"]]))\n",
    "\n",
    "periods = np.linspace(0.1, 11.0, 10000)\n",
    "periods = clean_periods(periods, data[\"star_period\"])\n",
    "search = nu.periodic_search(periods)\n",
    "\n",
    "output = snakemake.output[0]\n",
    "result = data.copy()\n",
    "del result[\"flux\"]\n",
    "del result[\"error\"]\n",
    "del result[\"time\"]\n",
    "result.update(dict(zip([\"found_t0\", \"found_duration\", \"found_period\"], search.best)))\n",
    "yaml.safe_dump(\n",
    "    {name: float(value) for name, value in result.items()}, open(output, \"w\")\n",
    ")\n"
   ]
  },
  {
   "cell_type": "code",
   "execution_count": 3,
   "metadata": {},
   "outputs": [
    {
     "data": {
      "text/plain": [
       "{'flux': array([], dtype=float64),\n",
       " 'time': array([], dtype=float64),\n",
       " 'error': array([], dtype=float32),\n",
       " 'star_period': 0.33683973,\n",
       " 'star_amplitude': 0.36357,\n",
       " 'star_radius': 0.309563,\n",
       " 'star_mass': 0.287557,\n",
       " 'transit_t0': 8.146466898033042,\n",
       " 'transit_duration': 0.07226323205840574,\n",
       " 'transit_depth': nan,\n",
       " 'delta': nan,\n",
       " 'tau': 2.330643955474854,\n",
       " 'planet_period': 8.452631578947368,\n",
       " 'planet_radius': nan}"
      ]
     },
     "execution_count": 3,
     "metadata": {},
     "output_type": "execute_result"
    }
   ],
   "source": [
    "data\n"
   ]
  },
  {
   "cell_type": "code",
   "execution_count": null,
   "metadata": {},
   "outputs": [],
   "source": []
  }
 ],
 "metadata": {
  "kernelspec": {
   "display_name": "nuance",
   "language": "python",
   "name": "python3"
  },
  "language_info": {
   "codemirror_mode": {
    "name": "ipython",
    "version": 3
   },
   "file_extension": ".py",
   "mimetype": "text/x-python",
   "name": "python",
   "nbconvert_exporter": "python",
   "pygments_lexer": "ipython3",
   "version": "3.8.13"
  },
  "orig_nbformat": 4
 },
 "nbformat": 4,
 "nbformat_minor": 2
}
