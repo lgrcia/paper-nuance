{
 "cells": [
  {
   "cell_type": "code",
   "execution_count": 1,
   "id": "4ea0a764-0301-4084-8d5c-828a7f17bcef",
   "metadata": {},
   "outputs": [],
   "source": [
    "tic = 140212114"
   ]
  },
  {
   "cell_type": "code",
   "execution_count": 3,
   "id": "12dbed5c-33b8-473d-967d-ac023c8aca46",
   "metadata": {},
   "outputs": [
    {
     "name": "stderr",
     "output_type": "stream",
     "text": [
      "/var/folders/7v/d8bs1hz144s2ypqglv245hp40000gn/T/ipykernel_72142/1269489964.py:50: FutureWarning: Calling float on a single element Series is deprecated and will raise a TypeError in the future. Use float(ser.iloc[0]) instead\n",
      "  \"star_period\": float(target.LS_Period),\n",
      "/var/folders/7v/d8bs1hz144s2ypqglv245hp40000gn/T/ipykernel_72142/1269489964.py:51: FutureWarning: Calling float on a single element Series is deprecated and will raise a TypeError in the future. Use float(ser.iloc[0]) instead\n",
      "  \"star_amplitude\": float(target.Amplitude),\n"
     ]
    },
    {
     "ename": "NameError",
     "evalue": "name 'filepath' is not defined",
     "output_type": "error",
     "traceback": [
      "\u001b[0;31m---------------------------------------------------------------------------\u001b[0m",
      "\u001b[0;31mNameError\u001b[0m                                 Traceback (most recent call last)",
      "Cell \u001b[0;32mIn[3], line 55\u001b[0m\n\u001b[1;32m     42\u001b[0m url \u001b[38;5;241m=\u001b[39m \u001b[38;5;124mf\u001b[39m\u001b[38;5;124m\"\u001b[39m\u001b[38;5;124mhttps://exofop.ipac.caltech.edu/tess/download_stellar.php?id=\u001b[39m\u001b[38;5;132;01m{\u001b[39;00mtic\u001b[38;5;132;01m}\u001b[39;00m\u001b[38;5;124m\"\u001b[39m\n\u001b[1;32m     43\u001b[0m star \u001b[38;5;241m=\u001b[39m pd\u001b[38;5;241m.\u001b[39mread_csv(url, delimiter\u001b[38;5;241m=\u001b[39m\u001b[38;5;124m\"\u001b[39m\u001b[38;5;124m|\u001b[39m\u001b[38;5;124m\"\u001b[39m, index_col\u001b[38;5;241m=\u001b[39m\u001b[38;5;241m1\u001b[39m)\u001b[38;5;241m.\u001b[39miloc[\u001b[38;5;241m0\u001b[39m]\n\u001b[1;32m     45\u001b[0m pickle\u001b[38;5;241m.\u001b[39mdump(\n\u001b[1;32m     46\u001b[0m     {\n\u001b[1;32m     47\u001b[0m         \u001b[38;5;124m\"\u001b[39m\u001b[38;5;124mflux\u001b[39m\u001b[38;5;124m\"\u001b[39m: flux,\n\u001b[1;32m     48\u001b[0m         \u001b[38;5;124m\"\u001b[39m\u001b[38;5;124mtime\u001b[39m\u001b[38;5;124m\"\u001b[39m: time,\n\u001b[1;32m     49\u001b[0m         \u001b[38;5;124m\"\u001b[39m\u001b[38;5;124merror\u001b[39m\u001b[38;5;124m\"\u001b[39m: error,\n\u001b[1;32m     50\u001b[0m         \u001b[38;5;124m\"\u001b[39m\u001b[38;5;124mstar_period\u001b[39m\u001b[38;5;124m\"\u001b[39m: \u001b[38;5;28mfloat\u001b[39m(target\u001b[38;5;241m.\u001b[39mLS_Period),\n\u001b[1;32m     51\u001b[0m         \u001b[38;5;124m\"\u001b[39m\u001b[38;5;124mstar_amplitude\u001b[39m\u001b[38;5;124m\"\u001b[39m: \u001b[38;5;28mfloat\u001b[39m(target\u001b[38;5;241m.\u001b[39mAmplitude),\n\u001b[1;32m     52\u001b[0m         \u001b[38;5;124m\"\u001b[39m\u001b[38;5;124mstar_radius\u001b[39m\u001b[38;5;124m\"\u001b[39m: star[\u001b[38;5;124m\"\u001b[39m\u001b[38;5;124mRadius (R_Sun)\u001b[39m\u001b[38;5;124m\"\u001b[39m],\n\u001b[1;32m     53\u001b[0m         \u001b[38;5;124m\"\u001b[39m\u001b[38;5;124mstar_mass\u001b[39m\u001b[38;5;124m\"\u001b[39m: star[\u001b[38;5;124m\"\u001b[39m\u001b[38;5;124mMass (M_Sun)\u001b[39m\u001b[38;5;124m\"\u001b[39m],\n\u001b[1;32m     54\u001b[0m     },\n\u001b[0;32m---> 55\u001b[0m     \u001b[38;5;28mopen\u001b[39m(\u001b[43mfilepath\u001b[49m, \u001b[38;5;124m\"\u001b[39m\u001b[38;5;124mwb\u001b[39m\u001b[38;5;124m\"\u001b[39m),\n\u001b[1;32m     56\u001b[0m )\n\u001b[1;32m     57\u001b[0m \u001b[38;5;28mprint\u001b[39m(\u001b[38;5;124mf\u001b[39m\u001b[38;5;124m\"\u001b[39m\u001b[38;5;124mDownloaded TIC \u001b[39m\u001b[38;5;132;01m{\u001b[39;00mtic\u001b[38;5;132;01m}\u001b[39;00m\u001b[38;5;124m data (first sector)\u001b[39m\u001b[38;5;124m\"\u001b[39m)\n",
      "\u001b[0;31mNameError\u001b[0m: name 'filepath' is not defined"
     ]
    }
   ],
   "source": [
    "import pickle\n",
    "\n",
    "import astropy.units as u\n",
    "import lightkurve as lk\n",
    "import numpy as np\n",
    "import pandas as pd\n",
    "\n",
    "#tic = snakemake.wildcards[\"target\"]\n",
    "#filepath = snakemake.output[0]\n",
    "\n",
    "targets = pd.read_csv(\"../data/tess-ultra-fast-rotators-brighter-mag14.csv\")[\n",
    "    [\"Name\", \"LS_Period\", \"Amplitude\", \"teff_val\"]\n",
    "]\n",
    "\n",
    "targets = targets.sort_values(\"LS_Period\")\n",
    "target = targets[targets.Name == tic]\n",
    "\n",
    "name = f\"TIC {tic}\"\n",
    "search_result = lk.search_lightcurve(name, author=\"SPOC\", exptime=120)\n",
    "\n",
    "# data\n",
    "klc = search_result[0].download()\n",
    "times = klc.time.to_value(\"mjd\")\n",
    "fluxes = klc.pdcsap_flux.to_value().filled(np.nan)\n",
    "errors = klc.flux_err.to_value().filled(np.nan)\n",
    "masks = [\n",
    "    np.isnan(f) | np.isnan(e) | np.isnan(t) for f, e, t in zip(fluxes, errors, times)\n",
    "]\n",
    "times = [t[~m] for t, m in zip(times, masks)]\n",
    "\n",
    "# masking\n",
    "time = np.hstack(times)\n",
    "time -= np.min(time)\n",
    "original_flux = np.hstack([f[~m] for f, m in zip(fluxes, masks)])\n",
    "original_error = np.hstack([e[~m] for e, m in zip(errors, masks)])\n",
    "\n",
    "flux_median = np.median(original_flux)\n",
    "flux = original_flux / flux_median\n",
    "error = original_error / flux_median\n",
    "\n",
    "# stellar parameters\n",
    "url = f\"https://exofop.ipac.caltech.edu/tess/download_stellar.php?id={tic}\"\n",
    "star = pd.read_csv(url, delimiter=\"|\", index_col=1).iloc[0]\n",
    "\n",
    "pickle.dump(\n",
    "    {\n",
    "        \"flux\": flux,\n",
    "        \"time\": time,\n",
    "        \"error\": error,\n",
    "        \"star_period\": float(target.LS_Period),\n",
    "        \"star_amplitude\": float(target.Amplitude),\n",
    "        \"star_radius\": star[\"Radius (R_Sun)\"],\n",
    "        \"star_mass\": star[\"Mass (M_Sun)\"],\n",
    "    },\n",
    "    open(filepath, \"wb\"),\n",
    ")\n",
    "print(f\"Downloaded TIC {tic} data (first sector)\")\n"
   ]
  },
  {
   "cell_type": "code",
   "execution_count": null,
   "id": "69a400e3-6a99-47f2-8c4d-5703fedcb4b9",
   "metadata": {},
   "outputs": [],
   "source": []
  }
 ],
 "metadata": {
  "kernelspec": {
   "display_name": "Python 3 (ipykernel)",
   "language": "python",
   "name": "python3"
  },
  "language_info": {
   "codemirror_mode": {
    "name": "ipython",
    "version": 3
   },
   "file_extension": ".py",
   "mimetype": "text/x-python",
   "name": "python",
   "nbconvert_exporter": "python",
   "pygments_lexer": "ipython3",
   "version": "3.8.13"
  }
 },
 "nbformat": 4,
 "nbformat_minor": 5
}
