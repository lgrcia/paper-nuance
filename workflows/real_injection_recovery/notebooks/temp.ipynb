{
 "cells": [
  {
   "cell_type": "code",
   "execution_count": 3,
   "id": "42e338f9-5c0c-4475-9528-a1753822b900",
   "metadata": {
    "tags": []
   },
   "outputs": [],
   "source": [
    "import pickle\n",
    "import numpy as np\n",
    "import yaml\n",
    "\n",
    "lc_file = \"/Users/lgrcia/code/studies/paper-nuance/workflows/real_injection_recovery/data/140212114/lc.fluxes\"\n",
    "data = pickle.load(open(lc_file, \"rb\"))"
   ]
  },
  {
   "cell_type": "code",
   "execution_count": 4,
   "id": "cac6b40e-54c2-459a-ae38-927930febb0e",
   "metadata": {
    "tags": []
   },
   "outputs": [
    {
     "data": {
      "text/plain": [
       "{'flux': array([0.9907501 , 0.9895584 , 0.98883885, ..., 1.0099127 , 1.0076859 ,\n",
       "        1.0061216 ], dtype=float32),\n",
       " 'time': array([0.00000000e+00, 1.38893209e-03, 2.77786441e-03, ...,\n",
       "        2.56281813e+01, 2.56295702e+01, 2.56309591e+01]),\n",
       " 'error': array([0.00468769, 0.00468636, 0.0046805 , ..., 0.00464671, 0.00463994,\n",
       "        0.00464272], dtype=float32),\n",
       " 'period': 0.1400778,\n",
       " 'amplitude': 0.00775}"
      ]
     },
     "execution_count": 4,
     "metadata": {},
     "output_type": "execute_result"
    }
   ],
   "source": [
    "data"
   ]
  },
  {
   "cell_type": "code",
   "execution_count": 5,
   "id": "5cd75701-df91-49e2-8129-81b13d5bd085",
   "metadata": {
    "tags": []
   },
   "outputs": [
    {
     "data": {
      "text/plain": [
       "0.01076923076923077"
      ]
     },
     "execution_count": 5,
     "metadata": {},
     "output_type": "execute_result"
    }
   ],
   "source": [
    "0.14/13"
   ]
  },
  {
   "cell_type": "code",
   "execution_count": null,
   "id": "515a39e8-d81f-40ab-b329-2d78e1aef5c5",
   "metadata": {},
   "outputs": [],
   "source": []
  }
 ],
 "metadata": {
  "kernelspec": {
   "display_name": "Python 3 (ipykernel)",
   "language": "python",
   "name": "python3"
  },
  "language_info": {
   "codemirror_mode": {
    "name": "ipython",
    "version": 3
   },
   "file_extension": ".py",
   "mimetype": "text/x-python",
   "name": "python",
   "nbconvert_exporter": "python",
   "pygments_lexer": "ipython3",
   "version": "3.8.13"
  }
 },
 "nbformat": 4,
 "nbformat_minor": 5
}
