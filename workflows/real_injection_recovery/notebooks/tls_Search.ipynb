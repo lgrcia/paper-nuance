{
 "cells": [
  {
   "cell_type": "code",
   "execution_count": 16,
   "id": "5c830c47-23b5-42ed-b836-39ac8102d40d",
   "metadata": {},
   "outputs": [],
   "source": [
    "import numpy as np\n",
    "import yaml\n",
    "import sys\n",
    "sys.path.append(\"../lib\")\n",
    "from tls import tls\n",
    "from wotan import flatten\n",
    "from time import time as ctime\n",
    "\n",
    "t0 = ctime()\n",
    "\n",
    "def trend(time, flux, window_length):\n",
    "    return flatten(time, flux+1000., window_length=window_length, return_trend=True)[1] - 1000.\n",
    "\n",
    "def search(time, flux, window_length, periods, verbose=False):\n",
    "    flatten_trend = trend(time, flux, window_length)\n",
    "    flatten_flux = flux - flatten_trend\n",
    "    flatten_flux -= np.mean(flatten_flux)\n",
    "    flatten_flux += 1.\n",
    "\n",
    "    model = tls(time, flatten_flux, verbose=verbose)\n",
    "    results = model.power(periods, verbose=verbose, use_threads=1, show_progress_bar=verbose)\n",
    "    \n",
    "    return results[\"T0\"], results[\"period\"]"
   ]
  },
  {
   "cell_type": "code",
   "execution_count": 14,
   "id": "cfdafed2-74ac-497b-a78a-d6416ffab4fa",
   "metadata": {
    "tags": []
   },
   "outputs": [],
   "source": [
    "import pickle\n",
    "import numpy as np\n",
    "import yaml\n",
    "\n",
    "lc_file = \"/Users/lgrcia/code/studies/paper-nuance/workflows/real_injection_recovery/data/140212114/injected/0.fluxes\"\n",
    "gp_file = \"/Users/lgrcia/code/studies/paper-nuance/workflows/real_injection_recovery/data/140212114/gp.yaml\"\n",
    "data = pickle.load(open(lc_file, \"rb\"))"
   ]
  },
  {
   "cell_type": "code",
   "execution_count": 15,
   "id": "c9d472d2-e9f1-4f9b-b392-d783acaa1c95",
   "metadata": {},
   "outputs": [
    {
     "name": "stdout",
     "output_type": "stream",
     "text": [
      "Transit Least Squares TLS 1.0.31 (22 Nov 2021)\n",
      "Creating model cache for 29 durations\n",
      "Searching 17251 data points, 3000 periods from 1.0 to 4.0 days\n",
      "Using 1 of 10 CPU threads\n"
     ]
    },
    {
     "name": "stderr",
     "output_type": "stream",
     "text": [
      "100%|██████████████████████████████████████████| 3000/3000 periods | 01:23<00:00\n"
     ]
    },
    {
     "name": "stdout",
     "output_type": "stream",
     "text": [
      "Searching for best T0 for period 1.26109 days\n"
     ]
    },
    {
     "name": "stderr",
     "output_type": "stream",
     "text": [
      "100%|█████████████████████████████████████| 5058/5058 [00:03<00:00, 1491.48it/s]\n"
     ]
    },
    {
     "data": {
      "text/plain": [
       "(1.1839229822319381,\n",
       " 1.2610870290096698,\n",
       " array([1.        , 1.00100033, 1.00200067, ..., 3.99799933, 3.99899967,\n",
       "        4.        ]),\n",
       " array([-0.04217029, -0.57213258, -0.24725865, ..., -0.60359896,\n",
       "        -0.5832034 , -0.43425828]))"
      ]
     },
     "execution_count": 15,
     "metadata": {},
     "output_type": "execute_result"
    }
   ],
   "source": [
    "periods = np.linspace(1., 4., 3000)\n",
    "t0, period = search(data[\"time\"], data[\"flux\"], 3*data['duration'], periods, verbose=True)"
   ]
  },
  {
   "cell_type": "code",
   "execution_count": 2,
   "id": "24d5d7f9-c299-4b7e-9160-3b27f8d7b20c",
   "metadata": {},
   "outputs": [
    {
     "name": "stdout",
     "output_type": "stream",
     "text": [
      "Collecting package metadata (current_repodata.json): done\n",
      "Solving environment: done\n",
      "\n",
      "\n",
      "==> WARNING: A newer version of conda exists. <==\n",
      "  current version: 22.9.0\n",
      "  latest version: 23.3.1\n",
      "\n",
      "Please update conda by running\n",
      "\n",
      "    $ conda update -n base -c conda-forge conda\n",
      "\n",
      "\n",
      "\n",
      "## Package Plan ##\n",
      "\n",
      "  environment location: /opt/homebrew/Caskroom/miniforge/base/envs/nuance\n",
      "\n",
      "  added / updated specs:\n",
      "    - numba\n",
      "\n",
      "\n",
      "The following packages will be UPDATED:\n",
      "\n",
      "  openssl                                  3.0.8-h03a7124_0 --> 3.1.0-h03a7124_0 None\n",
      "\n",
      "\n",
      "Preparing transaction: done\n",
      "Verifying transaction: done\n",
      "Executing transaction: done\n",
      "Retrieving notices: ...working... done\n",
      "\n",
      "Note: you may need to restart the kernel to use updated packages.\n"
     ]
    }
   ],
   "source": [
    "conda install numba"
   ]
  },
  {
   "cell_type": "code",
   "execution_count": null,
   "id": "858f0d84-244e-4ac4-aaec-ff3864254a02",
   "metadata": {},
   "outputs": [],
   "source": []
  }
 ],
 "metadata": {
  "kernelspec": {
   "display_name": "Python 3 (ipykernel)",
   "language": "python",
   "name": "python3"
  },
  "language_info": {
   "codemirror_mode": {
    "name": "ipython",
    "version": 3
   },
   "file_extension": ".py",
   "mimetype": "text/x-python",
   "name": "python",
   "nbconvert_exporter": "python",
   "pygments_lexer": "ipython3",
   "version": "3.8.13"
  }
 },
 "nbformat": 4,
 "nbformat_minor": 5
}
