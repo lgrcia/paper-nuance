{
 "cells": [
  {
   "cell_type": "code",
   "execution_count": 1,
   "id": "e8c6a323-5d1c-4e67-b35a-b350fad02bec",
   "metadata": {
    "tags": []
   },
   "outputs": [],
   "source": [
    "from glob import glob"
   ]
  },
  {
   "cell_type": "code",
   "execution_count": 3,
   "id": "425d52c4-8eb8-4455-9f8a-eb5dd19b8743",
   "metadata": {
    "tags": []
   },
   "outputs": [],
   "source": [
    "files = glob(\"/Users/lgrcia/code/studies/paper-nuance/workflows/real_injection_recovery/data/140212114/nuance_search/*\")"
   ]
  },
  {
   "cell_type": "code",
   "execution_count": 10,
   "id": "1ac54a40-643d-434b-85b1-3368c7e1a2b7",
   "metadata": {
    "tags": []
   },
   "outputs": [],
   "source": [
    "import yaml\n",
    "\n",
    "results = []\n",
    "\n",
    "def right_candidate(t0, period, true_t0, true_period, verbose=False):\n",
    "    t0_check = np.abs((t0  - true_t0 + 0.5 * true_period) % true_period - 0.5 * true_period)%period < 0.01\n",
    "    period_check = np.abs(period - true_period) < 0.1\n",
    "    same = np.logical_and(t0_check, period_check)\n",
    "    if verbose:\n",
    "        if not same:\n",
    "            if not t0_check:\n",
    "                output = f\"t0 differ: {t0:.2e} {true_t0:.2e}\"\n",
    "            if not period_check:\n",
    "                output = f\"period differ: {period:.2e} {true_period:.2e}\"\n",
    "        else:\n",
    "            output = \"match\"\n",
    "        return same, output\n",
    "    else:\n",
    "        return same\n",
    "\n",
    "for f in files:\n",
    "    data = yaml.safe_load(open(f,\"r\"))\n",
    "    results.append(yaml.safe_load(open(f,\"r\")))"
   ]
  },
  {
   "cell_type": "code",
   "execution_count": 6,
   "id": "bdb2859f-8808-4dd1-9799-c88495415e36",
   "metadata": {
    "tags": []
   },
   "outputs": [
    {
     "data": {
      "text/plain": [
       "[{'duration': 0.01265781472133627,\n",
       "  'period': 1.1200400133377792,\n",
       "  't0': 2.03616457166936},\n",
       " {'duration': 0.01265781472133627,\n",
       "  'period': 1.1200400133377792,\n",
       "  't0': 2.03616457166936},\n",
       " {'duration': 0.01265781472133627,\n",
       "  'period': 1.1200400133377792,\n",
       "  't0': 2.03616457166936},\n",
       " {'duration': 0.01265781472133627,\n",
       "  'period': 1.1200400133377792,\n",
       "  't0': 2.03616457166936},\n",
       " {'duration': 0.01265781472133627,\n",
       "  'period': 1.1200400133377792,\n",
       "  't0': 2.03616457166936}]"
      ]
     },
     "execution_count": 6,
     "metadata": {},
     "output_type": "execute_result"
    }
   ],
   "source": [
    "results"
   ]
  },
  {
   "cell_type": "code",
   "execution_count": 8,
   "id": "4998a080-8ea9-4a2f-994c-808e6a2e5876",
   "metadata": {
    "tags": []
   },
   "outputs": [
    {
     "ename": "ModuleNotFoundError",
     "evalue": "No module named 'pandas'",
     "output_type": "error",
     "traceback": [
      "\u001b[0;31m---------------------------------------------------------------------------\u001b[0m",
      "\u001b[0;31mModuleNotFoundError\u001b[0m                       Traceback (most recent call last)",
      "Cell \u001b[0;32mIn[8], line 1\u001b[0m\n\u001b[0;32m----> 1\u001b[0m \u001b[38;5;28;01mimport\u001b[39;00m \u001b[38;5;21;01mpandas\u001b[39;00m \u001b[38;5;28;01mas\u001b[39;00m \u001b[38;5;21;01mpd\u001b[39;00m\n",
      "\u001b[0;31mModuleNotFoundError\u001b[0m: No module named 'pandas'"
     ]
    }
   ],
   "source": [
    "import pandas as pd"
   ]
  },
  {
   "cell_type": "code",
   "execution_count": null,
   "id": "aa0e8ec0-d942-4d0a-a24a-9dfc3aa9883c",
   "metadata": {},
   "outputs": [],
   "source": []
  }
 ],
 "metadata": {
  "kernelspec": {
   "display_name": "Python 3 (ipykernel)",
   "language": "python",
   "name": "python3"
  },
  "language_info": {
   "codemirror_mode": {
    "name": "ipython",
    "version": 3
   },
   "file_extension": ".py",
   "mimetype": "text/x-python",
   "name": "python",
   "nbconvert_exporter": "python",
   "pygments_lexer": "ipython3",
   "version": "3.8.13"
  }
 },
 "nbformat": 4,
 "nbformat_minor": 5
}
