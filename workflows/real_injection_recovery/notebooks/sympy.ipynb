{
 "cells": [
  {
   "cell_type": "code",
   "execution_count": 10,
   "id": "45a9f76f-50d5-4298-98ed-d86b5fcc7d25",
   "metadata": {
    "tags": []
   },
   "outputs": [],
   "source": [
    "from sympy import symbols\n",
    "import sympy as sp"
   ]
  },
  {
   "cell_type": "code",
   "execution_count": 38,
   "id": "fbb8e809-5c86-40e9-8979-9cf4707eeded",
   "metadata": {
    "tags": []
   },
   "outputs": [],
   "source": [
    "Rs, Ms, P, Ps, Rp, dt, sigma, G, Delta, A = symbols(\"R_\\star, M_\\star, P, P_\\star, R_p, dt, sigma, G, Delta, A_\\star\")"
   ]
  },
  {
   "cell_type": "code",
   "execution_count": 49,
   "id": "2ed6b949-424e-458a-acea-0eca01415b3d",
   "metadata": {
    "tags": []
   },
   "outputs": [],
   "source": [
    "from sympy import symbols\n",
    "import sympy as sp\n",
    "\n",
    "Rs, Ms, P, Ps, Rp, dt, sigma, G, Delta, A = symbols(\"R_\\star, M_\\star, P, P_\\star, R_p, dt, sigma, G, Delta, A_\\star\")\n",
    "\n",
    "# duration\n",
    "a = sp.cbrt((P**2 * G * Ms / 4 * sp.pi**2))\n",
    "D = (P/sp.pi)*sp.asin(Rs/a)\n",
    "snr = (Delta/sigma)*sp.sqrt(P*(D/dt))\n",
    "\n",
    "tau = Ps/2*D\n",
    "delta = 2*Delta/A\n",
    "\n",
    "# substitute D, Ps, and Delta in snr\n",
    "# thanks ChatGPT\n",
    "snr = snr.subs([(D, (P/sp.pi)*sp.asin(Rs/sp.cbrt((P**2 * G * Ms / 4 * sp.pi**2))))])"
   ]
  },
  {
   "cell_type": "code",
   "execution_count": null,
   "id": "67b76278-f28d-4d63-99b4-11998664ff1b",
   "metadata": {},
   "outputs": [],
   "source": []
  },
  {
   "cell_type": "code",
   "execution_count": 50,
   "id": "469ae741-e0b9-40ea-a452-e119793a6753",
   "metadata": {
    "tags": []
   },
   "outputs": [
    {
     "data": {
      "text/latex": [
       "$\\displaystyle \\frac{2 \\Delta \\sqrt{\\frac{P^{2} \\operatorname{asin}{\\left(\\frac{2^{\\frac{2}{3}} R_{\\star}}{\\pi^{\\frac{2}{3}} \\sqrt[3]{G M_{\\star} P^{2}}} \\right)}}{dt}}}{\\sqrt{\\pi} \\sigma}$"
      ],
      "text/plain": [
       "2*Delta*sqrt(P**2*asin(2**(2/3)*R_\\star/(pi**(2/3)*(G*M_\\star*P**2)**(1/3)))/dt)/(sqrt(pi)*sigma)"
      ]
     },
     "execution_count": 50,
     "metadata": {},
     "output_type": "execute_result"
    }
   ],
   "source": [
    "snr"
   ]
  },
  {
   "cell_type": "code",
   "execution_count": 41,
   "id": "f033002a-62c4-4b25-9fa8-d77103896a30",
   "metadata": {
    "tags": []
   },
   "outputs": [],
   "source": [
    "tau = Ps/2*D\n",
    "delta = 2*Delta/A"
   ]
  },
  {
   "cell_type": "code",
   "execution_count": 42,
   "id": "989f9c40-05a1-4b65-b45c-2570c3b0c6bb",
   "metadata": {
    "tags": []
   },
   "outputs": [
    {
     "data": {
      "text/latex": [
       "$\\displaystyle \\frac{\\Delta \\sqrt{\\frac{P^{2} \\operatorname{asin}{\\left(\\frac{2^{\\frac{2}{3}} R_{\\star}}{\\pi^{\\frac{2}{3}} \\sqrt[3]{G M_{\\star} P^{2}}} \\right)}}{dt}}}{\\sqrt{\\pi} \\sigma}$"
      ],
      "text/plain": [
       "Delta*sqrt(P**2*asin(2**(2/3)*R_\\star/(pi**(2/3)*(G*M_\\star*P**2)**(1/3)))/dt)/(sqrt(pi)*sigma)"
      ]
     },
     "execution_count": 42,
     "metadata": {},
     "output_type": "execute_result"
    }
   ],
   "source": [
    "snr"
   ]
  },
  {
   "cell_type": "code",
   "execution_count": 35,
   "id": "07839e6a-98df-4abb-84b5-bed23624ac4e",
   "metadata": {
    "tags": []
   },
   "outputs": [],
   "source": [
    "import numpy as np"
   ]
  },
  {
   "cell_type": "code",
   "execution_count": 43,
   "id": "f7b820ef-9962-4d04-ae08-19e44340471e",
   "metadata": {
    "tags": []
   },
   "outputs": [
    {
     "data": {
      "text/latex": [
       "$\\displaystyle \\frac{\\Delta \\sqrt{\\frac{P^{2} \\operatorname{asin}{\\left(\\frac{2^{\\frac{2}{3}} R_{\\star}}{\\pi^{\\frac{2}{3}} \\sqrt[3]{G M_{\\star} P^{2}}} \\right)}}{dt}}}{\\sqrt{\\pi} \\sigma}$"
      ],
      "text/plain": [
       "Delta*sqrt(P**2*asin(2**(2/3)*R_\\star/(pi**(2/3)*(G*M_\\star*P**2)**(1/3)))/dt)/(sqrt(pi)*sigma)"
      ]
     },
     "execution_count": 43,
     "metadata": {},
     "output_type": "execute_result"
    }
   ],
   "source": [
    "snr"
   ]
  },
  {
   "cell_type": "code",
   "execution_count": null,
   "id": "cafd9f09-9282-4fb0-a0dc-d402ffd9cda1",
   "metadata": {},
   "outputs": [],
   "source": []
  }
 ],
 "metadata": {
  "kernelspec": {
   "display_name": "Python 3 (ipykernel)",
   "language": "python",
   "name": "python3"
  },
  "language_info": {
   "codemirror_mode": {
    "name": "ipython",
    "version": 3
   },
   "file_extension": ".py",
   "mimetype": "text/x-python",
   "name": "python",
   "nbconvert_exporter": "python",
   "pygments_lexer": "ipython3",
   "version": "3.8.13"
  }
 },
 "nbformat": 4,
 "nbformat_minor": 5
}
