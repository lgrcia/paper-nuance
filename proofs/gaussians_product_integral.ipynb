{
 "cells": [
  {
   "cell_type": "markdown",
   "id": "f4df18aa-42f2-48e3-ba83-7f2859c52935",
   "metadata": {},
   "source": [
    "# Gaussians product integral"
   ]
  },
  {
   "cell_type": "code",
   "execution_count": 2,
   "id": "81c0600a-0e9d-4734-8813-db4b68bb4bc7",
   "metadata": {},
   "outputs": [],
   "source": [
    "import sympy\n",
    "from sympy.stats import Normal, density\n",
    "from sympy import oo\n",
    "import numpy as np\n",
    "import matplotlib.pyplot as plt\n",
    "from scipy.integrate import quad"
   ]
  },
  {
   "cell_type": "markdown",
   "id": "241a5893-b8d0-4bfa-ac8d-59eccf69f76b",
   "metadata": {},
   "source": [
    "## Full-symbolic product of Gaussians"
   ]
  },
  {
   "cell_type": "code",
   "execution_count": 27,
   "id": "767e4cc4-6dea-4477-921a-d116e0c13e14",
   "metadata": {},
   "outputs": [
    {
     "data": {
      "text/plain": [
       "[<matplotlib.lines.Line2D at 0x12819cca0>]"
      ]
     },
     "execution_count": 27,
     "metadata": {},
     "output_type": "execute_result"
    },
    {
     "data": {
      "image/png": "[encoded data removed]",
      "text/plain": [
       "<Figure size 432x288 with 1 Axes>"
      ]
     },
     "metadata": {
      "needs_background": "light"
     },
     "output_type": "display_data"
    }
   ],
   "source": [
    "x = sympy.symbols('x', real=True)\n",
    "a = sympy.symbols(r\"\\Delta_k\", real=True)\n",
    "b = sympy.symbols(r\"\\bar\\Delta\", real=True)\n",
    "sa = sympy.symbols(\"\\sigma_k\", real=True, positive=True)\n",
    "sb = sympy.symbols(r\"\\bar\\sigma\", real=True, positive=True)\n",
    "amp_a, amp_b = sympy.symbols('A, B', real=True)\n",
    "\n",
    "A = amp_a * sympy.exp(-(1/2)*((x-a)**2)/(sa**2))\n",
    "B = amp_b * sympy.exp(-(1/2)*((x-b)**2)/(sb**2))\n",
    "\n",
    "full_product = A*B\n",
    "f_full_product = sympy.lambdify((x, amp_a, amp_b, a, b, sa, sb), full_product)\n",
    "\n",
    "_a, _b, _s, _amp_a, _amp_b = -0.25, 0.25, 0.15, 3., 2.\n",
    "_x = np.linspace(-2, 2, 5000)\n",
    "plt.plot(sympy.lambdify((x, amp_a, a, sa), A)(_x, _amp_a, _a, _s), c=\"k\", alpha=0.4)\n",
    "plt.plot(sympy.lambdify((x, amp_b, b, sb), B)(_x, _amp_b, _b, _s), c=\"k\", alpha=0.4)\n",
    "plt.plot(f_full_product(_x, _amp_a, _amp_b, _a, _b, _s, _s), c=\"k\")"
   ]
  },
  {
   "cell_type": "markdown",
   "id": "f3a7672b-a61f-4a3a-b036-a7578b650324",
   "metadata": {
    "tags": []
   },
   "source": [
    "### Integral"
   ]
  },
  {
   "cell_type": "code",
   "execution_count": 28,
   "id": "6bb15db9-1b94-4ccc-adbd-a37369bb9d9b",
   "metadata": {},
   "outputs": [],
   "source": [
    "integral_full_product = sympy.simplify(sympy.integrate(A*B, (x, -oo, oo)))\n",
    "full_symbolic_integral = sympy.lambdify((amp_a, amp_b, a, b, sa, sb), integral_full_product)"
   ]
  },
  {
   "cell_type": "code",
   "execution_count": 30,
   "id": "f29f0a4e-aa83-4fed-bc45-525d331bbb15",
   "metadata": {},
   "outputs": [
    {
     "data": {
      "text/latex": [
       "$\\displaystyle \\frac{1.4142135623731 \\sqrt{\\pi} A B \\bar\\sigma \\sigma_{k} e^{\\frac{- 0.5 \\Delta_{k}^{2} + 1.0 \\Delta_{k} \\bar\\Delta - 0.5 \\bar\\Delta^{2}}{\\bar\\sigma^{2} + \\sigma_{k}^{2}}}}{\\sqrt{\\bar\\sigma^{2} + \\sigma_{k}^{2}}}$"
      ],
      "text/plain": [
       "1.4142135623731*sqrt(pi)*A*B*\\bar\\sigma*\\sigma_k*exp((-0.5*\\Delta_k**2 + 1.0*\\Delta_k*\\bar\\Delta - 0.5*\\bar\\Delta**2)/(\\bar\\sigma**2 + \\sigma_k**2))/sqrt(\\bar\\sigma**2 + \\sigma_k**2)"
      ]
     },
     "execution_count": 30,
     "metadata": {},
     "output_type": "execute_result"
    }
   ],
   "source": [
    "sympy.simplify(integral_full_product)"
   ]
  },
  {
   "cell_type": "markdown",
   "id": "038ecb04-942c-4431-bcad-6d34af37114a",
   "metadata": {
    "tags": []
   },
   "source": [
    "## Semi-symbolic product of Gaussians"
   ]
  },
  {
   "cell_type": "code",
   "execution_count": 86,
   "id": "86205b7d-2684-4f5f-93b3-d1b40c0b06f5",
   "metadata": {},
   "outputs": [
    {
     "data": {
      "text/plain": [
       "[<matplotlib.lines.Line2D at 0x128979f60>]"
      ]
     },
     "execution_count": 86,
     "metadata": {},
     "output_type": "execute_result"
    },
    {
     "data": {
      "image/png": "[encoded data removed]",
      "text/plain": [
       "<Figure size 432x288 with 1 Axes>"
      ]
     },
     "metadata": {
      "needs_background": "light"
     },
     "output_type": "display_data"
    }
   ],
   "source": [
    "a_s = sympy.sqrt(1/(1/sa**2 + 1/sb**2))\n",
    "a_m = (a/sa**2 + b/sb**2)*a_s**2\n",
    "S = 1/sympy.sqrt(2*sympy.pi*sa**2 * sb**2/a_s**2)*sympy.exp(-(a-b)**2/(2*sa**2 * sb**2) * a_s**2)*(2*sympy.pi*sa*sb)\n",
    "\n",
    "semi_product = amp_a*amp_b*S*density(Normal(\"A\", a_m, a_s))(x)\n",
    "f_semi_product = sympy.lambdify((x, amp_a, amp_b, a, sa, b, sb), semi_product)\n",
    "\n",
    "plt.plot(f_full_product(_x, _amp_a, _amp_b, _a, _b, _s, _s), c=\"k\")\n",
    "plt.plot(f_semi_product(_x, _amp_a, _amp_b, _a, _s, _b, _s))"
   ]
  },
  {
   "cell_type": "code",
   "execution_count": 87,
   "id": "973945ea-5d87-4703-81da-2bbdbd8edde8",
   "metadata": {},
   "outputs": [
    {
     "data": {
      "text/latex": [
       "$\\displaystyle \\frac{\\sqrt{2} \\sqrt{\\pi} e^{- \\frac{\\left(\\Delta_{k} - \\bar\\Delta\\right)^{2}}{2 \\bar\\sigma^{2} \\sigma_{k}^{2} \\left(\\frac{1}{\\sigma_{k}^{2}} + \\frac{1}{\\bar\\sigma^{2}}\\right)}}}{\\sqrt{\\frac{1}{\\sigma_{k}^{2}} + \\frac{1}{\\bar\\sigma^{2}}}}$"
      ],
      "text/plain": [
       "sqrt(2)*sqrt(pi)*exp(-(\\Delta_k - \\bar\\Delta)**2/(2*\\bar\\sigma**2*\\sigma_k**2*(\\sigma_k**(-2) + \\bar\\sigma**(-2))))/sqrt(\\sigma_k**(-2) + \\bar\\sigma**(-2))"
      ]
     },
     "execution_count": 87,
     "metadata": {},
     "output_type": "execute_result"
    }
   ],
   "source": [
    "S"
   ]
  },
  {
   "cell_type": "markdown",
   "id": "002c3453-5ba0-4a0f-b61d-57b78253b174",
   "metadata": {},
   "source": [
    "The full and semi match at least visually"
   ]
  },
  {
   "cell_type": "markdown",
   "id": "33420c4f-a73d-404f-aad0-369d9e0a0748",
   "metadata": {
    "tags": []
   },
   "source": [
    "### Integral"
   ]
  },
  {
   "cell_type": "code",
   "execution_count": 88,
   "id": "5dd7d5e5-a8b5-401e-9bf5-27ed8c064faf",
   "metadata": {},
   "outputs": [],
   "source": [
    "integral_semi_product = sympy.simplify(sympy.integrate(semi_product, (x, -oo, oo)))\n",
    "semi_symbolic_integral = sympy.lambdify((amp_a, amp_b, a, b, sa, sb), integral_semi_product)"
   ]
  },
  {
   "cell_type": "markdown",
   "id": "18b1746d-2daf-4c83-8d8d-cf61a2797d11",
   "metadata": {},
   "source": [
    "## Numerical product of Gaussians"
   ]
  },
  {
   "cell_type": "code",
   "execution_count": 89,
   "id": "071ecc37-5e63-4da8-954f-3469a6bc142b",
   "metadata": {},
   "outputs": [],
   "source": [
    "def gauss(x, a=0, va=1.):\n",
    "    return np.exp(-0.5*np.square(a-x)/va)\n",
    "\n",
    "def numerical_product(x, A, B, a, b, va, vb):\n",
    "    return A*B*gauss(x, a, va)*gauss(x, b, vb)\n",
    "\n",
    "def numerical_integral(A, B, a, b, sa, sb):\n",
    "    va = sa**2\n",
    "    vb = sb**2\n",
    "    def f(x):\n",
    "        return numerical_product(x, A, B, a, b, va, vb)\n",
    "    \n",
    "    return quad(f, -np.inf, np.inf)"
   ]
  },
  {
   "cell_type": "markdown",
   "id": "b15149e6-835d-4e5c-a582-fe5652a6f0a7",
   "metadata": {},
   "source": [
    "## Analytical product of Gaussians (paper demo)"
   ]
  },
  {
   "cell_type": "code",
   "execution_count": 90,
   "id": "ce64a625-feed-40f6-9bfe-6645907f7100",
   "metadata": {},
   "outputs": [],
   "source": [
    "def analytical_integral(A, B, a, b, sa, sb):\n",
    "    va = sa**2\n",
    "    vb = sb**2\n",
    "    return np.exp(0.5*np.log(2*np.pi) - 0.5 * np.log(va + vb) + 0.5*np.log(va) + 0.5*np.log(vb) - 0.5*(((a-b)**2)/(va+vb)) + np.log(A) + np.log(B))"
   ]
  },
  {
   "cell_type": "code",
   "execution_count": 91,
   "id": "090272dd-9920-428f-9114-54cb7c7ead3e",
   "metadata": {},
   "outputs": [
    {
     "data": {
      "text/plain": [
       "0.9189385332046727"
      ]
     },
     "execution_count": 91,
     "metadata": {},
     "output_type": "execute_result"
    }
   ],
   "source": [
    "0.5*np.log(2*np.pi)"
   ]
  },
  {
   "cell_type": "markdown",
   "id": "401f8c1c-f7f3-4069-be1b-9f534914c2f3",
   "metadata": {},
   "source": [
    "## Tests"
   ]
  },
  {
   "cell_type": "code",
   "execution_count": 92,
   "id": "bf0a7ecc-8c70-4323-a690-f9ed95847ac3",
   "metadata": {},
   "outputs": [
    {
     "name": "stdout",
     "output_type": "stream",
     "text": [
      "Analytical \t 0.027566860376946542 True\n",
      "Semi-symbolic \t 0.02756686037694655 True\n",
      "Full-symbolic \t 0.02756686037694665 True\n"
     ]
    }
   ],
   "source": [
    "params = (0.3, 3., 4, 1, 1, 0.5)\n",
    "\n",
    "numerical, error = numerical_integral(*params)\n",
    "\n",
    "for f, n in zip([analytical_integral, semi_symbolic_integral, full_symbolic_integral], [\"Analytical\", \"Semi-symbolic\", \"Full-symbolic\"]):\n",
    "    v = f(*params)\n",
    "    print(n, \"\\t\", v, np.abs(v-numerical)<error)"
   ]
  },
  {
   "cell_type": "code",
   "execution_count": null,
   "id": "3de8c42c-dc4d-48be-a261-d659166f4fcc",
   "metadata": {},
   "outputs": [],
   "source": []
  }
 ],
 "metadata": {
  "kernelspec": {
   "display_name": "Python 3 (ipykernel)",
   "language": "python",
   "name": "python3"
  },
  "language_info": {
   "codemirror_mode": {
    "name": "ipython",
    "version": 3
   },
   "file_extension": ".py",
   "mimetype": "text/x-python",
   "name": "python",
   "nbconvert_exporter": "python",
   "pygments_lexer": "ipython3",
   "version": "3.10.4"
  }
 },
 "nbformat": 4,
 "nbformat_minor": 5
}
